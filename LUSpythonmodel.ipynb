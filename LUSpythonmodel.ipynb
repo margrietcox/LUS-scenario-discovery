{
 "cells": [
  {
   "cell_type": "code",
   "execution_count": 2,
   "metadata": {},
   "outputs": [
    {
     "name": "stderr",
     "output_type": "stream",
     "text": [
      "C:\\Users\\Admin_2\\Anaconda3\\lib\\importlib\\_bootstrap.py:219: ImportWarning: can't resolve package from __spec__ or __package__, falling back on __name__ and __path__\n",
      "  return f(*args, **kwds)\n"
     ]
    }
   ],
   "source": [
    "from subprocess import call\n",
    "import os\n",
    "import glob\n",
    "import numpy as np\n",
    "import pandas as pd\n",
    "import matplotlib.pyplot as plt\n",
    "from shutil import copyfile, move, copy, copytree, rmtree\n",
    "from distutils.dir_util import copy_tree\n",
    "from IPython.display import clear_output\n",
    "from tempfile import mkstemp\n",
    "from os import fdopen, remove\n",
    "\n",
    "from ema_workbench import (RealParameter, IntegerParameter, BooleanParameter, ScalarOutcome, ArrayOutcome, Constant, Model, MultiprocessingEvaluator, Policy, perform_experiments, ema_logging )\n",
    "from ema_workbench import (save_results, load_results)\n",
    "\n",
    "from functools import partial\n",
    "from multiprocessing import Pool, Lock\n",
    "import seaborn as sns\n",
    "import matplotlib.pyplot as plt\n",
    "%matplotlib inline\n",
    "\n",
    "import matplotlib.pyplot as plt\n",
    "from scipy import stats\n",
    "\n",
    "from numpy.lib import recfunctions as rf"
   ]
  },
  {
   "cell_type": "code",
   "execution_count": 3,
   "metadata": {},
   "outputs": [
    {
     "name": "stderr",
     "output_type": "stream",
     "text": [
      "C:\\Users\\Admin_2\\Anaconda3\\lib\\importlib\\_bootstrap.py:219: ImportWarning: can't resolve package from __spec__ or __package__, falling back on __name__ and __path__\n",
      "  return f(*args, **kwds)\n",
      "C:\\Users\\Admin_2\\Anaconda3\\lib\\importlib\\_bootstrap.py:219: ImportWarning: can't resolve package from __spec__ or __package__, falling back on __name__ and __path__\n",
      "  return f(*args, **kwds)\n"
     ]
    }
   ],
   "source": [
    "import io\n",
    "import math\n",
    "from io import StringIO\n",
    "\n",
    "import matplotlib.pyplot as plt\n",
    "import matplotlib.image as mpimg\n",
    "\n",
    "import numpy as np\n",
    "import pandas as pd\n",
    "\n",
    "from sklearn import tree\n",
    "\n",
    "\n",
    "from ema_workbench.util.ema_exceptions import EMAError\n",
    "from pygments.unistring import cats\n",
    "\n",
    "import graphviz\n",
    "\n",
    "import os\n",
    "\n",
    "os.environ['PATH'] = os.environ['PATH']+';'+os.environ['CONDA_PREFIX']+r\"\\Library\\bin\\graphviz\""
   ]
  },
  {
   "cell_type": "code",
   "execution_count": 4,
   "metadata": {},
   "outputs": [],
   "source": [
    "os.chdir(\"C:/Users/Admin_2/Documents/Thesis/LUS/DeltaScenarios_TUdelft1\")\n",
    "notebook_dir = os.getcwd()\n",
    "\n"
   ]
  },
  {
   "cell_type": "code",
   "execution_count": 3,
   "metadata": {},
   "outputs": [],
   "source": [
    "def geodmsrun(config, tree, geodms_dir = r\"C:/Program Files/ObjectVision/GeoDms7212\"): #change this to your GeoDms directory\n",
    "    \n",
    "    #change working directory\n",
    "    notebook_dir = os.getcwd()\n",
    "    os.chdir(geodms_dir)\n",
    "    assert os.path.isdir(geodms_dir)\n",
    "    \n",
    "    print(os.getcwd())\n",
    "    \n",
    "    #run the geodms\n",
    "    arg_exe = ['GeoDmsRun.exe', config, tree]\n",
    "    call(arg_exe)\n",
    "    \n",
    "    #change back the working directory\n",
    "    os.chdir(notebook_dir)\n",
    "    print(os.getcwd())\n",
    "    \n",
    "def find_line(file_path, pattern):\n",
    "    #Create temp file\n",
    "    lines = []\n",
    "    fh, abs_path = mkstemp()\n",
    "    with fdopen(fh,'w') as new_file:\n",
    "        with open(file_path) as old_file:\n",
    "            for line in old_file:\n",
    "                if pattern in line:\n",
    "                    lines.append(line)\n",
    "    return lines\n",
    "\n",
    "#Function which will determine the new line containing the new value:\n",
    "def new_line(beginline, line, new_val, endline):\n",
    "    newline = beginline + str(new_val) + line[line.find(endline):]\n",
    "    return newline\n",
    "\n",
    "#Function which actually replaces the value of demand\n",
    "def replace_line(beginline, file_path, pattern, new_val, endline):\n",
    "    #Create temp file\n",
    "    fh, abs_path = mkstemp()\n",
    "    with fdopen(fh,'w') as new_file:\n",
    "        with open(file_path) as old_file:\n",
    "            for line in old_file:\n",
    "                if line==pattern:\n",
    "                    subst = new_line(beginline, line, new_val, endline)\n",
    "                    new_file.write(line.replace(pattern, subst))\n",
    "                else:\n",
    "                    new_file.write(line)\n",
    "    #Remove original file\n",
    "    remove(file_path)\n",
    "    #Move new file\n",
    "    move(abs_path, file_path)\n"
   ]
  },
  {
   "cell_type": "markdown",
   "metadata": {},
   "source": [
    "## Changing the land use claims"
   ]
  },
  {
   "cell_type": "markdown",
   "metadata": {},
   "source": [
    "### Residential claim parameters\n",
    "Residential claim\n",
    "To be able to switch between de input of housing demand for each scenario, a few steps are taken:\n",
    "\n",
    "Four files are created in the source data (SD/claims), which each contain different housing demand generated by the TigrisXL model. These files are:\n",
    "\n",
    "- TigrisXL (hoog_spreiding)\n",
    "- TigrisXL2 (hoog_concentratie)\n",
    "- TigrisXL3 (laag_spreiding)\n",
    "- TigrisXL4 (laag_concentratie)\n",
    "\n",
    "Within these four files, the file which contains the housing demand per year is, in all four TigrisXL files, named \"hoog_spreiding\". This is done because we use the STOOM scenario as our default model run, which will only recognize files named \"hoog_spreiding\".\n",
    "\n",
    "Next, the actual housing demand in Ha is calculated using a density factor (DensityFactor) and an \"inbreidingsfractie\". So for each scenario, the corresponding values of these factors are:\n",
    "\n",
    "hoog_spreiding: DensityFactor = 1.0, Inbreidingsfractie = 0.25\n",
    "hoog_concentratie: DensityFactor = 1.33, Inbreidingsfractie = 0.75\n",
    "laag_spreiding: DensityFactor = 1.0, Inbreidingsfractie = 0.25\n",
    "laag_concentratie: DensityFactor = 1.33, Inbreidingsfractie = 0.75\n",
    "So, to change the housing claim input, we will run with the different TigrisXL files and using different density factors and inbreidingsfractie."
   ]
  },
  {
   "cell_type": "code",
   "execution_count": 4,
   "metadata": {},
   "outputs": [],
   "source": [
    "def changeresidentialclaim(TigrisXLfile, inbreiding, Density):\n",
    "    if TigrisXLfile == 1:\n",
    "        TLXfilename = 'TigrisXL'\n",
    "    elif TigrisXLfile == 2:\n",
    "        TLXfilename = 'TigrisXL2'\n",
    "    elif TigrisXLfile == 3:\n",
    "        TLXfilename = 'TigrisXL3'\n",
    "    else:\n",
    "        TLXfilename = 'TigrisXL4'\n",
    "    #Change TigrisXL file in claimswonen.dms and claimspopulation.dms\n",
    "    claimswonendms = notebook_dir+'/PD/cfg/stam/Templates/ClaimsWonen.dms'\n",
    "    claimspopulationdms = notebook_dir+'/PD/cfg/stam/Templates/ClaimsPopulation.dms'\n",
    "    houseclaimsearch = '%SourceDataProjDir%/Claims/Tigris'\n",
    "    housebeginline = '\\t\\t:\\tStorageName = \"=\\'%SourceDataProjDir%/Claims/'\n",
    "    houseendline = '/\\'+ ClaimSrcDir + \\'/landuse/landuse.dat\\'\"\\n'\n",
    "    popbeginline = '\\t\\t,\\tStorageName = \"=\\'%SourceDataProjDir%/Claims/'\n",
    "    popendline ='/\\'+ dirname + \\'/\\' + jaar + \\'/segs/segs.dbf\\'\"\\n'\n",
    "    \n",
    "    houseline = find_line(claimswonendms,houseclaimsearch)[0]\n",
    "    popline = find_line(claimspopulationdms, houseclaimsearch)[0]\n",
    "    \n",
    "    \n",
    "    #Change densityfactor and Infringement fraction in scenarios.dms\n",
    "    if inbreiding == True:\n",
    "        inbreidingvalue = 0.25\n",
    "    else:\n",
    "        inbreidingvalue = 0.75\n",
    "    \n",
    "    scenariosdms = notebook_dir+'/PD/cfg/stam/Classifications/Scenarios.dms'\n",
    "    \n",
    "    inbreidingclaimsearch = 'attribute<float32> Inbreidingsfractie'\n",
    "    inbreidingbeginline = '\\t\\t\\tattribute<float32> Inbreidingsfractie : ['\n",
    "    inbreidingendline = ', 0.75]'\n",
    "    \n",
    "    inbreidingline = find_line(scenariosdms, inbreidingclaimsearch)[0]\n",
    "    replace_line(inbreidingbeginline, scenariosdms, inbreidingline, inbreidingvalue, inbreidingendline)\n",
    "    \n",
    "    if Density == True:\n",
    "        densityvalue = 1.33\n",
    "    else:\n",
    "        densityvalue = 1.0\n",
    "    \n",
    "    densclaimsearch = 'attribute<float32> DensityFactor'\n",
    "    densline = find_line(scenariosdms, densclaimsearch)[0]\n",
    "    densbeginline = '\\t\\t\\tattribute<float32> DensityFactor: ['\n",
    "    densendline = ', 1.33]'\n",
    "    \n",
    "    \n",
    "    replace_line(housebeginline, claimswonendms, houseline, TLXfilename, houseendline)\n",
    "    replace_line(popbeginline, claimspopulationdms, popline, TLXfilename, popendline)\n",
    "    replace_line(densbeginline, scenariosdms, densline, densityvalue, densendline)\n",
    "    \n"
   ]
  },
  {
   "cell_type": "markdown",
   "metadata": {},
   "source": [
    "### Industry & commerce claim parameters\n",
    "To change the work claim, a few steps have to be taken: \n",
    "- Same as for housing claim, the four TigrisXL files are used and can be changed. \n",
    "- Next, with this function you can also change the location type preference (LVQ).Lastly, with this function you can also change the terraincoefficient (TYQ). LVQ and TYQ go together and are not to change seperately. For this reason, both variable are determined with \"Claimfile\". This variable, Claimfile, will determing which file the LVQ and TYQ are read from. \n",
    "\n",
    "TigrisXL files (TigrisXLfile):\n",
    "- See Residential claim \n",
    "\n",
    "Claim files (Claimfilename):\n",
    "- Claims (True) = Hoog scenario\n",
    "- Claims2 (False) = Laag scenario"
   ]
  },
  {
   "cell_type": "code",
   "execution_count": 5,
   "metadata": {},
   "outputs": [],
   "source": [
    "def changeworkclaim(TigrisXLfile, Claimfile):\n",
    "    if TigrisXLfile == 1:\n",
    "        TLXfilename = 'TigrisXL'\n",
    "    elif TigrisXLfile == 2:\n",
    "        TLXfilename = 'TigrisXL2'\n",
    "    elif TigrisXLfile == 3:\n",
    "        TLXfilename = 'TigrisXL3'\n",
    "    else:\n",
    "        TLXfilename = 'TigrisXL4'\n",
    "    #Change work claim source data\n",
    "    claimswerkendms = notebook_dir+'/PD/cfg/stam/Templates/ClaimsWerken.dms'\n",
    "    workclaimsearch = '%SourceDataProjDir%/Claims/Tigris'\n",
    "    workline = find_line(claimswerkendms, workclaimsearch)[0]\n",
    "    workbeginline = '\\t\\t:\\tStorageName = \"=\\'%SourceDataProjDir%/Claims/'\n",
    "    workendline = '/\\'+ dirname + \\'/\\' + jaar + \\'/labour/labour.dat\\'\"\\n'\n",
    "    replace_line( workbeginline, claimswerkendms, workline, TLXfilename, workendline)\n",
    "   \n",
    "    if Claimfile == True:\n",
    "        Claimfilename = 'Claims'\n",
    "    else:\n",
    "        Claimfilename = 'Claims2'\n",
    "\n",
    "    #Change LVQ & TYQ files \n",
    "    LVQreadsearch = '%SourceDataProjDir%/Claims'\n",
    "    LVQline = find_line(claimswerkendms,LVQreadsearch )[1]\n",
    "    LVQbeginline = '\\t\\t:\\tStorageName = \"=\\'%SourceDataProjDir%/'\n",
    "    LVQendline = '/\\'+ dirname + \\'/\\'+ jaar + \\'/\\'+ filename +\\'\\'\"\\n'\n",
    "    \n",
    "    \n",
    "    TYQline = find_line(claimswerkendms,LVQreadsearch )[2]\n",
    "    TYQbeginline = '\\t\\t:\\tStorageName = \"=\\'%SourceDataProjDir%/'\n",
    "    TYQendline = '/\\'+ dirname + \\'/\\'+ jaar + \\'/\\'+ filename +\\'\\'\"\\n'\n",
    "    \n",
    "    \n",
    "    replace_line( TYQbeginline, claimswerkendms,  TYQline, Claimfilename, TYQendline)\n",
    "    replace_line( workbeginline, claimswerkendms, workline, TLXfilename, workendline)\n",
    "    replace_line( LVQbeginline, claimswerkendms, LVQline, Claimfilename, LVQendline)"
   ]
  },
  {
   "cell_type": "markdown",
   "metadata": {},
   "source": [
    "### Nature claim parameters\n",
    "Nature claim values (natureclaim):\n",
    "- value 1 = 106000 (DRUK)\n",
    "- value 2 = 75000 (STOOM)\n",
    "- value 3 = 5000 (WARM & RUST)"
   ]
  },
  {
   "cell_type": "code",
   "execution_count": 6,
   "metadata": {},
   "outputs": [],
   "source": [
    "def changenatureclaim(natureclaim):\n",
    "    if natureclaim == 1:\n",
    "        natureha = 106000\n",
    "    elif natureclaim == 2:\n",
    "        natureha = 75000\n",
    "    else: \n",
    "        natureha = 5000\n",
    "    \n",
    "    Naturedms = notebook_dir+'/PD/cfg/stam/Claims/TotalenInBron.dms' #change to location file\n",
    "    Natureclaimsearch = 'attribute<claimHa> STOOM  := Nl/ID == 1[uint8] ?' #line of code it will look for to find where parameter should be changed\n",
    "    naturebeginline = str('\\t\\t\\t\\tattribute<claimHa> STOOM  := Nl/ID == 1[uint8] ?  ') #how the line should look before the parameter value\n",
    "    natureendline = str('[claimHa]') # how the line should look after the parameter value\n",
    "    natureline = find_line(Naturedms, Natureclaimsearch)[0]\n",
    "    \n",
    "    \n",
    "    replace_line(naturebeginline, Naturedms, natureline, natureha, natureendline ) #replaces the line"
   ]
  },
  {
   "cell_type": "markdown",
   "metadata": {},
   "source": [
    "### Recreation claim parameters\n",
    "Recreation claim (recvalue):\n",
    "- True = GE (hoog scenario)\n",
    "- False = RC (laag scenario) "
   ]
  },
  {
   "cell_type": "code",
   "execution_count": 7,
   "metadata": {},
   "outputs": [],
   "source": [
    "def changerecreationclaim(recvalue):\n",
    "    if recvalue == True:\n",
    "        GEorRC = 'GE'\n",
    "    else:\n",
    "        GEorRC = 'RC'\n",
    "    recreationdms = notebook_dir+'/PD/cfg/stam/Claims/TotalenInBron/Verblijfsrecreatie.dms'\n",
    "    recreationclaimsearch = '%SourceDataProjDir%/Claims/Ruimte/verblijfsrec_'\n",
    "    recline = find_line(recreationdms, recreationclaimsearch)[0]\n",
    "    recbeginline = '        \", \\'NaarCases(\\'+quote(\\'%SourceDataProjDir%/Claims/Ruimte/verblijfsrec_'\n",
    "    recendline = '_provincie'\n",
    "    \n",
    "    \n",
    "    replace_line(recbeginline, recreationdms, recline, GEorRC, recendline)"
   ]
  },
  {
   "cell_type": "markdown",
   "metadata": {},
   "source": [
    "### Agriculture claim parameters\n",
    "For all agrclaim values:\n",
    "- True = hoog scenario\n",
    "- False = laag scenario\n"
   ]
  },
  {
   "cell_type": "code",
   "execution_count": 8,
   "metadata": {},
   "outputs": [],
   "source": [
    "def changeagricultureclaim(agrclaim):\n",
    "    \n",
    "    agrdms = notebook_dir+'/PD/cfg/stam/Claims/TotalenInBron/AgrIntens.dms'\n",
    "    \n",
    "    if agrclaim == True:\n",
    "        glastuinbouwdecrease = 0.1\n",
    "        opengroentenha = 27100\n",
    "        bloembollenha = 23600\n",
    "        boomgaardha = 17300\n",
    "        boomteeltha = 17100\n",
    "    else:\n",
    "        glastuinbouwdecrease  = 0.3\n",
    "        opengroentenha = 22100\n",
    "        bloembollenha = 21200\n",
    "        boomgaardha = 15400\n",
    "        boomteeltha = 15400\n",
    "        \n",
    "    agrclaimsearch5 = 'attribute<ggHa> agr_glastuinbouw'\n",
    "    agrbeginline5 = str('\\t\\t\\tattribute<ggHa> agr_glastuinbouw (NL):= NL/ID == 1[uint8] ? InBasisjaar/In2011/agr_glastuinbouw + -')\n",
    "    agrendline5 = '[float32]'\n",
    "    agrline5 = find_line(agrdms, agrclaimsearch5)[1]\n",
    "    \n",
    "        \n",
    "    agrclaimsearch1 = 'attribute<ggHa> agr_OpenGroenten (NL):= NL/ID == 1[uint8] ?'\n",
    "    agrbeginline1 = str('\\t\\t\\tattribute<ggHa> agr_OpenGroenten (NL):= NL/ID == 1[uint8] ? ')\n",
    "    agrendline = '[ggHa]'\n",
    "    agrline1 = find_line(agrdms, agrclaimsearch1)[1]\n",
    "    \n",
    "    \n",
    "    agrclaimsearch2 = 'attribute<ggHa> agr_bloembollen'\n",
    "    agrbeginline2 = str('\\t\\t\\tattribute<ggHa> agr_bloembollen  (NL):= NL/ID == 1[uint8] ? ')\n",
    "    agrline2 = find_line(agrdms, agrclaimsearch2)[1]\n",
    "    \n",
    "    \n",
    "    \n",
    "    agrclaimsearch3 = 'attribute<ggHa> agr_boomgaard'\n",
    "    agrbeginline3 = str('\\t\\t\\tattribute<ggHa> agr_boomgaard    (NL):= NL/ID == 1[uint8] ? ')\n",
    "    agrline3 = find_line(agrdms, agrclaimsearch3)[1]\n",
    "    \n",
    "    \n",
    "    \n",
    "    agrclaimsearch4 = 'attribute<ggHa> agr_boomteelt'\n",
    "    agrbeginline4 = str('\\t\\t\\tattribute<ggHa> agr_boomteelt    (NL):= NL/ID == 1[uint8] ? ')\n",
    "    agrline4 = find_line(agrdms, agrclaimsearch4)[1]\n",
    "    \n",
    "    replace_line(agrbeginline1, agrdms, agrline1, opengroentenha, agrendline)\n",
    "    replace_line(agrbeginline5, agrdms, agrline5, glastuinbouwdecrease, agrendline5)\n",
    "    replace_line(agrbeginline4, agrdms, agrline4, boomteeltha, agrendline)\n",
    "    replace_line(agrbeginline2, agrdms, agrline2, bloembollenha, agrendline)\n",
    "    replace_line(agrbeginline3, agrdms, agrline3, boomgaardha, agrendline)\n",
    "    \n",
    "    "
   ]
  },
  {
   "cell_type": "markdown",
   "metadata": {},
   "source": [
    "## Changing the suitability"
   ]
  },
  {
   "cell_type": "code",
   "execution_count": 9,
   "metadata": {},
   "outputs": [],
   "source": [
    "def naturesuitability(valuenaturelocation, policyweightnature, pumping):\n",
    "    #changing the location factor value \n",
    "    if valuenaturelocation == 1:\n",
    "        locationweight = '0.0'\n",
    "        scenario1 = 'STOOM,'\n",
    "        scenario2 = 'DRUK'\n",
    "    elif valuenaturelocation == 2: \n",
    "        locationweight = 'woongebied/locatie'\n",
    "        scenario1 = 'STOOM,'\n",
    "        scenario2 = 'DRUK'\n",
    "    else:\n",
    "        locationweight = '0.0'\n",
    "        scenario1 = 'DRUK,'\n",
    "        scenario2 = 'STOOM'\n",
    "        \n",
    "    suitabilitynaturedms = notebook_dir+'/PD/cfg/stam/Templates/geschiktheid/natuur.dms'\n",
    "\n",
    "    #changing the scenario:\n",
    "    scenario1search = 'Scenario == /ScenarioUnit/V/'\n",
    "    scenario1line = find_line(suitabilitynaturedms,scenario1search )[0]\n",
    "    scenario1beginline = '\\t\\t\\t\\tScenario == /ScenarioUnit/V/'\n",
    "    scenario1endline = '\\n'\n",
    "   \n",
    "\n",
    "    scenario2search = 'Scenario == /ScenarioUnit/V/'\n",
    "    scenario2line = find_line(suitabilitynaturedms,scenario1search )[1]\n",
    "    scenario2beginline = '\\t\\t\\t\\tScenario == /ScenarioUnit/V/'\n",
    "    scenario2endline =  ' || Scenario == /ScenarioUnit/V/PARIJS,\\n'\n",
    "    \n",
    "    \n",
    "    #changing location factor value weight:\n",
    "    locationweightsearch = 'value('\n",
    "    locationweightline = find_line(suitabilitynaturedms,locationweightsearch )[3]\n",
    "    locationweightbeginline = '\\t\\t\\t\\tvalue('\n",
    "    locationweightendline = ', Eur_M2_jaarlijks)'\n",
    "   \n",
    "    \n",
    "    #changing the policy stimuli weight: \n",
    "    if policyweightnature == True:\n",
    "        policyweightnaturevalue = 5.0\n",
    "    else:\n",
    "        policyweightnaturevalue = 0.0\n",
    "    \n",
    "    policyweightsearch = 'value('\n",
    "    policyline = find_line(suitabilitynaturedms,policyweightsearch)[7]\n",
    "    policybeginline = '\\t\\t\\t\\tvalue('\n",
    "    policyendline = ', Eur_M2_jaarlijks)\\n'\n",
    "   \n",
    "    \n",
    "    #changing fysical policy model structure:\n",
    "    if pumping == True:\n",
    "        pumppolicy = 'Bronnen/endstate/PotentieNat/PotentieNatPercentage'\n",
    "    else:\n",
    "        pumppolicy = 'Omgeving/natuurlandschap/NatuurAdaptatie/potentie_nathuidig'\n",
    "        \n",
    "    #Changing the pump policy: \n",
    "    pumppolicysearch = '//omdat in dit scenario wel wordt gepompt'\n",
    "    pumppolicyline = find_line(suitabilitynaturedms,pumppolicysearch)[0]\n",
    "    pumppolicybeginline = '\\t\\t\\t\\t\\t\\t'\n",
    "    pumppolicyendline =  '//omdat in dit scenario wel wordt gepompt bij bodemdaling\\n'\n",
    "    \n",
    "    replace_line(policybeginline, suitabilitynaturedms, policyline, policyweightnaturevalue,  policyendline)\n",
    "    replace_line( locationweightbeginline, suitabilitynaturedms, locationweightline, locationweight, locationweightendline)\n",
    "    replace_line( scenario2beginline, suitabilitynaturedms, scenario2line, scenario2, scenario2endline)\n",
    "    replace_line( scenario1beginline, suitabilitynaturedms, scenario1line, scenario1, scenario1endline)\n",
    "    replace_line( pumppolicybeginline, suitabilitynaturedms, pumppolicyline, pumppolicy, pumppolicyendline)\n",
    "\n",
    "    "
   ]
  },
  {
   "cell_type": "code",
   "execution_count": 10,
   "metadata": {},
   "outputs": [],
   "source": [
    "def changenaturepolicy(naturepolicymap, restrictionnatureweight):\n",
    "    if naturepolicymap == 1:\n",
    "        naturepolicy = 'RobuustVitaal_natuur' #or ehs_uitgekleed or functionele_natuur\n",
    "    elif naturepolicymap == 2:\n",
    "        naturepolicy = 'ehs_uitgekleed'\n",
    "    else:\n",
    "        naturepolicy = 'functionele_natuur'\n",
    "    \n",
    "    #change policy maps nature\n",
    "    suitabilitynaturedms = notebook_dir+'/PD/cfg/stam/Templates/geschiktheid/natuur.dms'\n",
    "    policynaturesearch = '(Beleid/NatuurLandschap/'\n",
    "    naturepolicyline = find_line(suitabilitynaturedms,policynaturesearch)[0]\n",
    "    naturepolicybeginline = '\\t\\t\\t\\t\\t(Beleid/NatuurLandschap/'\n",
    "    naturepolicyendline =  ' >= 0[Classifications/Beleid/ndt_multi]\\n'\n",
    "   \n",
    "    \n",
    "    policyrestrictionsdms = notebook_dir+'/PD/cfg/stam/Templates/geschiktheid/beleid_restricties.dms'\n",
    "    restrictionnaturepolicysearch = '\"&& Beleid/NatuurLandschap/'\n",
    "    restrnaturepolicyline = find_line(policyrestrictionsdms,restrictionnaturepolicysearch)[0]\n",
    "    restrnaturepolicybeginline = '\\t\\t\\t\\t\"&& Beleid/NatuurLandschap/'\n",
    "    restrnaturepolicyendline =  ' >= 0[Classifications/Beleid/ndt_multi]\"\\n'\n",
    "   \n",
    "    \n",
    "    #change wieght policy restriction\n",
    "    if restrictionnatureweight == True:\n",
    "        restrictionnatureweightvalue = 30.0\n",
    "    else:\n",
    "        restrictionnatureweightvalue = 0.0\n",
    "        \n",
    "    restrictionnaturesearch = '\",  value('\n",
    "    restrictionnatureline = find_line(policyrestrictionsdms,restrictionnaturesearch)[2]\n",
    "    restrictionnaturebeginline = '\\t\\t\\t\\t\",  value('\n",
    "    restrictionnatureendline = ', Eur_M2_jaarlijks)\"\\n'\n",
    "    \n",
    "    \n",
    "    replace_line(naturepolicybeginline, suitabilitynaturedms, naturepolicyline, naturepolicy,  naturepolicyendline)\n",
    "    replace_line(restrictionnaturebeginline, policyrestrictionsdms, restrictionnatureline, restrictionnatureweightvalue,  restrictionnatureendline)\n",
    "    replace_line(restrnaturepolicybeginline, policyrestrictionsdms, restrnaturepolicyline, naturepolicy, restrnaturepolicyendline)"
   ]
  },
  {
   "cell_type": "code",
   "execution_count": 11,
   "metadata": {},
   "outputs": [],
   "source": [
    "def changehousingsuitability(spreidingratio):\n",
    "    if spreidingratio == True: \n",
    "        ratio = 0.5\n",
    "    else:\n",
    "        ratio = 1.0\n",
    "    #Changing the spread ratio:\n",
    "    housingsuitabilitydms = notebook_dir+'/PD/cfg/stam/Templates/geschiktheid/woongebied.dms'\n",
    "    spreidingratiosearch = 'iif(Spreiding'\n",
    "    spreidingratioline = find_line(housingsuitabilitydms,spreidingratiosearch)[0]\n",
    "    spreidingratiobeginline = '\\t\\t* iif(Spreiding, value('\n",
    "    spreidingratioendline = ', Ratio), value(1.0, Ratio))\\n'\n",
    "    \n",
    "    \n",
    "    replace_line( spreidingratiobeginline, housingsuitabilitydms,  spreidingratioline, ratio, spreidingratioendline)   "
   ]
  },
  {
   "cell_type": "markdown",
   "metadata": {},
   "source": [
    "## Defining the model"
   ]
  },
  {
   "cell_type": "code",
   "execution_count": 12,
   "metadata": {},
   "outputs": [],
   "source": [
    "def LUS_model(TigrisXLfile, inbreiding, Density, Claimfile, natureclaim, recvalue, restrictionnatureweight, naturepolicymap, policyweightnature, spreidingratio, valuenaturelocation, pumping, agrclaim):\n",
    "    \n",
    "    changeresidentialclaim(TigrisXLfile, inbreiding, Density)\n",
    "    changeworkclaim(TigrisXLfile, Claimfile)\n",
    "    changenatureclaim(natureclaim)\n",
    "    changerecreationclaim(recvalue)\n",
    "    changeagricultureclaim(agrclaim)\n",
    "    \n",
    "    naturesuitability(valuenaturelocation, policyweightnature, pumping)\n",
    "    changehousingsuitability(spreidingratio)\n",
    "    changenaturepolicy(naturepolicymap, restrictionnatureweight)\n",
    "  \n",
    "    \n",
    "    \n",
    "    #runmodel\n",
    "    \n",
    "    config = notebook_dir+'/PD/cfg/stam.dms'\n",
    "    tree = '/EndResults/PerScenTimeUnit/STOOM_Y2012_Y2050/Run1'\n",
    "\n",
    "    geodmsrun(config, tree)\n",
    "    \n",
    "    \n",
    "    src = notebook_dir+'/PD/cfg/stam/results/run1.asc'\n",
    "    \n",
    "    lusmap = np.loadtxt(src, skiprows=6)\n",
    "    \n",
    "    dummy = np.max(lusmap)\n",
    "    \n",
    "    return lusmap, dummy"
   ]
  },
  {
   "cell_type": "markdown",
   "metadata": {},
   "source": [
    "### Experimental and output set-up"
   ]
  },
  {
   "cell_type": "code",
   "execution_count": 13,
   "metadata": {},
   "outputs": [],
   "source": [
    "ema_logging.log_to_stderr(ema_logging.INFO)\n",
    "    \n",
    "LUSmodel = Model('LUS', function=LUS_model)\n",
    "    \n",
    "LUSmodel.uncertainties = [  BooleanParameter('agrclaim'),\n",
    "                            IntegerParameter('TigrisXLfile', 1, 4),\n",
    "                            BooleanParameter('inbreiding'),\n",
    "                            BooleanParameter('Density'),\n",
    "                            BooleanParameter('Claimfile'),\n",
    "                            IntegerParameter('natureclaim', 1, 3),\n",
    "                            BooleanParameter('recvalue'),\n",
    "                            BooleanParameter('restrictionnatureweight'),\n",
    "                            IntegerParameter('naturepolicymap', 1, 3),\n",
    "                            BooleanParameter('policyweightnature'),\n",
    "                            BooleanParameter('spreidingratio'),\n",
    "                            IntegerParameter('valuenaturelocation', 1, 3),\n",
    "                            BooleanParameter('pumping')]\n",
    "                                    \n",
    "                               \n",
    "                             \n",
    "\n",
    "LUSmodel.outcomes = [ArrayOutcome('lusmap')]\n",
    "    \n",
    "n_scenarios = 10\n",
    "    "
   ]
  },
  {
   "cell_type": "code",
   "execution_count": 15,
   "metadata": {
    "scrolled": true
   },
   "outputs": [
    {
     "name": "stderr",
     "output_type": "stream",
     "text": [
      "[MainProcess/INFO] performing 10 scenarios * 1 policies * 1 model(s) = 10 experiments\n",
      "[MainProcess/INFO] performing experiments sequentially\n"
     ]
    },
    {
     "name": "stdout",
     "output_type": "stream",
     "text": [
      "C:\\Program Files\\ObjectVision\\GeoDms7212\n",
      "C:\\Users\\Admin_2\\Documents\\Thesis\\LUS\\DeltaScenarios_TUdelft1\n"
     ]
    },
    {
     "name": "stderr",
     "output_type": "stream",
     "text": [
      "[MainProcess/INFO] 1 cases completed\n"
     ]
    },
    {
     "name": "stdout",
     "output_type": "stream",
     "text": [
      "C:\\Program Files\\ObjectVision\\GeoDms7212\n",
      "C:\\Users\\Admin_2\\Documents\\Thesis\\LUS\\DeltaScenarios_TUdelft1\n"
     ]
    },
    {
     "name": "stderr",
     "output_type": "stream",
     "text": [
      "[MainProcess/INFO] 2 cases completed\n"
     ]
    },
    {
     "name": "stdout",
     "output_type": "stream",
     "text": [
      "C:\\Program Files\\ObjectVision\\GeoDms7212\n",
      "C:\\Users\\Admin_2\\Documents\\Thesis\\LUS\\DeltaScenarios_TUdelft1\n"
     ]
    },
    {
     "name": "stderr",
     "output_type": "stream",
     "text": [
      "[MainProcess/INFO] 3 cases completed\n"
     ]
    },
    {
     "name": "stdout",
     "output_type": "stream",
     "text": [
      "C:\\Program Files\\ObjectVision\\GeoDms7212\n",
      "C:\\Users\\Admin_2\\Documents\\Thesis\\LUS\\DeltaScenarios_TUdelft1\n"
     ]
    },
    {
     "name": "stderr",
     "output_type": "stream",
     "text": [
      "[MainProcess/INFO] 4 cases completed\n"
     ]
    },
    {
     "name": "stdout",
     "output_type": "stream",
     "text": [
      "C:\\Program Files\\ObjectVision\\GeoDms7212\n",
      "C:\\Users\\Admin_2\\Documents\\Thesis\\LUS\\DeltaScenarios_TUdelft1\n"
     ]
    },
    {
     "name": "stderr",
     "output_type": "stream",
     "text": [
      "[MainProcess/INFO] 5 cases completed\n"
     ]
    },
    {
     "name": "stdout",
     "output_type": "stream",
     "text": [
      "C:\\Program Files\\ObjectVision\\GeoDms7212\n",
      "C:\\Users\\Admin_2\\Documents\\Thesis\\LUS\\DeltaScenarios_TUdelft1\n"
     ]
    },
    {
     "name": "stderr",
     "output_type": "stream",
     "text": [
      "[MainProcess/INFO] 6 cases completed\n"
     ]
    },
    {
     "name": "stdout",
     "output_type": "stream",
     "text": [
      "C:\\Program Files\\ObjectVision\\GeoDms7212\n",
      "C:\\Users\\Admin_2\\Documents\\Thesis\\LUS\\DeltaScenarios_TUdelft1\n"
     ]
    },
    {
     "name": "stderr",
     "output_type": "stream",
     "text": [
      "[MainProcess/INFO] 7 cases completed\n"
     ]
    },
    {
     "name": "stdout",
     "output_type": "stream",
     "text": [
      "C:\\Program Files\\ObjectVision\\GeoDms7212\n",
      "C:\\Users\\Admin_2\\Documents\\Thesis\\LUS\\DeltaScenarios_TUdelft1\n"
     ]
    },
    {
     "name": "stderr",
     "output_type": "stream",
     "text": [
      "[MainProcess/INFO] 8 cases completed\n"
     ]
    },
    {
     "name": "stdout",
     "output_type": "stream",
     "text": [
      "C:\\Program Files\\ObjectVision\\GeoDms7212\n",
      "C:\\Users\\Admin_2\\Documents\\Thesis\\LUS\\DeltaScenarios_TUdelft1\n"
     ]
    },
    {
     "name": "stderr",
     "output_type": "stream",
     "text": [
      "[MainProcess/INFO] 9 cases completed\n"
     ]
    },
    {
     "name": "stdout",
     "output_type": "stream",
     "text": [
      "C:\\Program Files\\ObjectVision\\GeoDms7212\n",
      "C:\\Users\\Admin_2\\Documents\\Thesis\\LUS\\DeltaScenarios_TUdelft1\n"
     ]
    },
    {
     "name": "stderr",
     "output_type": "stream",
     "text": [
      "[MainProcess/INFO] 10 cases completed\n",
      "[MainProcess/INFO] experiments finished\n",
      "[MainProcess/INFO] results saved successfully to C:\\Users\\Admin_2\\Documents\\Thesis\\LUS\\DeltaScenarios_TUdelft1\\02_6_10.tar.gz\n"
     ]
    }
   ],
   "source": [
    "results = perform_experiments(LUSmodel, n_scenarios)\n",
    "    \n",
    "save_results(results, \"02_6_10.tar.gz\")"
   ]
  },
  {
   "cell_type": "code",
   "execution_count": 16,
   "metadata": {},
   "outputs": [],
   "source": [
    "experiments, outcomes = results"
   ]
  },
  {
   "cell_type": "code",
   "execution_count": 17,
   "metadata": {},
   "outputs": [],
   "source": [
    "ooi = outcomes['lusmap']"
   ]
  },
  {
   "cell_type": "code",
   "execution_count": 18,
   "metadata": {},
   "outputs": [],
   "source": [
    "ooi2 = ooi.astype(int) #probably have to change to integer in batches\n"
   ]
  },
  {
   "cell_type": "markdown",
   "metadata": {},
   "source": [
    "### Load results\n",
    "\n",
    "Load results and define ooi. "
   ]
  },
  {
   "cell_type": "code",
   "execution_count": 13,
   "metadata": {},
   "outputs": [
    {
     "name": "stdout",
     "output_type": "stream",
     "text": [
      "resultsready\n"
     ]
    }
   ],
   "source": [
    "results2 = load_results(\"02_6_10.tar.gz\")\n",
    "print('resultsready')\n",
    "experiments, outcomes = results2\n",
    "ooi2 = outcomes['lusmap'].astype(int)"
   ]
  },
  {
   "cell_type": "markdown",
   "metadata": {},
   "source": [
    "### Kappa results & clustering"
   ]
  },
  {
   "cell_type": "markdown",
   "metadata": {},
   "source": [
    "#### Load kappa results"
   ]
  },
  {
   "cell_type": "code",
   "execution_count": 5,
   "metadata": {},
   "outputs": [],
   "source": [
    "kappa_df = pd.read_csv('C:/Users/Admin_2/Documents/Thesis/LUS/kappa_file111.csv')"
   ]
  },
  {
   "cell_type": "code",
   "execution_count": 6,
   "metadata": {
    "scrolled": true
   },
   "outputs": [
    {
     "data": {
      "text/html": [
       "<div>\n",
       "<style scoped>\n",
       "    .dataframe tbody tr th:only-of-type {\n",
       "        vertical-align: middle;\n",
       "    }\n",
       "\n",
       "    .dataframe tbody tr th {\n",
       "        vertical-align: top;\n",
       "    }\n",
       "\n",
       "    .dataframe thead th {\n",
       "        text-align: right;\n",
       "    }\n",
       "</style>\n",
       "<table border=\"1\" class=\"dataframe\">\n",
       "  <thead>\n",
       "    <tr style=\"text-align: right;\">\n",
       "      <th></th>\n",
       "      <th>0</th>\n",
       "      <th>1</th>\n",
       "      <th>2</th>\n",
       "      <th>3</th>\n",
       "      <th>4</th>\n",
       "      <th>5</th>\n",
       "      <th>6</th>\n",
       "      <th>7</th>\n",
       "      <th>8</th>\n",
       "      <th>9</th>\n",
       "    </tr>\n",
       "  </thead>\n",
       "  <tbody>\n",
       "    <tr>\n",
       "      <th>0</th>\n",
       "      <td>1.000000</td>\n",
       "      <td>0.964564</td>\n",
       "      <td>0.969547</td>\n",
       "      <td>0.928251</td>\n",
       "      <td>0.962136</td>\n",
       "      <td>0.939242</td>\n",
       "      <td>0.950439</td>\n",
       "      <td>0.965253</td>\n",
       "      <td>0.985021</td>\n",
       "      <td>0.929484</td>\n",
       "    </tr>\n",
       "    <tr>\n",
       "      <th>1</th>\n",
       "      <td>0.964564</td>\n",
       "      <td>1.000000</td>\n",
       "      <td>0.956800</td>\n",
       "      <td>0.930153</td>\n",
       "      <td>0.981858</td>\n",
       "      <td>0.938576</td>\n",
       "      <td>0.943670</td>\n",
       "      <td>0.955799</td>\n",
       "      <td>0.968928</td>\n",
       "      <td>0.956167</td>\n",
       "    </tr>\n",
       "    <tr>\n",
       "      <th>2</th>\n",
       "      <td>0.969547</td>\n",
       "      <td>0.956800</td>\n",
       "      <td>1.000000</td>\n",
       "      <td>0.946972</td>\n",
       "      <td>0.943934</td>\n",
       "      <td>0.960666</td>\n",
       "      <td>0.963095</td>\n",
       "      <td>0.942443</td>\n",
       "      <td>0.974512</td>\n",
       "      <td>0.945622</td>\n",
       "    </tr>\n",
       "    <tr>\n",
       "      <th>3</th>\n",
       "      <td>0.928251</td>\n",
       "      <td>0.930153</td>\n",
       "      <td>0.946972</td>\n",
       "      <td>1.000000</td>\n",
       "      <td>0.917599</td>\n",
       "      <td>0.933130</td>\n",
       "      <td>0.956387</td>\n",
       "      <td>0.919795</td>\n",
       "      <td>0.938685</td>\n",
       "      <td>0.946442</td>\n",
       "    </tr>\n",
       "    <tr>\n",
       "      <th>4</th>\n",
       "      <td>0.962136</td>\n",
       "      <td>0.981858</td>\n",
       "      <td>0.943934</td>\n",
       "      <td>0.917599</td>\n",
       "      <td>1.000000</td>\n",
       "      <td>0.928206</td>\n",
       "      <td>0.928108</td>\n",
       "      <td>0.958709</td>\n",
       "      <td>0.955837</td>\n",
       "      <td>0.944264</td>\n",
       "    </tr>\n",
       "    <tr>\n",
       "      <th>5</th>\n",
       "      <td>0.939242</td>\n",
       "      <td>0.938576</td>\n",
       "      <td>0.960666</td>\n",
       "      <td>0.933130</td>\n",
       "      <td>0.928206</td>\n",
       "      <td>1.000000</td>\n",
       "      <td>0.936150</td>\n",
       "      <td>0.932199</td>\n",
       "      <td>0.944524</td>\n",
       "      <td>0.927697</td>\n",
       "    </tr>\n",
       "    <tr>\n",
       "      <th>6</th>\n",
       "      <td>0.950439</td>\n",
       "      <td>0.943670</td>\n",
       "      <td>0.963095</td>\n",
       "      <td>0.956387</td>\n",
       "      <td>0.928108</td>\n",
       "      <td>0.936150</td>\n",
       "      <td>1.000000</td>\n",
       "      <td>0.928580</td>\n",
       "      <td>0.960386</td>\n",
       "      <td>0.963330</td>\n",
       "    </tr>\n",
       "    <tr>\n",
       "      <th>7</th>\n",
       "      <td>0.965253</td>\n",
       "      <td>0.955799</td>\n",
       "      <td>0.942443</td>\n",
       "      <td>0.919795</td>\n",
       "      <td>0.958709</td>\n",
       "      <td>0.932199</td>\n",
       "      <td>0.928580</td>\n",
       "      <td>1.000000</td>\n",
       "      <td>0.958110</td>\n",
       "      <td>0.923557</td>\n",
       "    </tr>\n",
       "    <tr>\n",
       "      <th>8</th>\n",
       "      <td>0.985021</td>\n",
       "      <td>0.968928</td>\n",
       "      <td>0.974512</td>\n",
       "      <td>0.938685</td>\n",
       "      <td>0.955837</td>\n",
       "      <td>0.944524</td>\n",
       "      <td>0.960386</td>\n",
       "      <td>0.958110</td>\n",
       "      <td>1.000000</td>\n",
       "      <td>0.940217</td>\n",
       "    </tr>\n",
       "    <tr>\n",
       "      <th>9</th>\n",
       "      <td>0.929484</td>\n",
       "      <td>0.956167</td>\n",
       "      <td>0.945622</td>\n",
       "      <td>0.946442</td>\n",
       "      <td>0.944264</td>\n",
       "      <td>0.927697</td>\n",
       "      <td>0.963330</td>\n",
       "      <td>0.923557</td>\n",
       "      <td>0.940217</td>\n",
       "      <td>1.000000</td>\n",
       "    </tr>\n",
       "  </tbody>\n",
       "</table>\n",
       "</div>"
      ],
      "text/plain": [
       "          0         1         2         3         4         5         6  \\\n",
       "0  1.000000  0.964564  0.969547  0.928251  0.962136  0.939242  0.950439   \n",
       "1  0.964564  1.000000  0.956800  0.930153  0.981858  0.938576  0.943670   \n",
       "2  0.969547  0.956800  1.000000  0.946972  0.943934  0.960666  0.963095   \n",
       "3  0.928251  0.930153  0.946972  1.000000  0.917599  0.933130  0.956387   \n",
       "4  0.962136  0.981858  0.943934  0.917599  1.000000  0.928206  0.928108   \n",
       "5  0.939242  0.938576  0.960666  0.933130  0.928206  1.000000  0.936150   \n",
       "6  0.950439  0.943670  0.963095  0.956387  0.928108  0.936150  1.000000   \n",
       "7  0.965253  0.955799  0.942443  0.919795  0.958709  0.932199  0.928580   \n",
       "8  0.985021  0.968928  0.974512  0.938685  0.955837  0.944524  0.960386   \n",
       "9  0.929484  0.956167  0.945622  0.946442  0.944264  0.927697  0.963330   \n",
       "\n",
       "          7         8         9  \n",
       "0  0.965253  0.985021  0.929484  \n",
       "1  0.955799  0.968928  0.956167  \n",
       "2  0.942443  0.974512  0.945622  \n",
       "3  0.919795  0.938685  0.946442  \n",
       "4  0.958709  0.955837  0.944264  \n",
       "5  0.932199  0.944524  0.927697  \n",
       "6  0.928580  0.960386  0.963330  \n",
       "7  1.000000  0.958110  0.923557  \n",
       "8  0.958110  1.000000  0.940217  \n",
       "9  0.923557  0.940217  1.000000  "
      ]
     },
     "execution_count": 6,
     "metadata": {},
     "output_type": "execute_result"
    }
   ],
   "source": [
    "kappa_df = kappa_df.drop(columns=['Unnamed: 0'])\n",
    "kappa_df\n"
   ]
  },
  {
   "cell_type": "code",
   "execution_count": 7,
   "metadata": {
    "scrolled": false
   },
   "outputs": [
    {
     "data": {
      "text/html": [
       "<div>\n",
       "<style scoped>\n",
       "    .dataframe tbody tr th:only-of-type {\n",
       "        vertical-align: middle;\n",
       "    }\n",
       "\n",
       "    .dataframe tbody tr th {\n",
       "        vertical-align: top;\n",
       "    }\n",
       "\n",
       "    .dataframe thead th {\n",
       "        text-align: right;\n",
       "    }\n",
       "</style>\n",
       "<table border=\"1\" class=\"dataframe\">\n",
       "  <thead>\n",
       "    <tr style=\"text-align: right;\">\n",
       "      <th></th>\n",
       "      <th>0</th>\n",
       "      <th>1</th>\n",
       "      <th>2</th>\n",
       "      <th>3</th>\n",
       "      <th>4</th>\n",
       "      <th>5</th>\n",
       "      <th>6</th>\n",
       "      <th>7</th>\n",
       "      <th>8</th>\n",
       "      <th>9</th>\n",
       "    </tr>\n",
       "  </thead>\n",
       "  <tbody>\n",
       "    <tr>\n",
       "      <th>0</th>\n",
       "      <td>2.220446e-16</td>\n",
       "      <td>0.035436</td>\n",
       "      <td>3.045346e-02</td>\n",
       "      <td>0.071749</td>\n",
       "      <td>0.037864</td>\n",
       "      <td>0.060758</td>\n",
       "      <td>0.049561</td>\n",
       "      <td>0.034747</td>\n",
       "      <td>1.497882e-02</td>\n",
       "      <td>0.070516</td>\n",
       "    </tr>\n",
       "    <tr>\n",
       "      <th>1</th>\n",
       "      <td>3.543569e-02</td>\n",
       "      <td>0.000000</td>\n",
       "      <td>4.319963e-02</td>\n",
       "      <td>0.069847</td>\n",
       "      <td>0.018142</td>\n",
       "      <td>0.061424</td>\n",
       "      <td>0.056330</td>\n",
       "      <td>0.044201</td>\n",
       "      <td>3.107247e-02</td>\n",
       "      <td>0.043833</td>\n",
       "    </tr>\n",
       "    <tr>\n",
       "      <th>2</th>\n",
       "      <td>3.045346e-02</td>\n",
       "      <td>0.043200</td>\n",
       "      <td>2.220446e-16</td>\n",
       "      <td>0.053028</td>\n",
       "      <td>0.056066</td>\n",
       "      <td>0.039334</td>\n",
       "      <td>0.036905</td>\n",
       "      <td>0.057557</td>\n",
       "      <td>2.548771e-02</td>\n",
       "      <td>0.054378</td>\n",
       "    </tr>\n",
       "    <tr>\n",
       "      <th>3</th>\n",
       "      <td>7.174880e-02</td>\n",
       "      <td>0.069847</td>\n",
       "      <td>5.302786e-02</td>\n",
       "      <td>0.000000</td>\n",
       "      <td>0.082401</td>\n",
       "      <td>0.066870</td>\n",
       "      <td>0.043613</td>\n",
       "      <td>0.080205</td>\n",
       "      <td>6.131480e-02</td>\n",
       "      <td>0.053558</td>\n",
       "    </tr>\n",
       "    <tr>\n",
       "      <th>4</th>\n",
       "      <td>3.786417e-02</td>\n",
       "      <td>0.018142</td>\n",
       "      <td>5.606570e-02</td>\n",
       "      <td>0.082401</td>\n",
       "      <td>0.000000</td>\n",
       "      <td>0.071794</td>\n",
       "      <td>0.071892</td>\n",
       "      <td>0.041291</td>\n",
       "      <td>4.416332e-02</td>\n",
       "      <td>0.055736</td>\n",
       "    </tr>\n",
       "    <tr>\n",
       "      <th>5</th>\n",
       "      <td>6.075826e-02</td>\n",
       "      <td>0.061424</td>\n",
       "      <td>3.933408e-02</td>\n",
       "      <td>0.066870</td>\n",
       "      <td>0.071794</td>\n",
       "      <td>0.000000</td>\n",
       "      <td>0.063850</td>\n",
       "      <td>0.067801</td>\n",
       "      <td>5.547628e-02</td>\n",
       "      <td>0.072303</td>\n",
       "    </tr>\n",
       "    <tr>\n",
       "      <th>6</th>\n",
       "      <td>4.956073e-02</td>\n",
       "      <td>0.056330</td>\n",
       "      <td>3.690515e-02</td>\n",
       "      <td>0.043613</td>\n",
       "      <td>0.071892</td>\n",
       "      <td>0.063850</td>\n",
       "      <td>0.000000</td>\n",
       "      <td>0.071420</td>\n",
       "      <td>3.961362e-02</td>\n",
       "      <td>0.036670</td>\n",
       "    </tr>\n",
       "    <tr>\n",
       "      <th>7</th>\n",
       "      <td>3.474738e-02</td>\n",
       "      <td>0.044201</td>\n",
       "      <td>5.755747e-02</td>\n",
       "      <td>0.080205</td>\n",
       "      <td>0.041291</td>\n",
       "      <td>0.067801</td>\n",
       "      <td>0.071420</td>\n",
       "      <td>0.000000</td>\n",
       "      <td>4.188978e-02</td>\n",
       "      <td>0.076443</td>\n",
       "    </tr>\n",
       "    <tr>\n",
       "      <th>8</th>\n",
       "      <td>1.497882e-02</td>\n",
       "      <td>0.031072</td>\n",
       "      <td>2.548771e-02</td>\n",
       "      <td>0.061315</td>\n",
       "      <td>0.044163</td>\n",
       "      <td>0.055476</td>\n",
       "      <td>0.039614</td>\n",
       "      <td>0.041890</td>\n",
       "      <td>2.220446e-16</td>\n",
       "      <td>0.059783</td>\n",
       "    </tr>\n",
       "    <tr>\n",
       "      <th>9</th>\n",
       "      <td>7.051583e-02</td>\n",
       "      <td>0.043833</td>\n",
       "      <td>5.437778e-02</td>\n",
       "      <td>0.053558</td>\n",
       "      <td>0.055736</td>\n",
       "      <td>0.072303</td>\n",
       "      <td>0.036670</td>\n",
       "      <td>0.076443</td>\n",
       "      <td>5.978319e-02</td>\n",
       "      <td>0.000000</td>\n",
       "    </tr>\n",
       "  </tbody>\n",
       "</table>\n",
       "</div>"
      ],
      "text/plain": [
       "              0         1             2         3         4         5  \\\n",
       "0  2.220446e-16  0.035436  3.045346e-02  0.071749  0.037864  0.060758   \n",
       "1  3.543569e-02  0.000000  4.319963e-02  0.069847  0.018142  0.061424   \n",
       "2  3.045346e-02  0.043200  2.220446e-16  0.053028  0.056066  0.039334   \n",
       "3  7.174880e-02  0.069847  5.302786e-02  0.000000  0.082401  0.066870   \n",
       "4  3.786417e-02  0.018142  5.606570e-02  0.082401  0.000000  0.071794   \n",
       "5  6.075826e-02  0.061424  3.933408e-02  0.066870  0.071794  0.000000   \n",
       "6  4.956073e-02  0.056330  3.690515e-02  0.043613  0.071892  0.063850   \n",
       "7  3.474738e-02  0.044201  5.755747e-02  0.080205  0.041291  0.067801   \n",
       "8  1.497882e-02  0.031072  2.548771e-02  0.061315  0.044163  0.055476   \n",
       "9  7.051583e-02  0.043833  5.437778e-02  0.053558  0.055736  0.072303   \n",
       "\n",
       "          6         7             8         9  \n",
       "0  0.049561  0.034747  1.497882e-02  0.070516  \n",
       "1  0.056330  0.044201  3.107247e-02  0.043833  \n",
       "2  0.036905  0.057557  2.548771e-02  0.054378  \n",
       "3  0.043613  0.080205  6.131480e-02  0.053558  \n",
       "4  0.071892  0.041291  4.416332e-02  0.055736  \n",
       "5  0.063850  0.067801  5.547628e-02  0.072303  \n",
       "6  0.000000  0.071420  3.961362e-02  0.036670  \n",
       "7  0.071420  0.000000  4.188978e-02  0.076443  \n",
       "8  0.039614  0.041890  2.220446e-16  0.059783  \n",
       "9  0.036670  0.076443  5.978319e-02  0.000000  "
      ]
     },
     "execution_count": 7,
     "metadata": {},
     "output_type": "execute_result"
    }
   ],
   "source": [
    "#kappa_df3 = kappa_df[kappa_df.columns[1:]]\n",
    "kappa_df = 1 - kappa_df #change to distance matrix. lower value -> less distance -> more similar\n",
    "kappa_df[kappa_df<0]=0\n",
    "kappa_df"
   ]
  },
  {
   "cell_type": "code",
   "execution_count": 8,
   "metadata": {},
   "outputs": [
    {
     "data": {
      "text/plain": [
       "<matplotlib.axes._subplots.AxesSubplot at 0x28270c101d0>"
      ]
     },
     "execution_count": 8,
     "metadata": {},
     "output_type": "execute_result"
    },
    {
     "data": {
      "image/png": "[encoded data removed]",
      "text/plain": [
       "<Figure size 432x288 with 2 Axes>"
      ]
     },
     "metadata": {},
     "output_type": "display_data"
    }
   ],
   "source": [
    "sns.heatmap(kappa_df)"
   ]
  },
  {
   "cell_type": "markdown",
   "metadata": {},
   "source": [
    "#### Cluster the results"
   ]
  },
  {
   "cell_type": "code",
   "execution_count": 128,
   "metadata": {},
   "outputs": [],
   "source": [
    "from sklearn.cluster import AgglomerativeClustering\n",
    "clustering = AgglomerativeClustering(n_clusters=3, affinity='precomputed', linkage='complete').fit_predict(kappa_df)\n",
    "#np.unique(clustering.labels_, return_counts=True)"
   ]
  },
  {
   "cell_type": "code",
   "execution_count": 130,
   "metadata": {},
   "outputs": [],
   "source": [
    "x = experiments\n",
    "y = clustering"
   ]
  },
  {
   "cell_type": "code",
   "execution_count": 131,
   "metadata": {},
   "outputs": [
    {
     "data": {
      "text/plain": [
       "<Logger EMA (DEBUG)>"
      ]
     },
     "execution_count": 131,
     "metadata": {},
     "output_type": "execute_result"
    }
   ],
   "source": [
    "import matplotlib.pyplot as plt\n",
    "\n",
    "import ema_workbench.analysis.cart as cart\n",
    "from ema_workbench import ema_logging, load_results\n",
    "from ema_workbench.analysis import (cart, RuleInductionType)\n",
    "\n",
    "ema_logging.log_to_stderr(level=ema_logging.INFO)"
   ]
  },
  {
   "cell_type": "code",
   "execution_count": 132,
   "metadata": {},
   "outputs": [],
   "source": [
    "cart_alg = cart.CART(x, y, mass_min = 0.5, mode = RuleInductionType.CLASSIFICATION)"
   ]
  },
  {
   "cell_type": "code",
   "execution_count": 133,
   "metadata": {},
   "outputs": [],
   "source": [
    "cart_alg.build_tree()"
   ]
  },
  {
   "cell_type": "code",
   "execution_count": 134,
   "metadata": {},
   "outputs": [
    {
     "data": {
      "text/html": [
       "<div>\n",
       "<style scoped>\n",
       "    .dataframe tbody tr th:only-of-type {\n",
       "        vertical-align: middle;\n",
       "    }\n",
       "\n",
       "    .dataframe tbody tr th {\n",
       "        vertical-align: top;\n",
       "    }\n",
       "\n",
       "    .dataframe thead th {\n",
       "        text-align: right;\n",
       "    }\n",
       "</style>\n",
       "<table border=\"1\" class=\"dataframe\">\n",
       "  <thead>\n",
       "    <tr style=\"text-align: right;\">\n",
       "      <th></th>\n",
       "      <th>box_composition</th>\n",
       "      <th>gini</th>\n",
       "      <th>mass</th>\n",
       "      <th>res dim</th>\n",
       "    </tr>\n",
       "  </thead>\n",
       "  <tbody>\n",
       "    <tr>\n",
       "      <th>box 1</th>\n",
       "      <td>[1, 3, 1]</td>\n",
       "      <td>0.56</td>\n",
       "      <td>0.5</td>\n",
       "      <td>1</td>\n",
       "    </tr>\n",
       "    <tr>\n",
       "      <th>box 2</th>\n",
       "      <td>[5, 0, 0]</td>\n",
       "      <td>0.00</td>\n",
       "      <td>0.5</td>\n",
       "      <td>1</td>\n",
       "    </tr>\n",
       "  </tbody>\n",
       "</table>\n",
       "</div>"
      ],
      "text/plain": [
       "      box_composition  gini  mass  res dim\n",
       "box 1       [1, 3, 1]  0.56   0.5        1\n",
       "box 2       [5, 0, 0]  0.00   0.5        1"
      ]
     },
     "execution_count": 134,
     "metadata": {},
     "output_type": "execute_result"
    }
   ],
   "source": [
    "cart_alg.stats_to_dataframe()"
   ]
  },
  {
   "cell_type": "code",
   "execution_count": 135,
   "metadata": {},
   "outputs": [
    {
     "data": {
      "text/html": [
       "<div>\n",
       "<style scoped>\n",
       "    .dataframe tbody tr th:only-of-type {\n",
       "        vertical-align: middle;\n",
       "    }\n",
       "\n",
       "    .dataframe tbody tr th {\n",
       "        vertical-align: top;\n",
       "    }\n",
       "\n",
       "    .dataframe thead tr th {\n",
       "        text-align: left;\n",
       "    }\n",
       "</style>\n",
       "<table border=\"1\" class=\"dataframe\">\n",
       "  <thead>\n",
       "    <tr>\n",
       "      <th></th>\n",
       "      <th colspan=\"2\" halign=\"left\">box 1</th>\n",
       "      <th colspan=\"2\" halign=\"left\">box 2</th>\n",
       "    </tr>\n",
       "    <tr>\n",
       "      <th></th>\n",
       "      <th>min</th>\n",
       "      <th>max</th>\n",
       "      <th>min</th>\n",
       "      <th>max</th>\n",
       "    </tr>\n",
       "  </thead>\n",
       "  <tbody>\n",
       "    <tr>\n",
       "      <th>TigrisXLfile</th>\n",
       "      <td>1</td>\n",
       "      <td>2.5</td>\n",
       "      <td>2.5</td>\n",
       "      <td>4</td>\n",
       "    </tr>\n",
       "  </tbody>\n",
       "</table>\n",
       "</div>"
      ],
      "text/plain": [
       "             box 1      box 2    \n",
       "               min  max   min max\n",
       "TigrisXLfile     1  2.5   2.5   4"
      ]
     },
     "execution_count": 135,
     "metadata": {},
     "output_type": "execute_result"
    }
   ],
   "source": [
    "cart_alg.boxes_to_dataframe()"
   ]
  },
  {
   "cell_type": "code",
   "execution_count": 136,
   "metadata": {},
   "outputs": [
    {
     "data": {
      "image/png": "[encoded data removed]",
      "text/plain": [
       "<Figure size 432x288 with 1 Axes>"
      ]
     },
     "metadata": {},
     "output_type": "display_data"
    },
    {
     "data": {
      "image/png": "[encoded data removed]",
      "text/plain": [
       "<Figure size 432x288 with 1 Axes>"
      ]
     },
     "metadata": {},
     "output_type": "display_data"
    }
   ],
   "source": [
    "cart_alg.show_boxes(together=False)\n",
    "plt.show()"
   ]
  },
  {
   "cell_type": "code",
   "execution_count": 139,
   "metadata": {},
   "outputs": [
    {
     "data": {
      "image/png": "[encoded data removed]",
      "text/plain": [
       "<Figure size 720x720 with 1 Axes>"
      ]
     },
     "metadata": {},
     "output_type": "display_data"
    }
   ],
   "source": [
    "tree = cart_alg.show_tree()\n",
    "fig = plt.gcf()\n",
    "fig.set_size_inches(10,10)\n",
    "plt.show()"
   ]
  },
  {
   "cell_type": "code",
   "execution_count": null,
   "metadata": {},
   "outputs": [],
   "source": []
  }
 ],
 "metadata": {
  "kernelspec": {
   "display_name": "Python 3",
   "language": "python",
   "name": "python3"
  },
  "language_info": {
   "codemirror_mode": {
    "name": "ipython",
    "version": 3
   },
   "file_extension": ".py",
   "mimetype": "text/x-python",
   "name": "python",
   "nbconvert_exporter": "python",
   "pygments_lexer": "ipython3",
   "version": "3.6.5"
  }
 },
 "nbformat": 4,
 "nbformat_minor": 2
}
