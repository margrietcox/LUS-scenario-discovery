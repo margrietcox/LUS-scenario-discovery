{
 "cells": [
  {
   "cell_type": "code",
   "execution_count": 1,
   "metadata": {},
   "outputs": [
    {
     "name": "stderr",
     "output_type": "stream",
     "text": [
      "C:\\Users\\Admin_2\\Anaconda3\\lib\\importlib\\_bootstrap.py:219: ImportWarning:\n",
      "\n",
      "can't resolve package from __spec__ or __package__, falling back on __name__ and __path__\n",
      "\n",
      "C:\\Users\\Admin_2\\Anaconda3\\lib\\site-packages\\distributed\\config.py:63: YAMLLoadWarning:\n",
      "\n",
      "calling yaml.load() without Loader=... is deprecated, as the default Loader is unsafe. Please read https://msg.pyyaml.org/load for full details.\n",
      "\n",
      "C:\\Users\\Admin_2\\Anaconda3\\lib\\importlib\\_bootstrap.py:219: ImportWarning:\n",
      "\n",
      "can't resolve package from __spec__ or __package__, falling back on __name__ and __path__\n",
      "\n",
      "C:\\Users\\Admin_2\\Anaconda3\\lib\\importlib\\_bootstrap.py:219: ImportWarning:\n",
      "\n",
      "can't resolve package from __spec__ or __package__, falling back on __name__ and __path__\n",
      "\n"
     ]
    }
   ],
   "source": [
    "from subprocess import call\n",
    "import os\n",
    "import glob\n",
    "import numpy as np\n",
    "import pandas as pd\n",
    "import matplotlib.pyplot as plt\n",
    "from shutil import copyfile, move, copy, copytree, rmtree\n",
    "from distutils.dir_util import copy_tree\n",
    "from IPython.display import clear_output\n",
    "from tempfile import mkstemp\n",
    "from os import fdopen, remove\n",
    "from sklearn import metrics\n",
    "import plotly\n",
    "from ema_workbench import (RealParameter, IntegerParameter, BooleanParameter, ScalarOutcome, ArrayOutcome, Constant, Model, MultiprocessingEvaluator, Policy, perform_experiments, ema_logging )\n",
    "from ema_workbench import (save_results, load_results, experiments_to_scenarios)\n",
    "from ema_workbench.em_framework import (sample_uncertainties)\n",
    "\n",
    "from functools import partial\n",
    "from multiprocessing import Pool, Lock\n",
    "import seaborn as sns\n",
    "%matplotlib inline\n",
    "import plotly.express as px\n",
    "\n",
    "import matplotlib.pyplot as plt\n",
    "from scipy import stats\n",
    "\n",
    "from numpy.lib import recfunctions as rf\n",
    "\n",
    "import ema_workbench.analysis.cart as cart\n",
    "from ema_workbench import ema_logging, load_results\n",
    "from ema_workbench.analysis import (cart, RuleInductionType)\n",
    "\n",
    "ema_logging.log_to_stderr(level=ema_logging.INFO)\n",
    "\n",
    "import io\n",
    "import math\n",
    "from io import StringIO\n",
    "\n",
    "import matplotlib.pyplot as plt\n",
    "import matplotlib.image as mpimg\n",
    "\n",
    "from sklearn import tree\n",
    "\n",
    "\n",
    "from ema_workbench.util.ema_exceptions import EMAError\n",
    "from pygments.unistring import cats\n",
    "\n",
    "import numpy as np\n",
    "import matplotlib.mlab as mlab\n",
    "import matplotlib.pyplot as plt\n",
    "\n",
    "from scipy.cluster.hierarchy import dendrogram, linkage\n",
    "from scipy.spatial.distance import squareform\n",
    "import matplotlib.pyplot as plt\n",
    "import seaborn as sns\n",
    "\n",
    "import numpy as np\n",
    "import pandas as pd\n",
    "import matplotlib.pyplot as plt\n",
    "from sklearn.cluster import AgglomerativeClustering\n",
    "from scipy.spatial.distance import squareform\n",
    "\n",
    "import os\n",
    "\n",
    "os.environ['PATH'] = os.environ['PATH']+';'+os.environ['CONDA_PREFIX']+r\"\\Library\\bin\\graphviz\""
   ]
  },
  {
   "cell_type": "code",
   "execution_count": 2,
   "metadata": {},
   "outputs": [],
   "source": [
    "df = pd.read_csv('C:/Users/Admin_2/Documents/Thesis/NewExperiments/KAPPADFGOOD.csv')\n",
    "df = df.drop(['Unnamed: 0'], axis=1)\n",
    "kappa_df1 = 1-df\n",
    "kappa_df = df"
   ]
  },
  {
   "cell_type": "code",
   "execution_count": 3,
   "metadata": {
    "scrolled": true
   },
   "outputs": [
    {
     "data": {
      "text/html": [
       "<div>\n",
       "<style scoped>\n",
       "    .dataframe tbody tr th:only-of-type {\n",
       "        vertical-align: middle;\n",
       "    }\n",
       "\n",
       "    .dataframe tbody tr th {\n",
       "        vertical-align: top;\n",
       "    }\n",
       "\n",
       "    .dataframe thead th {\n",
       "        text-align: right;\n",
       "    }\n",
       "</style>\n",
       "<table border=\"1\" class=\"dataframe\">\n",
       "  <thead>\n",
       "    <tr style=\"text-align: right;\">\n",
       "      <th></th>\n",
       "      <th>extracted_slicenew1_/map500exp_0.csv</th>\n",
       "      <th>extracted_slicenew1_/map500exp_1.csv</th>\n",
       "      <th>extracted_slicenew1_/map500exp_2.csv</th>\n",
       "      <th>extracted_slicenew1_/map500exp_3.csv</th>\n",
       "      <th>extracted_slicenew1_/map500exp_4.csv</th>\n",
       "      <th>extracted_slicenew1_/map500exp_5.csv</th>\n",
       "      <th>extracted_slicenew1_/map500exp_6.csv</th>\n",
       "      <th>extracted_slicenew1_/map500exp_7.csv</th>\n",
       "      <th>extracted_slicenew1_/map500exp_8.csv</th>\n",
       "      <th>extracted_slicenew1_/map500exp_9.csv</th>\n",
       "      <th>...</th>\n",
       "      <th>extracted_slicenew3_/map500exp_340.csv</th>\n",
       "      <th>extracted_slicenew3_/map500exp_341.csv</th>\n",
       "      <th>extracted_slicenew3_/map500exp_342.csv</th>\n",
       "      <th>extracted_slicenew3_/map500exp_343.csv</th>\n",
       "      <th>extracted_slicenew3_/map500exp_344.csv</th>\n",
       "      <th>extracted_slicenew3_/map500exp_345.csv</th>\n",
       "      <th>extracted_slicenew3_/map500exp_346.csv</th>\n",
       "      <th>extracted_slicenew3_/map500exp_347.csv</th>\n",
       "      <th>extracted_slicenew3_/map500exp_348.csv</th>\n",
       "      <th>extracted_slicenew3_/map500exp_349.csv</th>\n",
       "    </tr>\n",
       "  </thead>\n",
       "  <tbody>\n",
       "    <tr>\n",
       "      <th>0</th>\n",
       "      <td>1.000000</td>\n",
       "      <td>0.927875</td>\n",
       "      <td>0.942511</td>\n",
       "      <td>0.931897</td>\n",
       "      <td>0.939273</td>\n",
       "      <td>0.946078</td>\n",
       "      <td>0.934771</td>\n",
       "      <td>0.944584</td>\n",
       "      <td>0.942711</td>\n",
       "      <td>0.932976</td>\n",
       "      <td>...</td>\n",
       "      <td>0.955830</td>\n",
       "      <td>0.925306</td>\n",
       "      <td>0.956752</td>\n",
       "      <td>0.966566</td>\n",
       "      <td>0.930061</td>\n",
       "      <td>0.945237</td>\n",
       "      <td>0.936171</td>\n",
       "      <td>0.957550</td>\n",
       "      <td>0.957400</td>\n",
       "      <td>0.930341</td>\n",
       "    </tr>\n",
       "    <tr>\n",
       "      <th>1</th>\n",
       "      <td>0.927875</td>\n",
       "      <td>1.000000</td>\n",
       "      <td>0.943371</td>\n",
       "      <td>0.965900</td>\n",
       "      <td>0.977306</td>\n",
       "      <td>0.958790</td>\n",
       "      <td>0.961273</td>\n",
       "      <td>0.941832</td>\n",
       "      <td>0.917822</td>\n",
       "      <td>0.959163</td>\n",
       "      <td>...</td>\n",
       "      <td>0.918922</td>\n",
       "      <td>0.964475</td>\n",
       "      <td>0.929958</td>\n",
       "      <td>0.924436</td>\n",
       "      <td>0.954996</td>\n",
       "      <td>0.948925</td>\n",
       "      <td>0.934336</td>\n",
       "      <td>0.913822</td>\n",
       "      <td>0.946663</td>\n",
       "      <td>0.957269</td>\n",
       "    </tr>\n",
       "    <tr>\n",
       "      <th>2</th>\n",
       "      <td>0.942511</td>\n",
       "      <td>0.943371</td>\n",
       "      <td>1.000000</td>\n",
       "      <td>0.946871</td>\n",
       "      <td>0.950439</td>\n",
       "      <td>0.965415</td>\n",
       "      <td>0.951432</td>\n",
       "      <td>0.978658</td>\n",
       "      <td>0.933429</td>\n",
       "      <td>0.951685</td>\n",
       "      <td>...</td>\n",
       "      <td>0.924385</td>\n",
       "      <td>0.945234</td>\n",
       "      <td>0.942013</td>\n",
       "      <td>0.944416</td>\n",
       "      <td>0.961028</td>\n",
       "      <td>0.975346</td>\n",
       "      <td>0.950012</td>\n",
       "      <td>0.931515</td>\n",
       "      <td>0.946990</td>\n",
       "      <td>0.952958</td>\n",
       "    </tr>\n",
       "    <tr>\n",
       "      <th>3</th>\n",
       "      <td>0.931897</td>\n",
       "      <td>0.965900</td>\n",
       "      <td>0.946871</td>\n",
       "      <td>1.000000</td>\n",
       "      <td>0.967556</td>\n",
       "      <td>0.972512</td>\n",
       "      <td>0.976845</td>\n",
       "      <td>0.944956</td>\n",
       "      <td>0.933282</td>\n",
       "      <td>0.979824</td>\n",
       "      <td>...</td>\n",
       "      <td>0.941035</td>\n",
       "      <td>0.972560</td>\n",
       "      <td>0.933133</td>\n",
       "      <td>0.924591</td>\n",
       "      <td>0.951799</td>\n",
       "      <td>0.960213</td>\n",
       "      <td>0.949374</td>\n",
       "      <td>0.920666</td>\n",
       "      <td>0.946184</td>\n",
       "      <td>0.961463</td>\n",
       "    </tr>\n",
       "    <tr>\n",
       "      <th>4</th>\n",
       "      <td>0.939273</td>\n",
       "      <td>0.977306</td>\n",
       "      <td>0.950439</td>\n",
       "      <td>0.967556</td>\n",
       "      <td>1.000000</td>\n",
       "      <td>0.961154</td>\n",
       "      <td>0.967418</td>\n",
       "      <td>0.950714</td>\n",
       "      <td>0.920633</td>\n",
       "      <td>0.963751</td>\n",
       "      <td>...</td>\n",
       "      <td>0.919045</td>\n",
       "      <td>0.969336</td>\n",
       "      <td>0.934213</td>\n",
       "      <td>0.928771</td>\n",
       "      <td>0.966182</td>\n",
       "      <td>0.955256</td>\n",
       "      <td>0.939875</td>\n",
       "      <td>0.914989</td>\n",
       "      <td>0.955889</td>\n",
       "      <td>0.960120</td>\n",
       "    </tr>\n",
       "    <tr>\n",
       "      <th>5</th>\n",
       "      <td>0.946078</td>\n",
       "      <td>0.958790</td>\n",
       "      <td>0.965415</td>\n",
       "      <td>0.972512</td>\n",
       "      <td>0.961154</td>\n",
       "      <td>1.000000</td>\n",
       "      <td>0.965752</td>\n",
       "      <td>0.963279</td>\n",
       "      <td>0.939556</td>\n",
       "      <td>0.965437</td>\n",
       "      <td>...</td>\n",
       "      <td>0.949335</td>\n",
       "      <td>0.959031</td>\n",
       "      <td>0.948582</td>\n",
       "      <td>0.936317</td>\n",
       "      <td>0.948104</td>\n",
       "      <td>0.978023</td>\n",
       "      <td>0.956163</td>\n",
       "      <td>0.933440</td>\n",
       "      <td>0.955785</td>\n",
       "      <td>0.952940</td>\n",
       "    </tr>\n",
       "    <tr>\n",
       "      <th>6</th>\n",
       "      <td>0.934771</td>\n",
       "      <td>0.961273</td>\n",
       "      <td>0.951432</td>\n",
       "      <td>0.976845</td>\n",
       "      <td>0.967418</td>\n",
       "      <td>0.965752</td>\n",
       "      <td>1.000000</td>\n",
       "      <td>0.949232</td>\n",
       "      <td>0.939657</td>\n",
       "      <td>0.990039</td>\n",
       "      <td>...</td>\n",
       "      <td>0.937407</td>\n",
       "      <td>0.987994</td>\n",
       "      <td>0.931268</td>\n",
       "      <td>0.929131</td>\n",
       "      <td>0.958879</td>\n",
       "      <td>0.965587</td>\n",
       "      <td>0.959248</td>\n",
       "      <td>0.926582</td>\n",
       "      <td>0.940231</td>\n",
       "      <td>0.970815</td>\n",
       "    </tr>\n",
       "    <tr>\n",
       "      <th>7</th>\n",
       "      <td>0.944584</td>\n",
       "      <td>0.941832</td>\n",
       "      <td>0.978658</td>\n",
       "      <td>0.944956</td>\n",
       "      <td>0.950714</td>\n",
       "      <td>0.963279</td>\n",
       "      <td>0.949232</td>\n",
       "      <td>1.000000</td>\n",
       "      <td>0.931455</td>\n",
       "      <td>0.949516</td>\n",
       "      <td>...</td>\n",
       "      <td>0.923233</td>\n",
       "      <td>0.942990</td>\n",
       "      <td>0.954028</td>\n",
       "      <td>0.960189</td>\n",
       "      <td>0.973053</td>\n",
       "      <td>0.971387</td>\n",
       "      <td>0.946419</td>\n",
       "      <td>0.925284</td>\n",
       "      <td>0.949305</td>\n",
       "      <td>0.947203</td>\n",
       "    </tr>\n",
       "    <tr>\n",
       "      <th>8</th>\n",
       "      <td>0.942711</td>\n",
       "      <td>0.917822</td>\n",
       "      <td>0.933429</td>\n",
       "      <td>0.933282</td>\n",
       "      <td>0.920633</td>\n",
       "      <td>0.939556</td>\n",
       "      <td>0.939657</td>\n",
       "      <td>0.931455</td>\n",
       "      <td>1.000000</td>\n",
       "      <td>0.934142</td>\n",
       "      <td>...</td>\n",
       "      <td>0.952007</td>\n",
       "      <td>0.929131</td>\n",
       "      <td>0.946924</td>\n",
       "      <td>0.939849</td>\n",
       "      <td>0.921460</td>\n",
       "      <td>0.949766</td>\n",
       "      <td>0.962349</td>\n",
       "      <td>0.933300</td>\n",
       "      <td>0.922954</td>\n",
       "      <td>0.922175</td>\n",
       "    </tr>\n",
       "    <tr>\n",
       "      <th>9</th>\n",
       "      <td>0.932976</td>\n",
       "      <td>0.959163</td>\n",
       "      <td>0.951685</td>\n",
       "      <td>0.979824</td>\n",
       "      <td>0.963751</td>\n",
       "      <td>0.965437</td>\n",
       "      <td>0.990039</td>\n",
       "      <td>0.949516</td>\n",
       "      <td>0.934142</td>\n",
       "      <td>1.000000</td>\n",
       "      <td>...</td>\n",
       "      <td>0.935657</td>\n",
       "      <td>0.989046</td>\n",
       "      <td>0.929792</td>\n",
       "      <td>0.925582</td>\n",
       "      <td>0.958709</td>\n",
       "      <td>0.966183</td>\n",
       "      <td>0.953311</td>\n",
       "      <td>0.924787</td>\n",
       "      <td>0.939470</td>\n",
       "      <td>0.971541</td>\n",
       "    </tr>\n",
       "    <tr>\n",
       "      <th>10</th>\n",
       "      <td>0.936359</td>\n",
       "      <td>0.958961</td>\n",
       "      <td>0.954064</td>\n",
       "      <td>0.980100</td>\n",
       "      <td>0.965165</td>\n",
       "      <td>0.968351</td>\n",
       "      <td>0.995068</td>\n",
       "      <td>0.951849</td>\n",
       "      <td>0.938664</td>\n",
       "      <td>0.993121</td>\n",
       "      <td>...</td>\n",
       "      <td>0.939112</td>\n",
       "      <td>0.985717</td>\n",
       "      <td>0.932884</td>\n",
       "      <td>0.927883</td>\n",
       "      <td>0.960713</td>\n",
       "      <td>0.968272</td>\n",
       "      <td>0.957274</td>\n",
       "      <td>0.928175</td>\n",
       "      <td>0.941386</td>\n",
       "      <td>0.970826</td>\n",
       "    </tr>\n",
       "    <tr>\n",
       "      <th>11</th>\n",
       "      <td>0.946686</td>\n",
       "      <td>0.970713</td>\n",
       "      <td>0.961215</td>\n",
       "      <td>0.959747</td>\n",
       "      <td>0.963263</td>\n",
       "      <td>0.979656</td>\n",
       "      <td>0.956689</td>\n",
       "      <td>0.959776</td>\n",
       "      <td>0.933838</td>\n",
       "      <td>0.954241</td>\n",
       "      <td>...</td>\n",
       "      <td>0.938087</td>\n",
       "      <td>0.950526</td>\n",
       "      <td>0.949905</td>\n",
       "      <td>0.940269</td>\n",
       "      <td>0.945861</td>\n",
       "      <td>0.967481</td>\n",
       "      <td>0.947318</td>\n",
       "      <td>0.931573</td>\n",
       "      <td>0.958281</td>\n",
       "      <td>0.950275</td>\n",
       "    </tr>\n",
       "    <tr>\n",
       "      <th>12</th>\n",
       "      <td>0.942130</td>\n",
       "      <td>0.952838</td>\n",
       "      <td>0.981615</td>\n",
       "      <td>0.950992</td>\n",
       "      <td>0.957768</td>\n",
       "      <td>0.963726</td>\n",
       "      <td>0.958235</td>\n",
       "      <td>0.971125</td>\n",
       "      <td>0.933006</td>\n",
       "      <td>0.956037</td>\n",
       "      <td>...</td>\n",
       "      <td>0.923421</td>\n",
       "      <td>0.953337</td>\n",
       "      <td>0.940084</td>\n",
       "      <td>0.946773</td>\n",
       "      <td>0.960719</td>\n",
       "      <td>0.971062</td>\n",
       "      <td>0.951809</td>\n",
       "      <td>0.927490</td>\n",
       "      <td>0.950426</td>\n",
       "      <td>0.956002</td>\n",
       "    </tr>\n",
       "    <tr>\n",
       "      <th>13</th>\n",
       "      <td>0.943336</td>\n",
       "      <td>0.931378</td>\n",
       "      <td>0.960544</td>\n",
       "      <td>0.933628</td>\n",
       "      <td>0.939938</td>\n",
       "      <td>0.947216</td>\n",
       "      <td>0.939191</td>\n",
       "      <td>0.977060</td>\n",
       "      <td>0.926983</td>\n",
       "      <td>0.937038</td>\n",
       "      <td>...</td>\n",
       "      <td>0.921993</td>\n",
       "      <td>0.931960</td>\n",
       "      <td>0.948038</td>\n",
       "      <td>0.962508</td>\n",
       "      <td>0.961122</td>\n",
       "      <td>0.954009</td>\n",
       "      <td>0.951002</td>\n",
       "      <td>0.925286</td>\n",
       "      <td>0.952174</td>\n",
       "      <td>0.937402</td>\n",
       "    </tr>\n",
       "    <tr>\n",
       "      <th>14</th>\n",
       "      <td>0.930574</td>\n",
       "      <td>0.970068</td>\n",
       "      <td>0.944967</td>\n",
       "      <td>0.963185</td>\n",
       "      <td>0.958185</td>\n",
       "      <td>0.960049</td>\n",
       "      <td>0.954012</td>\n",
       "      <td>0.941632</td>\n",
       "      <td>0.923458</td>\n",
       "      <td>0.955329</td>\n",
       "      <td>...</td>\n",
       "      <td>0.928232</td>\n",
       "      <td>0.949351</td>\n",
       "      <td>0.936886</td>\n",
       "      <td>0.923521</td>\n",
       "      <td>0.947896</td>\n",
       "      <td>0.948725</td>\n",
       "      <td>0.931084</td>\n",
       "      <td>0.924703</td>\n",
       "      <td>0.944501</td>\n",
       "      <td>0.957441</td>\n",
       "    </tr>\n",
       "    <tr>\n",
       "      <th>15</th>\n",
       "      <td>0.950860</td>\n",
       "      <td>0.949889</td>\n",
       "      <td>0.968179</td>\n",
       "      <td>0.951664</td>\n",
       "      <td>0.957572</td>\n",
       "      <td>0.969264</td>\n",
       "      <td>0.958051</td>\n",
       "      <td>0.977499</td>\n",
       "      <td>0.931657</td>\n",
       "      <td>0.956072</td>\n",
       "      <td>...</td>\n",
       "      <td>0.929069</td>\n",
       "      <td>0.950808</td>\n",
       "      <td>0.960239</td>\n",
       "      <td>0.952583</td>\n",
       "      <td>0.963132</td>\n",
       "      <td>0.969304</td>\n",
       "      <td>0.948628</td>\n",
       "      <td>0.936059</td>\n",
       "      <td>0.954872</td>\n",
       "      <td>0.956628</td>\n",
       "    </tr>\n",
       "    <tr>\n",
       "      <th>16</th>\n",
       "      <td>0.948958</td>\n",
       "      <td>0.957173</td>\n",
       "      <td>0.963532</td>\n",
       "      <td>0.961184</td>\n",
       "      <td>0.971894</td>\n",
       "      <td>0.958547</td>\n",
       "      <td>0.965844</td>\n",
       "      <td>0.963681</td>\n",
       "      <td>0.928387</td>\n",
       "      <td>0.965809</td>\n",
       "      <td>...</td>\n",
       "      <td>0.921230</td>\n",
       "      <td>0.960290</td>\n",
       "      <td>0.939135</td>\n",
       "      <td>0.939548</td>\n",
       "      <td>0.973062</td>\n",
       "      <td>0.962467</td>\n",
       "      <td>0.942196</td>\n",
       "      <td>0.922389</td>\n",
       "      <td>0.955521</td>\n",
       "      <td>0.962939</td>\n",
       "    </tr>\n",
       "    <tr>\n",
       "      <th>17</th>\n",
       "      <td>0.955381</td>\n",
       "      <td>0.944326</td>\n",
       "      <td>0.938315</td>\n",
       "      <td>0.940838</td>\n",
       "      <td>0.936977</td>\n",
       "      <td>0.954989</td>\n",
       "      <td>0.936825</td>\n",
       "      <td>0.936871</td>\n",
       "      <td>0.956357</td>\n",
       "      <td>0.934064</td>\n",
       "      <td>...</td>\n",
       "      <td>0.949060</td>\n",
       "      <td>0.927597</td>\n",
       "      <td>0.963831</td>\n",
       "      <td>0.943897</td>\n",
       "      <td>0.926273</td>\n",
       "      <td>0.943167</td>\n",
       "      <td>0.930995</td>\n",
       "      <td>0.943663</td>\n",
       "      <td>0.938891</td>\n",
       "      <td>0.933522</td>\n",
       "    </tr>\n",
       "    <tr>\n",
       "      <th>18</th>\n",
       "      <td>0.942699</td>\n",
       "      <td>0.972336</td>\n",
       "      <td>0.951778</td>\n",
       "      <td>0.974315</td>\n",
       "      <td>0.988140</td>\n",
       "      <td>0.963491</td>\n",
       "      <td>0.967793</td>\n",
       "      <td>0.952138</td>\n",
       "      <td>0.923861</td>\n",
       "      <td>0.969361</td>\n",
       "      <td>...</td>\n",
       "      <td>0.922814</td>\n",
       "      <td>0.965277</td>\n",
       "      <td>0.937986</td>\n",
       "      <td>0.932696</td>\n",
       "      <td>0.959079</td>\n",
       "      <td>0.956653</td>\n",
       "      <td>0.940073</td>\n",
       "      <td>0.917742</td>\n",
       "      <td>0.959245</td>\n",
       "      <td>0.962566</td>\n",
       "    </tr>\n",
       "    <tr>\n",
       "      <th>19</th>\n",
       "      <td>0.939707</td>\n",
       "      <td>0.954940</td>\n",
       "      <td>0.956308</td>\n",
       "      <td>0.971487</td>\n",
       "      <td>0.957151</td>\n",
       "      <td>0.987354</td>\n",
       "      <td>0.967610</td>\n",
       "      <td>0.953968</td>\n",
       "      <td>0.944245</td>\n",
       "      <td>0.962680</td>\n",
       "      <td>...</td>\n",
       "      <td>0.953714</td>\n",
       "      <td>0.959721</td>\n",
       "      <td>0.942728</td>\n",
       "      <td>0.933162</td>\n",
       "      <td>0.941772</td>\n",
       "      <td>0.971364</td>\n",
       "      <td>0.961290</td>\n",
       "      <td>0.929056</td>\n",
       "      <td>0.952154</td>\n",
       "      <td>0.949097</td>\n",
       "    </tr>\n",
       "    <tr>\n",
       "      <th>20</th>\n",
       "      <td>0.950143</td>\n",
       "      <td>0.940352</td>\n",
       "      <td>0.956761</td>\n",
       "      <td>0.943103</td>\n",
       "      <td>0.952106</td>\n",
       "      <td>0.954257</td>\n",
       "      <td>0.952285</td>\n",
       "      <td>0.957169</td>\n",
       "      <td>0.928093</td>\n",
       "      <td>0.948577</td>\n",
       "      <td>...</td>\n",
       "      <td>0.921406</td>\n",
       "      <td>0.945675</td>\n",
       "      <td>0.935485</td>\n",
       "      <td>0.935019</td>\n",
       "      <td>0.946226</td>\n",
       "      <td>0.958508</td>\n",
       "      <td>0.945561</td>\n",
       "      <td>0.925266</td>\n",
       "      <td>0.966942</td>\n",
       "      <td>0.951321</td>\n",
       "    </tr>\n",
       "    <tr>\n",
       "      <th>21</th>\n",
       "      <td>0.937736</td>\n",
       "      <td>0.979236</td>\n",
       "      <td>0.953130</td>\n",
       "      <td>0.968178</td>\n",
       "      <td>0.973804</td>\n",
       "      <td>0.967682</td>\n",
       "      <td>0.967940</td>\n",
       "      <td>0.951461</td>\n",
       "      <td>0.928442</td>\n",
       "      <td>0.963758</td>\n",
       "      <td>...</td>\n",
       "      <td>0.929348</td>\n",
       "      <td>0.961733</td>\n",
       "      <td>0.942261</td>\n",
       "      <td>0.932842</td>\n",
       "      <td>0.957627</td>\n",
       "      <td>0.958543</td>\n",
       "      <td>0.941432</td>\n",
       "      <td>0.924197</td>\n",
       "      <td>0.948813</td>\n",
       "      <td>0.961593</td>\n",
       "    </tr>\n",
       "    <tr>\n",
       "      <th>22</th>\n",
       "      <td>0.930201</td>\n",
       "      <td>0.979392</td>\n",
       "      <td>0.948193</td>\n",
       "      <td>0.979790</td>\n",
       "      <td>0.983677</td>\n",
       "      <td>0.972316</td>\n",
       "      <td>0.975782</td>\n",
       "      <td>0.946415</td>\n",
       "      <td>0.926120</td>\n",
       "      <td>0.972057</td>\n",
       "      <td>...</td>\n",
       "      <td>0.928517</td>\n",
       "      <td>0.978372</td>\n",
       "      <td>0.930474</td>\n",
       "      <td>0.925154</td>\n",
       "      <td>0.961841</td>\n",
       "      <td>0.959554</td>\n",
       "      <td>0.946225</td>\n",
       "      <td>0.916936</td>\n",
       "      <td>0.944841</td>\n",
       "      <td>0.961463</td>\n",
       "    </tr>\n",
       "    <tr>\n",
       "      <th>23</th>\n",
       "      <td>0.937141</td>\n",
       "      <td>0.977195</td>\n",
       "      <td>0.944765</td>\n",
       "      <td>0.965714</td>\n",
       "      <td>0.989086</td>\n",
       "      <td>0.955187</td>\n",
       "      <td>0.960998</td>\n",
       "      <td>0.945716</td>\n",
       "      <td>0.916914</td>\n",
       "      <td>0.960220</td>\n",
       "      <td>...</td>\n",
       "      <td>0.915176</td>\n",
       "      <td>0.966365</td>\n",
       "      <td>0.930622</td>\n",
       "      <td>0.925046</td>\n",
       "      <td>0.960518</td>\n",
       "      <td>0.948864</td>\n",
       "      <td>0.935149</td>\n",
       "      <td>0.909600</td>\n",
       "      <td>0.960668</td>\n",
       "      <td>0.955908</td>\n",
       "    </tr>\n",
       "    <tr>\n",
       "      <th>24</th>\n",
       "      <td>0.921993</td>\n",
       "      <td>0.964274</td>\n",
       "      <td>0.939510</td>\n",
       "      <td>0.979775</td>\n",
       "      <td>0.969112</td>\n",
       "      <td>0.964575</td>\n",
       "      <td>0.971013</td>\n",
       "      <td>0.937513</td>\n",
       "      <td>0.930373</td>\n",
       "      <td>0.970233</td>\n",
       "      <td>...</td>\n",
       "      <td>0.941827</td>\n",
       "      <td>0.971432</td>\n",
       "      <td>0.924728</td>\n",
       "      <td>0.914005</td>\n",
       "      <td>0.952952</td>\n",
       "      <td>0.954515</td>\n",
       "      <td>0.948395</td>\n",
       "      <td>0.913237</td>\n",
       "      <td>0.939069</td>\n",
       "      <td>0.953370</td>\n",
       "    </tr>\n",
       "    <tr>\n",
       "      <th>25</th>\n",
       "      <td>0.929305</td>\n",
       "      <td>0.947590</td>\n",
       "      <td>0.949033</td>\n",
       "      <td>0.952276</td>\n",
       "      <td>0.956931</td>\n",
       "      <td>0.944827</td>\n",
       "      <td>0.960848</td>\n",
       "      <td>0.960998</td>\n",
       "      <td>0.920953</td>\n",
       "      <td>0.959892</td>\n",
       "      <td>...</td>\n",
       "      <td>0.913205</td>\n",
       "      <td>0.954308</td>\n",
       "      <td>0.943596</td>\n",
       "      <td>0.938274</td>\n",
       "      <td>0.967996</td>\n",
       "      <td>0.947974</td>\n",
       "      <td>0.936194</td>\n",
       "      <td>0.917792</td>\n",
       "      <td>0.938251</td>\n",
       "      <td>0.958712</td>\n",
       "    </tr>\n",
       "    <tr>\n",
       "      <th>26</th>\n",
       "      <td>0.934417</td>\n",
       "      <td>0.937371</td>\n",
       "      <td>0.987217</td>\n",
       "      <td>0.939458</td>\n",
       "      <td>0.944681</td>\n",
       "      <td>0.955907</td>\n",
       "      <td>0.946961</td>\n",
       "      <td>0.971123</td>\n",
       "      <td>0.932222</td>\n",
       "      <td>0.944528</td>\n",
       "      <td>...</td>\n",
       "      <td>0.918065</td>\n",
       "      <td>0.940388</td>\n",
       "      <td>0.934801</td>\n",
       "      <td>0.941505</td>\n",
       "      <td>0.954616</td>\n",
       "      <td>0.967417</td>\n",
       "      <td>0.947631</td>\n",
       "      <td>0.927514</td>\n",
       "      <td>0.940179</td>\n",
       "      <td>0.948449</td>\n",
       "    </tr>\n",
       "    <tr>\n",
       "      <th>27</th>\n",
       "      <td>0.938357</td>\n",
       "      <td>0.973834</td>\n",
       "      <td>0.949849</td>\n",
       "      <td>0.968225</td>\n",
       "      <td>0.986584</td>\n",
       "      <td>0.958927</td>\n",
       "      <td>0.962818</td>\n",
       "      <td>0.951043</td>\n",
       "      <td>0.917468</td>\n",
       "      <td>0.965812</td>\n",
       "      <td>...</td>\n",
       "      <td>0.916952</td>\n",
       "      <td>0.967552</td>\n",
       "      <td>0.932968</td>\n",
       "      <td>0.926621</td>\n",
       "      <td>0.968910</td>\n",
       "      <td>0.953945</td>\n",
       "      <td>0.935391</td>\n",
       "      <td>0.912854</td>\n",
       "      <td>0.956134</td>\n",
       "      <td>0.960967</td>\n",
       "    </tr>\n",
       "    <tr>\n",
       "      <th>28</th>\n",
       "      <td>0.920204</td>\n",
       "      <td>0.951308</td>\n",
       "      <td>0.965643</td>\n",
       "      <td>0.948887</td>\n",
       "      <td>0.958413</td>\n",
       "      <td>0.939095</td>\n",
       "      <td>0.953203</td>\n",
       "      <td>0.952757</td>\n",
       "      <td>0.916502</td>\n",
       "      <td>0.955554</td>\n",
       "      <td>...</td>\n",
       "      <td>0.904095</td>\n",
       "      <td>0.959693</td>\n",
       "      <td>0.919787</td>\n",
       "      <td>0.927082</td>\n",
       "      <td>0.970384</td>\n",
       "      <td>0.947572</td>\n",
       "      <td>0.934935</td>\n",
       "      <td>0.913343</td>\n",
       "      <td>0.931464</td>\n",
       "      <td>0.961165</td>\n",
       "    </tr>\n",
       "    <tr>\n",
       "      <th>29</th>\n",
       "      <td>0.939126</td>\n",
       "      <td>0.945365</td>\n",
       "      <td>0.957936</td>\n",
       "      <td>0.954304</td>\n",
       "      <td>0.960440</td>\n",
       "      <td>0.945231</td>\n",
       "      <td>0.958164</td>\n",
       "      <td>0.956290</td>\n",
       "      <td>0.923783</td>\n",
       "      <td>0.960481</td>\n",
       "      <td>...</td>\n",
       "      <td>0.914707</td>\n",
       "      <td>0.951655</td>\n",
       "      <td>0.929024</td>\n",
       "      <td>0.930915</td>\n",
       "      <td>0.964283</td>\n",
       "      <td>0.952543</td>\n",
       "      <td>0.939931</td>\n",
       "      <td>0.915771</td>\n",
       "      <td>0.952919</td>\n",
       "      <td>0.958439</td>\n",
       "    </tr>\n",
       "    <tr>\n",
       "      <th>...</th>\n",
       "      <td>...</td>\n",
       "      <td>...</td>\n",
       "      <td>...</td>\n",
       "      <td>...</td>\n",
       "      <td>...</td>\n",
       "      <td>...</td>\n",
       "      <td>...</td>\n",
       "      <td>...</td>\n",
       "      <td>...</td>\n",
       "      <td>...</td>\n",
       "      <td>...</td>\n",
       "      <td>...</td>\n",
       "      <td>...</td>\n",
       "      <td>...</td>\n",
       "      <td>...</td>\n",
       "      <td>...</td>\n",
       "      <td>...</td>\n",
       "      <td>...</td>\n",
       "      <td>...</td>\n",
       "      <td>...</td>\n",
       "      <td>...</td>\n",
       "    </tr>\n",
       "    <tr>\n",
       "      <th>1970</th>\n",
       "      <td>0.934659</td>\n",
       "      <td>0.970608</td>\n",
       "      <td>0.945237</td>\n",
       "      <td>0.960282</td>\n",
       "      <td>0.975647</td>\n",
       "      <td>0.952954</td>\n",
       "      <td>0.954327</td>\n",
       "      <td>0.946071</td>\n",
       "      <td>0.916671</td>\n",
       "      <td>0.955187</td>\n",
       "      <td>...</td>\n",
       "      <td>0.914771</td>\n",
       "      <td>0.955998</td>\n",
       "      <td>0.932546</td>\n",
       "      <td>0.922128</td>\n",
       "      <td>0.963020</td>\n",
       "      <td>0.946982</td>\n",
       "      <td>0.931741</td>\n",
       "      <td>0.910894</td>\n",
       "      <td>0.958934</td>\n",
       "      <td>0.954552</td>\n",
       "    </tr>\n",
       "    <tr>\n",
       "      <th>1971</th>\n",
       "      <td>0.952964</td>\n",
       "      <td>0.946800</td>\n",
       "      <td>0.963005</td>\n",
       "      <td>0.948072</td>\n",
       "      <td>0.954611</td>\n",
       "      <td>0.962809</td>\n",
       "      <td>0.954724</td>\n",
       "      <td>0.973222</td>\n",
       "      <td>0.929040</td>\n",
       "      <td>0.953075</td>\n",
       "      <td>...</td>\n",
       "      <td>0.931742</td>\n",
       "      <td>0.948007</td>\n",
       "      <td>0.958451</td>\n",
       "      <td>0.953766</td>\n",
       "      <td>0.959289</td>\n",
       "      <td>0.963536</td>\n",
       "      <td>0.954219</td>\n",
       "      <td>0.935677</td>\n",
       "      <td>0.959267</td>\n",
       "      <td>0.952861</td>\n",
       "    </tr>\n",
       "    <tr>\n",
       "      <th>1972</th>\n",
       "      <td>0.967474</td>\n",
       "      <td>0.948379</td>\n",
       "      <td>0.961264</td>\n",
       "      <td>0.949275</td>\n",
       "      <td>0.963817</td>\n",
       "      <td>0.963164</td>\n",
       "      <td>0.955905</td>\n",
       "      <td>0.962535</td>\n",
       "      <td>0.931205</td>\n",
       "      <td>0.953071</td>\n",
       "      <td>...</td>\n",
       "      <td>0.930570</td>\n",
       "      <td>0.949920</td>\n",
       "      <td>0.942993</td>\n",
       "      <td>0.945759</td>\n",
       "      <td>0.950715</td>\n",
       "      <td>0.964650</td>\n",
       "      <td>0.955537</td>\n",
       "      <td>0.930567</td>\n",
       "      <td>0.973555</td>\n",
       "      <td>0.949696</td>\n",
       "    </tr>\n",
       "    <tr>\n",
       "      <th>1973</th>\n",
       "      <td>0.972613</td>\n",
       "      <td>0.915541</td>\n",
       "      <td>0.934402</td>\n",
       "      <td>0.922978</td>\n",
       "      <td>0.924508</td>\n",
       "      <td>0.934109</td>\n",
       "      <td>0.925421</td>\n",
       "      <td>0.934871</td>\n",
       "      <td>0.934087</td>\n",
       "      <td>0.924831</td>\n",
       "      <td>...</td>\n",
       "      <td>0.944398</td>\n",
       "      <td>0.916350</td>\n",
       "      <td>0.945018</td>\n",
       "      <td>0.955780</td>\n",
       "      <td>0.921352</td>\n",
       "      <td>0.935962</td>\n",
       "      <td>0.931509</td>\n",
       "      <td>0.947511</td>\n",
       "      <td>0.957532</td>\n",
       "      <td>0.927485</td>\n",
       "    </tr>\n",
       "    <tr>\n",
       "      <th>1974</th>\n",
       "      <td>0.934933</td>\n",
       "      <td>0.937857</td>\n",
       "      <td>0.969013</td>\n",
       "      <td>0.937694</td>\n",
       "      <td>0.945210</td>\n",
       "      <td>0.950467</td>\n",
       "      <td>0.945996</td>\n",
       "      <td>0.983025</td>\n",
       "      <td>0.928387</td>\n",
       "      <td>0.942622</td>\n",
       "      <td>...</td>\n",
       "      <td>0.914877</td>\n",
       "      <td>0.939617</td>\n",
       "      <td>0.946146</td>\n",
       "      <td>0.958499</td>\n",
       "      <td>0.967507</td>\n",
       "      <td>0.959582</td>\n",
       "      <td>0.944344</td>\n",
       "      <td>0.917350</td>\n",
       "      <td>0.945077</td>\n",
       "      <td>0.942964</td>\n",
       "    </tr>\n",
       "    <tr>\n",
       "      <th>1975</th>\n",
       "      <td>0.928819</td>\n",
       "      <td>0.957759</td>\n",
       "      <td>0.951097</td>\n",
       "      <td>0.958362</td>\n",
       "      <td>0.959995</td>\n",
       "      <td>0.952393</td>\n",
       "      <td>0.968276</td>\n",
       "      <td>0.946294</td>\n",
       "      <td>0.926171</td>\n",
       "      <td>0.967648</td>\n",
       "      <td>...</td>\n",
       "      <td>0.918850</td>\n",
       "      <td>0.965174</td>\n",
       "      <td>0.929015</td>\n",
       "      <td>0.925338</td>\n",
       "      <td>0.957011</td>\n",
       "      <td>0.953268</td>\n",
       "      <td>0.938863</td>\n",
       "      <td>0.937437</td>\n",
       "      <td>0.933452</td>\n",
       "      <td>0.981354</td>\n",
       "    </tr>\n",
       "    <tr>\n",
       "      <th>1976</th>\n",
       "      <td>0.962826</td>\n",
       "      <td>0.930561</td>\n",
       "      <td>0.940932</td>\n",
       "      <td>0.937353</td>\n",
       "      <td>0.932462</td>\n",
       "      <td>0.946370</td>\n",
       "      <td>0.944784</td>\n",
       "      <td>0.937997</td>\n",
       "      <td>0.963677</td>\n",
       "      <td>0.940006</td>\n",
       "      <td>...</td>\n",
       "      <td>0.957815</td>\n",
       "      <td>0.935918</td>\n",
       "      <td>0.944407</td>\n",
       "      <td>0.963072</td>\n",
       "      <td>0.927737</td>\n",
       "      <td>0.959746</td>\n",
       "      <td>0.956447</td>\n",
       "      <td>0.947059</td>\n",
       "      <td>0.936017</td>\n",
       "      <td>0.929719</td>\n",
       "    </tr>\n",
       "    <tr>\n",
       "      <th>1977</th>\n",
       "      <td>0.928900</td>\n",
       "      <td>0.964652</td>\n",
       "      <td>0.954574</td>\n",
       "      <td>0.966214</td>\n",
       "      <td>0.973844</td>\n",
       "      <td>0.957889</td>\n",
       "      <td>0.976874</td>\n",
       "      <td>0.951389</td>\n",
       "      <td>0.937198</td>\n",
       "      <td>0.974147</td>\n",
       "      <td>...</td>\n",
       "      <td>0.923646</td>\n",
       "      <td>0.981093</td>\n",
       "      <td>0.925214</td>\n",
       "      <td>0.928253</td>\n",
       "      <td>0.969163</td>\n",
       "      <td>0.972629</td>\n",
       "      <td>0.958164</td>\n",
       "      <td>0.915657</td>\n",
       "      <td>0.938114</td>\n",
       "      <td>0.962589</td>\n",
       "    </tr>\n",
       "    <tr>\n",
       "      <th>1978</th>\n",
       "      <td>0.947674</td>\n",
       "      <td>0.969626</td>\n",
       "      <td>0.956241</td>\n",
       "      <td>0.974343</td>\n",
       "      <td>0.988401</td>\n",
       "      <td>0.967665</td>\n",
       "      <td>0.967875</td>\n",
       "      <td>0.956519</td>\n",
       "      <td>0.925329</td>\n",
       "      <td>0.968950</td>\n",
       "      <td>...</td>\n",
       "      <td>0.927373</td>\n",
       "      <td>0.961401</td>\n",
       "      <td>0.942643</td>\n",
       "      <td>0.933162</td>\n",
       "      <td>0.962707</td>\n",
       "      <td>0.961002</td>\n",
       "      <td>0.941366</td>\n",
       "      <td>0.922431</td>\n",
       "      <td>0.962433</td>\n",
       "      <td>0.964106</td>\n",
       "    </tr>\n",
       "    <tr>\n",
       "      <th>1979</th>\n",
       "      <td>0.942474</td>\n",
       "      <td>0.944544</td>\n",
       "      <td>0.956712</td>\n",
       "      <td>0.947076</td>\n",
       "      <td>0.946041</td>\n",
       "      <td>0.958373</td>\n",
       "      <td>0.954512</td>\n",
       "      <td>0.950711</td>\n",
       "      <td>0.926091</td>\n",
       "      <td>0.953812</td>\n",
       "      <td>...</td>\n",
       "      <td>0.928902</td>\n",
       "      <td>0.948737</td>\n",
       "      <td>0.935633</td>\n",
       "      <td>0.935374</td>\n",
       "      <td>0.942857</td>\n",
       "      <td>0.957861</td>\n",
       "      <td>0.951084</td>\n",
       "      <td>0.954762</td>\n",
       "      <td>0.952310</td>\n",
       "      <td>0.972795</td>\n",
       "    </tr>\n",
       "    <tr>\n",
       "      <th>1980</th>\n",
       "      <td>0.929039</td>\n",
       "      <td>0.953184</td>\n",
       "      <td>0.952561</td>\n",
       "      <td>0.971950</td>\n",
       "      <td>0.959176</td>\n",
       "      <td>0.956842</td>\n",
       "      <td>0.977383</td>\n",
       "      <td>0.949729</td>\n",
       "      <td>0.945764</td>\n",
       "      <td>0.981380</td>\n",
       "      <td>...</td>\n",
       "      <td>0.931463</td>\n",
       "      <td>0.973916</td>\n",
       "      <td>0.926511</td>\n",
       "      <td>0.927449</td>\n",
       "      <td>0.959057</td>\n",
       "      <td>0.971714</td>\n",
       "      <td>0.964101</td>\n",
       "      <td>0.918343</td>\n",
       "      <td>0.938217</td>\n",
       "      <td>0.967274</td>\n",
       "    </tr>\n",
       "    <tr>\n",
       "      <th>1981</th>\n",
       "      <td>0.939780</td>\n",
       "      <td>0.983219</td>\n",
       "      <td>0.952940</td>\n",
       "      <td>0.971829</td>\n",
       "      <td>0.974524</td>\n",
       "      <td>0.968568</td>\n",
       "      <td>0.967704</td>\n",
       "      <td>0.951657</td>\n",
       "      <td>0.925273</td>\n",
       "      <td>0.965766</td>\n",
       "      <td>...</td>\n",
       "      <td>0.929696</td>\n",
       "      <td>0.960012</td>\n",
       "      <td>0.941716</td>\n",
       "      <td>0.931626</td>\n",
       "      <td>0.957295</td>\n",
       "      <td>0.959112</td>\n",
       "      <td>0.940238</td>\n",
       "      <td>0.924336</td>\n",
       "      <td>0.954315</td>\n",
       "      <td>0.964038</td>\n",
       "    </tr>\n",
       "    <tr>\n",
       "      <th>1982</th>\n",
       "      <td>0.937247</td>\n",
       "      <td>0.961351</td>\n",
       "      <td>0.973787</td>\n",
       "      <td>0.962928</td>\n",
       "      <td>0.969897</td>\n",
       "      <td>0.956673</td>\n",
       "      <td>0.971507</td>\n",
       "      <td>0.962386</td>\n",
       "      <td>0.928627</td>\n",
       "      <td>0.969658</td>\n",
       "      <td>...</td>\n",
       "      <td>0.918422</td>\n",
       "      <td>0.965137</td>\n",
       "      <td>0.934380</td>\n",
       "      <td>0.940922</td>\n",
       "      <td>0.970924</td>\n",
       "      <td>0.962701</td>\n",
       "      <td>0.946918</td>\n",
       "      <td>0.924930</td>\n",
       "      <td>0.943144</td>\n",
       "      <td>0.967897</td>\n",
       "    </tr>\n",
       "    <tr>\n",
       "      <th>1983</th>\n",
       "      <td>0.929392</td>\n",
       "      <td>0.954420</td>\n",
       "      <td>0.946864</td>\n",
       "      <td>0.976105</td>\n",
       "      <td>0.961085</td>\n",
       "      <td>0.961602</td>\n",
       "      <td>0.989498</td>\n",
       "      <td>0.945126</td>\n",
       "      <td>0.943029</td>\n",
       "      <td>0.984615</td>\n",
       "      <td>...</td>\n",
       "      <td>0.941371</td>\n",
       "      <td>0.980121</td>\n",
       "      <td>0.927123</td>\n",
       "      <td>0.924360</td>\n",
       "      <td>0.954167</td>\n",
       "      <td>0.962910</td>\n",
       "      <td>0.960068</td>\n",
       "      <td>0.922843</td>\n",
       "      <td>0.935340</td>\n",
       "      <td>0.963620</td>\n",
       "    </tr>\n",
       "    <tr>\n",
       "      <th>1984</th>\n",
       "      <td>0.970609</td>\n",
       "      <td>0.927826</td>\n",
       "      <td>0.962490</td>\n",
       "      <td>0.930321</td>\n",
       "      <td>0.931525</td>\n",
       "      <td>0.945813</td>\n",
       "      <td>0.932693</td>\n",
       "      <td>0.950176</td>\n",
       "      <td>0.942037</td>\n",
       "      <td>0.931487</td>\n",
       "      <td>...</td>\n",
       "      <td>0.951339</td>\n",
       "      <td>0.923535</td>\n",
       "      <td>0.954409</td>\n",
       "      <td>0.966240</td>\n",
       "      <td>0.935865</td>\n",
       "      <td>0.948160</td>\n",
       "      <td>0.938441</td>\n",
       "      <td>0.954318</td>\n",
       "      <td>0.940311</td>\n",
       "      <td>0.932426</td>\n",
       "    </tr>\n",
       "    <tr>\n",
       "      <th>1985</th>\n",
       "      <td>0.936828</td>\n",
       "      <td>0.945124</td>\n",
       "      <td>0.960303</td>\n",
       "      <td>0.961424</td>\n",
       "      <td>0.949732</td>\n",
       "      <td>0.974872</td>\n",
       "      <td>0.974441</td>\n",
       "      <td>0.958003</td>\n",
       "      <td>0.947943</td>\n",
       "      <td>0.971703</td>\n",
       "      <td>...</td>\n",
       "      <td>0.949480</td>\n",
       "      <td>0.966778</td>\n",
       "      <td>0.935200</td>\n",
       "      <td>0.930350</td>\n",
       "      <td>0.942990</td>\n",
       "      <td>0.977913</td>\n",
       "      <td>0.965412</td>\n",
       "      <td>0.929582</td>\n",
       "      <td>0.942094</td>\n",
       "      <td>0.950888</td>\n",
       "    </tr>\n",
       "    <tr>\n",
       "      <th>1986</th>\n",
       "      <td>0.921180</td>\n",
       "      <td>0.951194</td>\n",
       "      <td>0.955455</td>\n",
       "      <td>0.945725</td>\n",
       "      <td>0.959833</td>\n",
       "      <td>0.938663</td>\n",
       "      <td>0.953438</td>\n",
       "      <td>0.964555</td>\n",
       "      <td>0.918943</td>\n",
       "      <td>0.952671</td>\n",
       "      <td>...</td>\n",
       "      <td>0.903063</td>\n",
       "      <td>0.958288</td>\n",
       "      <td>0.930904</td>\n",
       "      <td>0.937563</td>\n",
       "      <td>0.986597</td>\n",
       "      <td>0.945863</td>\n",
       "      <td>0.933869</td>\n",
       "      <td>0.906623</td>\n",
       "      <td>0.932692</td>\n",
       "      <td>0.952521</td>\n",
       "    </tr>\n",
       "    <tr>\n",
       "      <th>1987</th>\n",
       "      <td>0.969805</td>\n",
       "      <td>0.927196</td>\n",
       "      <td>0.942907</td>\n",
       "      <td>0.930817</td>\n",
       "      <td>0.937741</td>\n",
       "      <td>0.944990</td>\n",
       "      <td>0.936280</td>\n",
       "      <td>0.944067</td>\n",
       "      <td>0.950499</td>\n",
       "      <td>0.932548</td>\n",
       "      <td>...</td>\n",
       "      <td>0.939415</td>\n",
       "      <td>0.926569</td>\n",
       "      <td>0.965314</td>\n",
       "      <td>0.949955</td>\n",
       "      <td>0.930801</td>\n",
       "      <td>0.944580</td>\n",
       "      <td>0.934571</td>\n",
       "      <td>0.940058</td>\n",
       "      <td>0.953923</td>\n",
       "      <td>0.931390</td>\n",
       "    </tr>\n",
       "    <tr>\n",
       "      <th>1988</th>\n",
       "      <td>0.929058</td>\n",
       "      <td>0.946128</td>\n",
       "      <td>0.948908</td>\n",
       "      <td>0.948526</td>\n",
       "      <td>0.954492</td>\n",
       "      <td>0.945381</td>\n",
       "      <td>0.958430</td>\n",
       "      <td>0.958870</td>\n",
       "      <td>0.923838</td>\n",
       "      <td>0.954507</td>\n",
       "      <td>...</td>\n",
       "      <td>0.914487</td>\n",
       "      <td>0.952803</td>\n",
       "      <td>0.945936</td>\n",
       "      <td>0.935789</td>\n",
       "      <td>0.967844</td>\n",
       "      <td>0.947692</td>\n",
       "      <td>0.934820</td>\n",
       "      <td>0.923288</td>\n",
       "      <td>0.934424</td>\n",
       "      <td>0.958382</td>\n",
       "    </tr>\n",
       "    <tr>\n",
       "      <th>1989</th>\n",
       "      <td>0.919330</td>\n",
       "      <td>0.952503</td>\n",
       "      <td>0.964542</td>\n",
       "      <td>0.947734</td>\n",
       "      <td>0.959107</td>\n",
       "      <td>0.939744</td>\n",
       "      <td>0.955329</td>\n",
       "      <td>0.950464</td>\n",
       "      <td>0.921778</td>\n",
       "      <td>0.954338</td>\n",
       "      <td>...</td>\n",
       "      <td>0.904462</td>\n",
       "      <td>0.960321</td>\n",
       "      <td>0.920040</td>\n",
       "      <td>0.925806</td>\n",
       "      <td>0.971870</td>\n",
       "      <td>0.947667</td>\n",
       "      <td>0.936855</td>\n",
       "      <td>0.912981</td>\n",
       "      <td>0.930133</td>\n",
       "      <td>0.958559</td>\n",
       "    </tr>\n",
       "    <tr>\n",
       "      <th>1990</th>\n",
       "      <td>0.955830</td>\n",
       "      <td>0.918922</td>\n",
       "      <td>0.924385</td>\n",
       "      <td>0.941035</td>\n",
       "      <td>0.919045</td>\n",
       "      <td>0.949335</td>\n",
       "      <td>0.937407</td>\n",
       "      <td>0.923233</td>\n",
       "      <td>0.952007</td>\n",
       "      <td>0.935657</td>\n",
       "      <td>...</td>\n",
       "      <td>1.000000</td>\n",
       "      <td>0.927093</td>\n",
       "      <td>0.944151</td>\n",
       "      <td>0.942442</td>\n",
       "      <td>0.910129</td>\n",
       "      <td>0.941097</td>\n",
       "      <td>0.945892</td>\n",
       "      <td>0.946024</td>\n",
       "      <td>0.930271</td>\n",
       "      <td>0.918809</td>\n",
       "    </tr>\n",
       "    <tr>\n",
       "      <th>1991</th>\n",
       "      <td>0.925306</td>\n",
       "      <td>0.964475</td>\n",
       "      <td>0.945234</td>\n",
       "      <td>0.972560</td>\n",
       "      <td>0.969336</td>\n",
       "      <td>0.959031</td>\n",
       "      <td>0.987994</td>\n",
       "      <td>0.942990</td>\n",
       "      <td>0.929131</td>\n",
       "      <td>0.989046</td>\n",
       "      <td>...</td>\n",
       "      <td>0.927093</td>\n",
       "      <td>1.000000</td>\n",
       "      <td>0.921838</td>\n",
       "      <td>0.920423</td>\n",
       "      <td>0.960848</td>\n",
       "      <td>0.959263</td>\n",
       "      <td>0.950917</td>\n",
       "      <td>0.917072</td>\n",
       "      <td>0.933992</td>\n",
       "      <td>0.965091</td>\n",
       "    </tr>\n",
       "    <tr>\n",
       "      <th>1992</th>\n",
       "      <td>0.956752</td>\n",
       "      <td>0.929958</td>\n",
       "      <td>0.942013</td>\n",
       "      <td>0.933133</td>\n",
       "      <td>0.934213</td>\n",
       "      <td>0.948582</td>\n",
       "      <td>0.931268</td>\n",
       "      <td>0.954028</td>\n",
       "      <td>0.946924</td>\n",
       "      <td>0.929792</td>\n",
       "      <td>...</td>\n",
       "      <td>0.944151</td>\n",
       "      <td>0.921838</td>\n",
       "      <td>1.000000</td>\n",
       "      <td>0.957417</td>\n",
       "      <td>0.938651</td>\n",
       "      <td>0.941922</td>\n",
       "      <td>0.928527</td>\n",
       "      <td>0.940885</td>\n",
       "      <td>0.941183</td>\n",
       "      <td>0.929329</td>\n",
       "    </tr>\n",
       "    <tr>\n",
       "      <th>1993</th>\n",
       "      <td>0.966566</td>\n",
       "      <td>0.924436</td>\n",
       "      <td>0.944416</td>\n",
       "      <td>0.924591</td>\n",
       "      <td>0.928771</td>\n",
       "      <td>0.936317</td>\n",
       "      <td>0.929131</td>\n",
       "      <td>0.960189</td>\n",
       "      <td>0.939849</td>\n",
       "      <td>0.925582</td>\n",
       "      <td>...</td>\n",
       "      <td>0.942442</td>\n",
       "      <td>0.920423</td>\n",
       "      <td>0.957417</td>\n",
       "      <td>1.000000</td>\n",
       "      <td>0.941568</td>\n",
       "      <td>0.940303</td>\n",
       "      <td>0.935553</td>\n",
       "      <td>0.950176</td>\n",
       "      <td>0.938393</td>\n",
       "      <td>0.924219</td>\n",
       "    </tr>\n",
       "    <tr>\n",
       "      <th>1994</th>\n",
       "      <td>0.930061</td>\n",
       "      <td>0.954996</td>\n",
       "      <td>0.961028</td>\n",
       "      <td>0.951799</td>\n",
       "      <td>0.966182</td>\n",
       "      <td>0.948104</td>\n",
       "      <td>0.958879</td>\n",
       "      <td>0.973053</td>\n",
       "      <td>0.921460</td>\n",
       "      <td>0.958709</td>\n",
       "      <td>...</td>\n",
       "      <td>0.910129</td>\n",
       "      <td>0.960848</td>\n",
       "      <td>0.938651</td>\n",
       "      <td>0.941568</td>\n",
       "      <td>1.000000</td>\n",
       "      <td>0.954198</td>\n",
       "      <td>0.937482</td>\n",
       "      <td>0.913215</td>\n",
       "      <td>0.939080</td>\n",
       "      <td>0.958205</td>\n",
       "    </tr>\n",
       "    <tr>\n",
       "      <th>1995</th>\n",
       "      <td>0.945237</td>\n",
       "      <td>0.948925</td>\n",
       "      <td>0.975346</td>\n",
       "      <td>0.960213</td>\n",
       "      <td>0.955256</td>\n",
       "      <td>0.978023</td>\n",
       "      <td>0.965587</td>\n",
       "      <td>0.971387</td>\n",
       "      <td>0.949766</td>\n",
       "      <td>0.966183</td>\n",
       "      <td>...</td>\n",
       "      <td>0.941097</td>\n",
       "      <td>0.959263</td>\n",
       "      <td>0.941922</td>\n",
       "      <td>0.940303</td>\n",
       "      <td>0.954198</td>\n",
       "      <td>1.000000</td>\n",
       "      <td>0.968221</td>\n",
       "      <td>0.930740</td>\n",
       "      <td>0.949804</td>\n",
       "      <td>0.954234</td>\n",
       "    </tr>\n",
       "    <tr>\n",
       "      <th>1996</th>\n",
       "      <td>0.936171</td>\n",
       "      <td>0.934336</td>\n",
       "      <td>0.950012</td>\n",
       "      <td>0.949374</td>\n",
       "      <td>0.939875</td>\n",
       "      <td>0.956163</td>\n",
       "      <td>0.959248</td>\n",
       "      <td>0.946419</td>\n",
       "      <td>0.962349</td>\n",
       "      <td>0.953311</td>\n",
       "      <td>...</td>\n",
       "      <td>0.945892</td>\n",
       "      <td>0.950917</td>\n",
       "      <td>0.928527</td>\n",
       "      <td>0.935553</td>\n",
       "      <td>0.937482</td>\n",
       "      <td>0.968221</td>\n",
       "      <td>1.000000</td>\n",
       "      <td>0.925484</td>\n",
       "      <td>0.944543</td>\n",
       "      <td>0.939045</td>\n",
       "    </tr>\n",
       "    <tr>\n",
       "      <th>1997</th>\n",
       "      <td>0.957550</td>\n",
       "      <td>0.913822</td>\n",
       "      <td>0.931515</td>\n",
       "      <td>0.920666</td>\n",
       "      <td>0.914989</td>\n",
       "      <td>0.933440</td>\n",
       "      <td>0.926582</td>\n",
       "      <td>0.925284</td>\n",
       "      <td>0.933300</td>\n",
       "      <td>0.924787</td>\n",
       "      <td>...</td>\n",
       "      <td>0.946024</td>\n",
       "      <td>0.917072</td>\n",
       "      <td>0.940885</td>\n",
       "      <td>0.950176</td>\n",
       "      <td>0.913215</td>\n",
       "      <td>0.930740</td>\n",
       "      <td>0.925484</td>\n",
       "      <td>1.000000</td>\n",
       "      <td>0.922027</td>\n",
       "      <td>0.940704</td>\n",
       "    </tr>\n",
       "    <tr>\n",
       "      <th>1998</th>\n",
       "      <td>0.957400</td>\n",
       "      <td>0.946663</td>\n",
       "      <td>0.946990</td>\n",
       "      <td>0.946184</td>\n",
       "      <td>0.955889</td>\n",
       "      <td>0.955785</td>\n",
       "      <td>0.940231</td>\n",
       "      <td>0.949305</td>\n",
       "      <td>0.922954</td>\n",
       "      <td>0.939470</td>\n",
       "      <td>...</td>\n",
       "      <td>0.930271</td>\n",
       "      <td>0.933992</td>\n",
       "      <td>0.941183</td>\n",
       "      <td>0.938393</td>\n",
       "      <td>0.939080</td>\n",
       "      <td>0.949804</td>\n",
       "      <td>0.944543</td>\n",
       "      <td>0.922027</td>\n",
       "      <td>1.000000</td>\n",
       "      <td>0.937228</td>\n",
       "    </tr>\n",
       "    <tr>\n",
       "      <th>1999</th>\n",
       "      <td>0.930341</td>\n",
       "      <td>0.957269</td>\n",
       "      <td>0.952958</td>\n",
       "      <td>0.961463</td>\n",
       "      <td>0.960120</td>\n",
       "      <td>0.952940</td>\n",
       "      <td>0.970815</td>\n",
       "      <td>0.947203</td>\n",
       "      <td>0.922175</td>\n",
       "      <td>0.971541</td>\n",
       "      <td>...</td>\n",
       "      <td>0.918809</td>\n",
       "      <td>0.965091</td>\n",
       "      <td>0.929329</td>\n",
       "      <td>0.924219</td>\n",
       "      <td>0.958205</td>\n",
       "      <td>0.954234</td>\n",
       "      <td>0.939045</td>\n",
       "      <td>0.940704</td>\n",
       "      <td>0.937228</td>\n",
       "      <td>1.000000</td>\n",
       "    </tr>\n",
       "  </tbody>\n",
       "</table>\n",
       "<p>2000 rows × 2000 columns</p>\n",
       "</div>"
      ],
      "text/plain": [
       "      extracted_slicenew1_/map500exp_0.csv  \\\n",
       "0                                 1.000000   \n",
       "1                                 0.927875   \n",
       "2                                 0.942511   \n",
       "3                                 0.931897   \n",
       "4                                 0.939273   \n",
       "5                                 0.946078   \n",
       "6                                 0.934771   \n",
       "7                                 0.944584   \n",
       "8                                 0.942711   \n",
       "9                                 0.932976   \n",
       "10                                0.936359   \n",
       "11                                0.946686   \n",
       "12                                0.942130   \n",
       "13                                0.943336   \n",
       "14                                0.930574   \n",
       "15                                0.950860   \n",
       "16                                0.948958   \n",
       "17                                0.955381   \n",
       "18                                0.942699   \n",
       "19                                0.939707   \n",
       "20                                0.950143   \n",
       "21                                0.937736   \n",
       "22                                0.930201   \n",
       "23                                0.937141   \n",
       "24                                0.921993   \n",
       "25                                0.929305   \n",
       "26                                0.934417   \n",
       "27                                0.938357   \n",
       "28                                0.920204   \n",
       "29                                0.939126   \n",
       "...                                    ...   \n",
       "1970                              0.934659   \n",
       "1971                              0.952964   \n",
       "1972                              0.967474   \n",
       "1973                              0.972613   \n",
       "1974                              0.934933   \n",
       "1975                              0.928819   \n",
       "1976                              0.962826   \n",
       "1977                              0.928900   \n",
       "1978                              0.947674   \n",
       "1979                              0.942474   \n",
       "1980                              0.929039   \n",
       "1981                              0.939780   \n",
       "1982                              0.937247   \n",
       "1983                              0.929392   \n",
       "1984                              0.970609   \n",
       "1985                              0.936828   \n",
       "1986                              0.921180   \n",
       "1987                              0.969805   \n",
       "1988                              0.929058   \n",
       "1989                              0.919330   \n",
       "1990                              0.955830   \n",
       "1991                              0.925306   \n",
       "1992                              0.956752   \n",
       "1993                              0.966566   \n",
       "1994                              0.930061   \n",
       "1995                              0.945237   \n",
       "1996                              0.936171   \n",
       "1997                              0.957550   \n",
       "1998                              0.957400   \n",
       "1999                              0.930341   \n",
       "\n",
       "      extracted_slicenew1_/map500exp_1.csv  \\\n",
       "0                                 0.927875   \n",
       "1                                 1.000000   \n",
       "2                                 0.943371   \n",
       "3                                 0.965900   \n",
       "4                                 0.977306   \n",
       "5                                 0.958790   \n",
       "6                                 0.961273   \n",
       "7                                 0.941832   \n",
       "8                                 0.917822   \n",
       "9                                 0.959163   \n",
       "10                                0.958961   \n",
       "11                                0.970713   \n",
       "12                                0.952838   \n",
       "13                                0.931378   \n",
       "14                                0.970068   \n",
       "15                                0.949889   \n",
       "16                                0.957173   \n",
       "17                                0.944326   \n",
       "18                                0.972336   \n",
       "19                                0.954940   \n",
       "20                                0.940352   \n",
       "21                                0.979236   \n",
       "22                                0.979392   \n",
       "23                                0.977195   \n",
       "24                                0.964274   \n",
       "25                                0.947590   \n",
       "26                                0.937371   \n",
       "27                                0.973834   \n",
       "28                                0.951308   \n",
       "29                                0.945365   \n",
       "...                                    ...   \n",
       "1970                              0.970608   \n",
       "1971                              0.946800   \n",
       "1972                              0.948379   \n",
       "1973                              0.915541   \n",
       "1974                              0.937857   \n",
       "1975                              0.957759   \n",
       "1976                              0.930561   \n",
       "1977                              0.964652   \n",
       "1978                              0.969626   \n",
       "1979                              0.944544   \n",
       "1980                              0.953184   \n",
       "1981                              0.983219   \n",
       "1982                              0.961351   \n",
       "1983                              0.954420   \n",
       "1984                              0.927826   \n",
       "1985                              0.945124   \n",
       "1986                              0.951194   \n",
       "1987                              0.927196   \n",
       "1988                              0.946128   \n",
       "1989                              0.952503   \n",
       "1990                              0.918922   \n",
       "1991                              0.964475   \n",
       "1992                              0.929958   \n",
       "1993                              0.924436   \n",
       "1994                              0.954996   \n",
       "1995                              0.948925   \n",
       "1996                              0.934336   \n",
       "1997                              0.913822   \n",
       "1998                              0.946663   \n",
       "1999                              0.957269   \n",
       "\n",
       "      extracted_slicenew1_/map500exp_2.csv  \\\n",
       "0                                 0.942511   \n",
       "1                                 0.943371   \n",
       "2                                 1.000000   \n",
       "3                                 0.946871   \n",
       "4                                 0.950439   \n",
       "5                                 0.965415   \n",
       "6                                 0.951432   \n",
       "7                                 0.978658   \n",
       "8                                 0.933429   \n",
       "9                                 0.951685   \n",
       "10                                0.954064   \n",
       "11                                0.961215   \n",
       "12                                0.981615   \n",
       "13                                0.960544   \n",
       "14                                0.944967   \n",
       "15                                0.968179   \n",
       "16                                0.963532   \n",
       "17                                0.938315   \n",
       "18                                0.951778   \n",
       "19                                0.956308   \n",
       "20                                0.956761   \n",
       "21                                0.953130   \n",
       "22                                0.948193   \n",
       "23                                0.944765   \n",
       "24                                0.939510   \n",
       "25                                0.949033   \n",
       "26                                0.987217   \n",
       "27                                0.949849   \n",
       "28                                0.965643   \n",
       "29                                0.957936   \n",
       "...                                    ...   \n",
       "1970                              0.945237   \n",
       "1971                              0.963005   \n",
       "1972                              0.961264   \n",
       "1973                              0.934402   \n",
       "1974                              0.969013   \n",
       "1975                              0.951097   \n",
       "1976                              0.940932   \n",
       "1977                              0.954574   \n",
       "1978                              0.956241   \n",
       "1979                              0.956712   \n",
       "1980                              0.952561   \n",
       "1981                              0.952940   \n",
       "1982                              0.973787   \n",
       "1983                              0.946864   \n",
       "1984                              0.962490   \n",
       "1985                              0.960303   \n",
       "1986                              0.955455   \n",
       "1987                              0.942907   \n",
       "1988                              0.948908   \n",
       "1989                              0.964542   \n",
       "1990                              0.924385   \n",
       "1991                              0.945234   \n",
       "1992                              0.942013   \n",
       "1993                              0.944416   \n",
       "1994                              0.961028   \n",
       "1995                              0.975346   \n",
       "1996                              0.950012   \n",
       "1997                              0.931515   \n",
       "1998                              0.946990   \n",
       "1999                              0.952958   \n",
       "\n",
       "      extracted_slicenew1_/map500exp_3.csv  \\\n",
       "0                                 0.931897   \n",
       "1                                 0.965900   \n",
       "2                                 0.946871   \n",
       "3                                 1.000000   \n",
       "4                                 0.967556   \n",
       "5                                 0.972512   \n",
       "6                                 0.976845   \n",
       "7                                 0.944956   \n",
       "8                                 0.933282   \n",
       "9                                 0.979824   \n",
       "10                                0.980100   \n",
       "11                                0.959747   \n",
       "12                                0.950992   \n",
       "13                                0.933628   \n",
       "14                                0.963185   \n",
       "15                                0.951664   \n",
       "16                                0.961184   \n",
       "17                                0.940838   \n",
       "18                                0.974315   \n",
       "19                                0.971487   \n",
       "20                                0.943103   \n",
       "21                                0.968178   \n",
       "22                                0.979790   \n",
       "23                                0.965714   \n",
       "24                                0.979775   \n",
       "25                                0.952276   \n",
       "26                                0.939458   \n",
       "27                                0.968225   \n",
       "28                                0.948887   \n",
       "29                                0.954304   \n",
       "...                                    ...   \n",
       "1970                              0.960282   \n",
       "1971                              0.948072   \n",
       "1972                              0.949275   \n",
       "1973                              0.922978   \n",
       "1974                              0.937694   \n",
       "1975                              0.958362   \n",
       "1976                              0.937353   \n",
       "1977                              0.966214   \n",
       "1978                              0.974343   \n",
       "1979                              0.947076   \n",
       "1980                              0.971950   \n",
       "1981                              0.971829   \n",
       "1982                              0.962928   \n",
       "1983                              0.976105   \n",
       "1984                              0.930321   \n",
       "1985                              0.961424   \n",
       "1986                              0.945725   \n",
       "1987                              0.930817   \n",
       "1988                              0.948526   \n",
       "1989                              0.947734   \n",
       "1990                              0.941035   \n",
       "1991                              0.972560   \n",
       "1992                              0.933133   \n",
       "1993                              0.924591   \n",
       "1994                              0.951799   \n",
       "1995                              0.960213   \n",
       "1996                              0.949374   \n",
       "1997                              0.920666   \n",
       "1998                              0.946184   \n",
       "1999                              0.961463   \n",
       "\n",
       "      extracted_slicenew1_/map500exp_4.csv  \\\n",
       "0                                 0.939273   \n",
       "1                                 0.977306   \n",
       "2                                 0.950439   \n",
       "3                                 0.967556   \n",
       "4                                 1.000000   \n",
       "5                                 0.961154   \n",
       "6                                 0.967418   \n",
       "7                                 0.950714   \n",
       "8                                 0.920633   \n",
       "9                                 0.963751   \n",
       "10                                0.965165   \n",
       "11                                0.963263   \n",
       "12                                0.957768   \n",
       "13                                0.939938   \n",
       "14                                0.958185   \n",
       "15                                0.957572   \n",
       "16                                0.971894   \n",
       "17                                0.936977   \n",
       "18                                0.988140   \n",
       "19                                0.957151   \n",
       "20                                0.952106   \n",
       "21                                0.973804   \n",
       "22                                0.983677   \n",
       "23                                0.989086   \n",
       "24                                0.969112   \n",
       "25                                0.956931   \n",
       "26                                0.944681   \n",
       "27                                0.986584   \n",
       "28                                0.958413   \n",
       "29                                0.960440   \n",
       "...                                    ...   \n",
       "1970                              0.975647   \n",
       "1971                              0.954611   \n",
       "1972                              0.963817   \n",
       "1973                              0.924508   \n",
       "1974                              0.945210   \n",
       "1975                              0.959995   \n",
       "1976                              0.932462   \n",
       "1977                              0.973844   \n",
       "1978                              0.988401   \n",
       "1979                              0.946041   \n",
       "1980                              0.959176   \n",
       "1981                              0.974524   \n",
       "1982                              0.969897   \n",
       "1983                              0.961085   \n",
       "1984                              0.931525   \n",
       "1985                              0.949732   \n",
       "1986                              0.959833   \n",
       "1987                              0.937741   \n",
       "1988                              0.954492   \n",
       "1989                              0.959107   \n",
       "1990                              0.919045   \n",
       "1991                              0.969336   \n",
       "1992                              0.934213   \n",
       "1993                              0.928771   \n",
       "1994                              0.966182   \n",
       "1995                              0.955256   \n",
       "1996                              0.939875   \n",
       "1997                              0.914989   \n",
       "1998                              0.955889   \n",
       "1999                              0.960120   \n",
       "\n",
       "      extracted_slicenew1_/map500exp_5.csv  \\\n",
       "0                                 0.946078   \n",
       "1                                 0.958790   \n",
       "2                                 0.965415   \n",
       "3                                 0.972512   \n",
       "4                                 0.961154   \n",
       "5                                 1.000000   \n",
       "6                                 0.965752   \n",
       "7                                 0.963279   \n",
       "8                                 0.939556   \n",
       "9                                 0.965437   \n",
       "10                                0.968351   \n",
       "11                                0.979656   \n",
       "12                                0.963726   \n",
       "13                                0.947216   \n",
       "14                                0.960049   \n",
       "15                                0.969264   \n",
       "16                                0.958547   \n",
       "17                                0.954989   \n",
       "18                                0.963491   \n",
       "19                                0.987354   \n",
       "20                                0.954257   \n",
       "21                                0.967682   \n",
       "22                                0.972316   \n",
       "23                                0.955187   \n",
       "24                                0.964575   \n",
       "25                                0.944827   \n",
       "26                                0.955907   \n",
       "27                                0.958927   \n",
       "28                                0.939095   \n",
       "29                                0.945231   \n",
       "...                                    ...   \n",
       "1970                              0.952954   \n",
       "1971                              0.962809   \n",
       "1972                              0.963164   \n",
       "1973                              0.934109   \n",
       "1974                              0.950467   \n",
       "1975                              0.952393   \n",
       "1976                              0.946370   \n",
       "1977                              0.957889   \n",
       "1978                              0.967665   \n",
       "1979                              0.958373   \n",
       "1980                              0.956842   \n",
       "1981                              0.968568   \n",
       "1982                              0.956673   \n",
       "1983                              0.961602   \n",
       "1984                              0.945813   \n",
       "1985                              0.974872   \n",
       "1986                              0.938663   \n",
       "1987                              0.944990   \n",
       "1988                              0.945381   \n",
       "1989                              0.939744   \n",
       "1990                              0.949335   \n",
       "1991                              0.959031   \n",
       "1992                              0.948582   \n",
       "1993                              0.936317   \n",
       "1994                              0.948104   \n",
       "1995                              0.978023   \n",
       "1996                              0.956163   \n",
       "1997                              0.933440   \n",
       "1998                              0.955785   \n",
       "1999                              0.952940   \n",
       "\n",
       "      extracted_slicenew1_/map500exp_6.csv  \\\n",
       "0                                 0.934771   \n",
       "1                                 0.961273   \n",
       "2                                 0.951432   \n",
       "3                                 0.976845   \n",
       "4                                 0.967418   \n",
       "5                                 0.965752   \n",
       "6                                 1.000000   \n",
       "7                                 0.949232   \n",
       "8                                 0.939657   \n",
       "9                                 0.990039   \n",
       "10                                0.995068   \n",
       "11                                0.956689   \n",
       "12                                0.958235   \n",
       "13                                0.939191   \n",
       "14                                0.954012   \n",
       "15                                0.958051   \n",
       "16                                0.965844   \n",
       "17                                0.936825   \n",
       "18                                0.967793   \n",
       "19                                0.967610   \n",
       "20                                0.952285   \n",
       "21                                0.967940   \n",
       "22                                0.975782   \n",
       "23                                0.960998   \n",
       "24                                0.971013   \n",
       "25                                0.960848   \n",
       "26                                0.946961   \n",
       "27                                0.962818   \n",
       "28                                0.953203   \n",
       "29                                0.958164   \n",
       "...                                    ...   \n",
       "1970                              0.954327   \n",
       "1971                              0.954724   \n",
       "1972                              0.955905   \n",
       "1973                              0.925421   \n",
       "1974                              0.945996   \n",
       "1975                              0.968276   \n",
       "1976                              0.944784   \n",
       "1977                              0.976874   \n",
       "1978                              0.967875   \n",
       "1979                              0.954512   \n",
       "1980                              0.977383   \n",
       "1981                              0.967704   \n",
       "1982                              0.971507   \n",
       "1983                              0.989498   \n",
       "1984                              0.932693   \n",
       "1985                              0.974441   \n",
       "1986                              0.953438   \n",
       "1987                              0.936280   \n",
       "1988                              0.958430   \n",
       "1989                              0.955329   \n",
       "1990                              0.937407   \n",
       "1991                              0.987994   \n",
       "1992                              0.931268   \n",
       "1993                              0.929131   \n",
       "1994                              0.958879   \n",
       "1995                              0.965587   \n",
       "1996                              0.959248   \n",
       "1997                              0.926582   \n",
       "1998                              0.940231   \n",
       "1999                              0.970815   \n",
       "\n",
       "      extracted_slicenew1_/map500exp_7.csv  \\\n",
       "0                                 0.944584   \n",
       "1                                 0.941832   \n",
       "2                                 0.978658   \n",
       "3                                 0.944956   \n",
       "4                                 0.950714   \n",
       "5                                 0.963279   \n",
       "6                                 0.949232   \n",
       "7                                 1.000000   \n",
       "8                                 0.931455   \n",
       "9                                 0.949516   \n",
       "10                                0.951849   \n",
       "11                                0.959776   \n",
       "12                                0.971125   \n",
       "13                                0.977060   \n",
       "14                                0.941632   \n",
       "15                                0.977499   \n",
       "16                                0.963681   \n",
       "17                                0.936871   \n",
       "18                                0.952138   \n",
       "19                                0.953968   \n",
       "20                                0.957169   \n",
       "21                                0.951461   \n",
       "22                                0.946415   \n",
       "23                                0.945716   \n",
       "24                                0.937513   \n",
       "25                                0.960998   \n",
       "26                                0.971123   \n",
       "27                                0.951043   \n",
       "28                                0.952757   \n",
       "29                                0.956290   \n",
       "...                                    ...   \n",
       "1970                              0.946071   \n",
       "1971                              0.973222   \n",
       "1972                              0.962535   \n",
       "1973                              0.934871   \n",
       "1974                              0.983025   \n",
       "1975                              0.946294   \n",
       "1976                              0.937997   \n",
       "1977                              0.951389   \n",
       "1978                              0.956519   \n",
       "1979                              0.950711   \n",
       "1980                              0.949729   \n",
       "1981                              0.951657   \n",
       "1982                              0.962386   \n",
       "1983                              0.945126   \n",
       "1984                              0.950176   \n",
       "1985                              0.958003   \n",
       "1986                              0.964555   \n",
       "1987                              0.944067   \n",
       "1988                              0.958870   \n",
       "1989                              0.950464   \n",
       "1990                              0.923233   \n",
       "1991                              0.942990   \n",
       "1992                              0.954028   \n",
       "1993                              0.960189   \n",
       "1994                              0.973053   \n",
       "1995                              0.971387   \n",
       "1996                              0.946419   \n",
       "1997                              0.925284   \n",
       "1998                              0.949305   \n",
       "1999                              0.947203   \n",
       "\n",
       "      extracted_slicenew1_/map500exp_8.csv  \\\n",
       "0                                 0.942711   \n",
       "1                                 0.917822   \n",
       "2                                 0.933429   \n",
       "3                                 0.933282   \n",
       "4                                 0.920633   \n",
       "5                                 0.939556   \n",
       "6                                 0.939657   \n",
       "7                                 0.931455   \n",
       "8                                 1.000000   \n",
       "9                                 0.934142   \n",
       "10                                0.938664   \n",
       "11                                0.933838   \n",
       "12                                0.933006   \n",
       "13                                0.926983   \n",
       "14                                0.923458   \n",
       "15                                0.931657   \n",
       "16                                0.928387   \n",
       "17                                0.956357   \n",
       "18                                0.923861   \n",
       "19                                0.944245   \n",
       "20                                0.928093   \n",
       "21                                0.928442   \n",
       "22                                0.926120   \n",
       "23                                0.916914   \n",
       "24                                0.930373   \n",
       "25                                0.920953   \n",
       "26                                0.932222   \n",
       "27                                0.917468   \n",
       "28                                0.916502   \n",
       "29                                0.923783   \n",
       "...                                    ...   \n",
       "1970                              0.916671   \n",
       "1971                              0.929040   \n",
       "1972                              0.931205   \n",
       "1973                              0.934087   \n",
       "1974                              0.928387   \n",
       "1975                              0.926171   \n",
       "1976                              0.963677   \n",
       "1977                              0.937198   \n",
       "1978                              0.925329   \n",
       "1979                              0.926091   \n",
       "1980                              0.945764   \n",
       "1981                              0.925273   \n",
       "1982                              0.928627   \n",
       "1983                              0.943029   \n",
       "1984                              0.942037   \n",
       "1985                              0.947943   \n",
       "1986                              0.918943   \n",
       "1987                              0.950499   \n",
       "1988                              0.923838   \n",
       "1989                              0.921778   \n",
       "1990                              0.952007   \n",
       "1991                              0.929131   \n",
       "1992                              0.946924   \n",
       "1993                              0.939849   \n",
       "1994                              0.921460   \n",
       "1995                              0.949766   \n",
       "1996                              0.962349   \n",
       "1997                              0.933300   \n",
       "1998                              0.922954   \n",
       "1999                              0.922175   \n",
       "\n",
       "      extracted_slicenew1_/map500exp_9.csv  ...  \\\n",
       "0                                 0.932976  ...   \n",
       "1                                 0.959163  ...   \n",
       "2                                 0.951685  ...   \n",
       "3                                 0.979824  ...   \n",
       "4                                 0.963751  ...   \n",
       "5                                 0.965437  ...   \n",
       "6                                 0.990039  ...   \n",
       "7                                 0.949516  ...   \n",
       "8                                 0.934142  ...   \n",
       "9                                 1.000000  ...   \n",
       "10                                0.993121  ...   \n",
       "11                                0.954241  ...   \n",
       "12                                0.956037  ...   \n",
       "13                                0.937038  ...   \n",
       "14                                0.955329  ...   \n",
       "15                                0.956072  ...   \n",
       "16                                0.965809  ...   \n",
       "17                                0.934064  ...   \n",
       "18                                0.969361  ...   \n",
       "19                                0.962680  ...   \n",
       "20                                0.948577  ...   \n",
       "21                                0.963758  ...   \n",
       "22                                0.972057  ...   \n",
       "23                                0.960220  ...   \n",
       "24                                0.970233  ...   \n",
       "25                                0.959892  ...   \n",
       "26                                0.944528  ...   \n",
       "27                                0.965812  ...   \n",
       "28                                0.955554  ...   \n",
       "29                                0.960481  ...   \n",
       "...                                    ...  ...   \n",
       "1970                              0.955187  ...   \n",
       "1971                              0.953075  ...   \n",
       "1972                              0.953071  ...   \n",
       "1973                              0.924831  ...   \n",
       "1974                              0.942622  ...   \n",
       "1975                              0.967648  ...   \n",
       "1976                              0.940006  ...   \n",
       "1977                              0.974147  ...   \n",
       "1978                              0.968950  ...   \n",
       "1979                              0.953812  ...   \n",
       "1980                              0.981380  ...   \n",
       "1981                              0.965766  ...   \n",
       "1982                              0.969658  ...   \n",
       "1983                              0.984615  ...   \n",
       "1984                              0.931487  ...   \n",
       "1985                              0.971703  ...   \n",
       "1986                              0.952671  ...   \n",
       "1987                              0.932548  ...   \n",
       "1988                              0.954507  ...   \n",
       "1989                              0.954338  ...   \n",
       "1990                              0.935657  ...   \n",
       "1991                              0.989046  ...   \n",
       "1992                              0.929792  ...   \n",
       "1993                              0.925582  ...   \n",
       "1994                              0.958709  ...   \n",
       "1995                              0.966183  ...   \n",
       "1996                              0.953311  ...   \n",
       "1997                              0.924787  ...   \n",
       "1998                              0.939470  ...   \n",
       "1999                              0.971541  ...   \n",
       "\n",
       "      extracted_slicenew3_/map500exp_340.csv  \\\n",
       "0                                   0.955830   \n",
       "1                                   0.918922   \n",
       "2                                   0.924385   \n",
       "3                                   0.941035   \n",
       "4                                   0.919045   \n",
       "5                                   0.949335   \n",
       "6                                   0.937407   \n",
       "7                                   0.923233   \n",
       "8                                   0.952007   \n",
       "9                                   0.935657   \n",
       "10                                  0.939112   \n",
       "11                                  0.938087   \n",
       "12                                  0.923421   \n",
       "13                                  0.921993   \n",
       "14                                  0.928232   \n",
       "15                                  0.929069   \n",
       "16                                  0.921230   \n",
       "17                                  0.949060   \n",
       "18                                  0.922814   \n",
       "19                                  0.953714   \n",
       "20                                  0.921406   \n",
       "21                                  0.929348   \n",
       "22                                  0.928517   \n",
       "23                                  0.915176   \n",
       "24                                  0.941827   \n",
       "25                                  0.913205   \n",
       "26                                  0.918065   \n",
       "27                                  0.916952   \n",
       "28                                  0.904095   \n",
       "29                                  0.914707   \n",
       "...                                      ...   \n",
       "1970                                0.914771   \n",
       "1971                                0.931742   \n",
       "1972                                0.930570   \n",
       "1973                                0.944398   \n",
       "1974                                0.914877   \n",
       "1975                                0.918850   \n",
       "1976                                0.957815   \n",
       "1977                                0.923646   \n",
       "1978                                0.927373   \n",
       "1979                                0.928902   \n",
       "1980                                0.931463   \n",
       "1981                                0.929696   \n",
       "1982                                0.918422   \n",
       "1983                                0.941371   \n",
       "1984                                0.951339   \n",
       "1985                                0.949480   \n",
       "1986                                0.903063   \n",
       "1987                                0.939415   \n",
       "1988                                0.914487   \n",
       "1989                                0.904462   \n",
       "1990                                1.000000   \n",
       "1991                                0.927093   \n",
       "1992                                0.944151   \n",
       "1993                                0.942442   \n",
       "1994                                0.910129   \n",
       "1995                                0.941097   \n",
       "1996                                0.945892   \n",
       "1997                                0.946024   \n",
       "1998                                0.930271   \n",
       "1999                                0.918809   \n",
       "\n",
       "      extracted_slicenew3_/map500exp_341.csv  \\\n",
       "0                                   0.925306   \n",
       "1                                   0.964475   \n",
       "2                                   0.945234   \n",
       "3                                   0.972560   \n",
       "4                                   0.969336   \n",
       "5                                   0.959031   \n",
       "6                                   0.987994   \n",
       "7                                   0.942990   \n",
       "8                                   0.929131   \n",
       "9                                   0.989046   \n",
       "10                                  0.985717   \n",
       "11                                  0.950526   \n",
       "12                                  0.953337   \n",
       "13                                  0.931960   \n",
       "14                                  0.949351   \n",
       "15                                  0.950808   \n",
       "16                                  0.960290   \n",
       "17                                  0.927597   \n",
       "18                                  0.965277   \n",
       "19                                  0.959721   \n",
       "20                                  0.945675   \n",
       "21                                  0.961733   \n",
       "22                                  0.978372   \n",
       "23                                  0.966365   \n",
       "24                                  0.971432   \n",
       "25                                  0.954308   \n",
       "26                                  0.940388   \n",
       "27                                  0.967552   \n",
       "28                                  0.959693   \n",
       "29                                  0.951655   \n",
       "...                                      ...   \n",
       "1970                                0.955998   \n",
       "1971                                0.948007   \n",
       "1972                                0.949920   \n",
       "1973                                0.916350   \n",
       "1974                                0.939617   \n",
       "1975                                0.965174   \n",
       "1976                                0.935918   \n",
       "1977                                0.981093   \n",
       "1978                                0.961401   \n",
       "1979                                0.948737   \n",
       "1980                                0.973916   \n",
       "1981                                0.960012   \n",
       "1982                                0.965137   \n",
       "1983                                0.980121   \n",
       "1984                                0.923535   \n",
       "1985                                0.966778   \n",
       "1986                                0.958288   \n",
       "1987                                0.926569   \n",
       "1988                                0.952803   \n",
       "1989                                0.960321   \n",
       "1990                                0.927093   \n",
       "1991                                1.000000   \n",
       "1992                                0.921838   \n",
       "1993                                0.920423   \n",
       "1994                                0.960848   \n",
       "1995                                0.959263   \n",
       "1996                                0.950917   \n",
       "1997                                0.917072   \n",
       "1998                                0.933992   \n",
       "1999                                0.965091   \n",
       "\n",
       "      extracted_slicenew3_/map500exp_342.csv  \\\n",
       "0                                   0.956752   \n",
       "1                                   0.929958   \n",
       "2                                   0.942013   \n",
       "3                                   0.933133   \n",
       "4                                   0.934213   \n",
       "5                                   0.948582   \n",
       "6                                   0.931268   \n",
       "7                                   0.954028   \n",
       "8                                   0.946924   \n",
       "9                                   0.929792   \n",
       "10                                  0.932884   \n",
       "11                                  0.949905   \n",
       "12                                  0.940084   \n",
       "13                                  0.948038   \n",
       "14                                  0.936886   \n",
       "15                                  0.960239   \n",
       "16                                  0.939135   \n",
       "17                                  0.963831   \n",
       "18                                  0.937986   \n",
       "19                                  0.942728   \n",
       "20                                  0.935485   \n",
       "21                                  0.942261   \n",
       "22                                  0.930474   \n",
       "23                                  0.930622   \n",
       "24                                  0.924728   \n",
       "25                                  0.943596   \n",
       "26                                  0.934801   \n",
       "27                                  0.932968   \n",
       "28                                  0.919787   \n",
       "29                                  0.929024   \n",
       "...                                      ...   \n",
       "1970                                0.932546   \n",
       "1971                                0.958451   \n",
       "1972                                0.942993   \n",
       "1973                                0.945018   \n",
       "1974                                0.946146   \n",
       "1975                                0.929015   \n",
       "1976                                0.944407   \n",
       "1977                                0.925214   \n",
       "1978                                0.942643   \n",
       "1979                                0.935633   \n",
       "1980                                0.926511   \n",
       "1981                                0.941716   \n",
       "1982                                0.934380   \n",
       "1983                                0.927123   \n",
       "1984                                0.954409   \n",
       "1985                                0.935200   \n",
       "1986                                0.930904   \n",
       "1987                                0.965314   \n",
       "1988                                0.945936   \n",
       "1989                                0.920040   \n",
       "1990                                0.944151   \n",
       "1991                                0.921838   \n",
       "1992                                1.000000   \n",
       "1993                                0.957417   \n",
       "1994                                0.938651   \n",
       "1995                                0.941922   \n",
       "1996                                0.928527   \n",
       "1997                                0.940885   \n",
       "1998                                0.941183   \n",
       "1999                                0.929329   \n",
       "\n",
       "      extracted_slicenew3_/map500exp_343.csv  \\\n",
       "0                                   0.966566   \n",
       "1                                   0.924436   \n",
       "2                                   0.944416   \n",
       "3                                   0.924591   \n",
       "4                                   0.928771   \n",
       "5                                   0.936317   \n",
       "6                                   0.929131   \n",
       "7                                   0.960189   \n",
       "8                                   0.939849   \n",
       "9                                   0.925582   \n",
       "10                                  0.927883   \n",
       "11                                  0.940269   \n",
       "12                                  0.946773   \n",
       "13                                  0.962508   \n",
       "14                                  0.923521   \n",
       "15                                  0.952583   \n",
       "16                                  0.939548   \n",
       "17                                  0.943897   \n",
       "18                                  0.932696   \n",
       "19                                  0.933162   \n",
       "20                                  0.935019   \n",
       "21                                  0.932842   \n",
       "22                                  0.925154   \n",
       "23                                  0.925046   \n",
       "24                                  0.914005   \n",
       "25                                  0.938274   \n",
       "26                                  0.941505   \n",
       "27                                  0.926621   \n",
       "28                                  0.927082   \n",
       "29                                  0.930915   \n",
       "...                                      ...   \n",
       "1970                                0.922128   \n",
       "1971                                0.953766   \n",
       "1972                                0.945759   \n",
       "1973                                0.955780   \n",
       "1974                                0.958499   \n",
       "1975                                0.925338   \n",
       "1976                                0.963072   \n",
       "1977                                0.928253   \n",
       "1978                                0.933162   \n",
       "1979                                0.935374   \n",
       "1980                                0.927449   \n",
       "1981                                0.931626   \n",
       "1982                                0.940922   \n",
       "1983                                0.924360   \n",
       "1984                                0.966240   \n",
       "1985                                0.930350   \n",
       "1986                                0.937563   \n",
       "1987                                0.949955   \n",
       "1988                                0.935789   \n",
       "1989                                0.925806   \n",
       "1990                                0.942442   \n",
       "1991                                0.920423   \n",
       "1992                                0.957417   \n",
       "1993                                1.000000   \n",
       "1994                                0.941568   \n",
       "1995                                0.940303   \n",
       "1996                                0.935553   \n",
       "1997                                0.950176   \n",
       "1998                                0.938393   \n",
       "1999                                0.924219   \n",
       "\n",
       "      extracted_slicenew3_/map500exp_344.csv  \\\n",
       "0                                   0.930061   \n",
       "1                                   0.954996   \n",
       "2                                   0.961028   \n",
       "3                                   0.951799   \n",
       "4                                   0.966182   \n",
       "5                                   0.948104   \n",
       "6                                   0.958879   \n",
       "7                                   0.973053   \n",
       "8                                   0.921460   \n",
       "9                                   0.958709   \n",
       "10                                  0.960713   \n",
       "11                                  0.945861   \n",
       "12                                  0.960719   \n",
       "13                                  0.961122   \n",
       "14                                  0.947896   \n",
       "15                                  0.963132   \n",
       "16                                  0.973062   \n",
       "17                                  0.926273   \n",
       "18                                  0.959079   \n",
       "19                                  0.941772   \n",
       "20                                  0.946226   \n",
       "21                                  0.957627   \n",
       "22                                  0.961841   \n",
       "23                                  0.960518   \n",
       "24                                  0.952952   \n",
       "25                                  0.967996   \n",
       "26                                  0.954616   \n",
       "27                                  0.968910   \n",
       "28                                  0.970384   \n",
       "29                                  0.964283   \n",
       "...                                      ...   \n",
       "1970                                0.963020   \n",
       "1971                                0.959289   \n",
       "1972                                0.950715   \n",
       "1973                                0.921352   \n",
       "1974                                0.967507   \n",
       "1975                                0.957011   \n",
       "1976                                0.927737   \n",
       "1977                                0.969163   \n",
       "1978                                0.962707   \n",
       "1979                                0.942857   \n",
       "1980                                0.959057   \n",
       "1981                                0.957295   \n",
       "1982                                0.970924   \n",
       "1983                                0.954167   \n",
       "1984                                0.935865   \n",
       "1985                                0.942990   \n",
       "1986                                0.986597   \n",
       "1987                                0.930801   \n",
       "1988                                0.967844   \n",
       "1989                                0.971870   \n",
       "1990                                0.910129   \n",
       "1991                                0.960848   \n",
       "1992                                0.938651   \n",
       "1993                                0.941568   \n",
       "1994                                1.000000   \n",
       "1995                                0.954198   \n",
       "1996                                0.937482   \n",
       "1997                                0.913215   \n",
       "1998                                0.939080   \n",
       "1999                                0.958205   \n",
       "\n",
       "      extracted_slicenew3_/map500exp_345.csv  \\\n",
       "0                                   0.945237   \n",
       "1                                   0.948925   \n",
       "2                                   0.975346   \n",
       "3                                   0.960213   \n",
       "4                                   0.955256   \n",
       "5                                   0.978023   \n",
       "6                                   0.965587   \n",
       "7                                   0.971387   \n",
       "8                                   0.949766   \n",
       "9                                   0.966183   \n",
       "10                                  0.968272   \n",
       "11                                  0.967481   \n",
       "12                                  0.971062   \n",
       "13                                  0.954009   \n",
       "14                                  0.948725   \n",
       "15                                  0.969304   \n",
       "16                                  0.962467   \n",
       "17                                  0.943167   \n",
       "18                                  0.956653   \n",
       "19                                  0.971364   \n",
       "20                                  0.958508   \n",
       "21                                  0.958543   \n",
       "22                                  0.959554   \n",
       "23                                  0.948864   \n",
       "24                                  0.954515   \n",
       "25                                  0.947974   \n",
       "26                                  0.967417   \n",
       "27                                  0.953945   \n",
       "28                                  0.947572   \n",
       "29                                  0.952543   \n",
       "...                                      ...   \n",
       "1970                                0.946982   \n",
       "1971                                0.963536   \n",
       "1972                                0.964650   \n",
       "1973                                0.935962   \n",
       "1974                                0.959582   \n",
       "1975                                0.953268   \n",
       "1976                                0.959746   \n",
       "1977                                0.972629   \n",
       "1978                                0.961002   \n",
       "1979                                0.957861   \n",
       "1980                                0.971714   \n",
       "1981                                0.959112   \n",
       "1982                                0.962701   \n",
       "1983                                0.962910   \n",
       "1984                                0.948160   \n",
       "1985                                0.977913   \n",
       "1986                                0.945863   \n",
       "1987                                0.944580   \n",
       "1988                                0.947692   \n",
       "1989                                0.947667   \n",
       "1990                                0.941097   \n",
       "1991                                0.959263   \n",
       "1992                                0.941922   \n",
       "1993                                0.940303   \n",
       "1994                                0.954198   \n",
       "1995                                1.000000   \n",
       "1996                                0.968221   \n",
       "1997                                0.930740   \n",
       "1998                                0.949804   \n",
       "1999                                0.954234   \n",
       "\n",
       "      extracted_slicenew3_/map500exp_346.csv  \\\n",
       "0                                   0.936171   \n",
       "1                                   0.934336   \n",
       "2                                   0.950012   \n",
       "3                                   0.949374   \n",
       "4                                   0.939875   \n",
       "5                                   0.956163   \n",
       "6                                   0.959248   \n",
       "7                                   0.946419   \n",
       "8                                   0.962349   \n",
       "9                                   0.953311   \n",
       "10                                  0.957274   \n",
       "11                                  0.947318   \n",
       "12                                  0.951809   \n",
       "13                                  0.951002   \n",
       "14                                  0.931084   \n",
       "15                                  0.948628   \n",
       "16                                  0.942196   \n",
       "17                                  0.930995   \n",
       "18                                  0.940073   \n",
       "19                                  0.961290   \n",
       "20                                  0.945561   \n",
       "21                                  0.941432   \n",
       "22                                  0.946225   \n",
       "23                                  0.935149   \n",
       "24                                  0.948395   \n",
       "25                                  0.936194   \n",
       "26                                  0.947631   \n",
       "27                                  0.935391   \n",
       "28                                  0.934935   \n",
       "29                                  0.939931   \n",
       "...                                      ...   \n",
       "1970                                0.931741   \n",
       "1971                                0.954219   \n",
       "1972                                0.955537   \n",
       "1973                                0.931509   \n",
       "1974                                0.944344   \n",
       "1975                                0.938863   \n",
       "1976                                0.956447   \n",
       "1977                                0.958164   \n",
       "1978                                0.941366   \n",
       "1979                                0.951084   \n",
       "1980                                0.964101   \n",
       "1981                                0.940238   \n",
       "1982                                0.946918   \n",
       "1983                                0.960068   \n",
       "1984                                0.938441   \n",
       "1985                                0.965412   \n",
       "1986                                0.933869   \n",
       "1987                                0.934571   \n",
       "1988                                0.934820   \n",
       "1989                                0.936855   \n",
       "1990                                0.945892   \n",
       "1991                                0.950917   \n",
       "1992                                0.928527   \n",
       "1993                                0.935553   \n",
       "1994                                0.937482   \n",
       "1995                                0.968221   \n",
       "1996                                1.000000   \n",
       "1997                                0.925484   \n",
       "1998                                0.944543   \n",
       "1999                                0.939045   \n",
       "\n",
       "      extracted_slicenew3_/map500exp_347.csv  \\\n",
       "0                                   0.957550   \n",
       "1                                   0.913822   \n",
       "2                                   0.931515   \n",
       "3                                   0.920666   \n",
       "4                                   0.914989   \n",
       "5                                   0.933440   \n",
       "6                                   0.926582   \n",
       "7                                   0.925284   \n",
       "8                                   0.933300   \n",
       "9                                   0.924787   \n",
       "10                                  0.928175   \n",
       "11                                  0.931573   \n",
       "12                                  0.927490   \n",
       "13                                  0.925286   \n",
       "14                                  0.924703   \n",
       "15                                  0.936059   \n",
       "16                                  0.922389   \n",
       "17                                  0.943663   \n",
       "18                                  0.917742   \n",
       "19                                  0.929056   \n",
       "20                                  0.925266   \n",
       "21                                  0.924197   \n",
       "22                                  0.916936   \n",
       "23                                  0.909600   \n",
       "24                                  0.913237   \n",
       "25                                  0.917792   \n",
       "26                                  0.927514   \n",
       "27                                  0.912854   \n",
       "28                                  0.913343   \n",
       "29                                  0.915771   \n",
       "...                                      ...   \n",
       "1970                                0.910894   \n",
       "1971                                0.935677   \n",
       "1972                                0.930567   \n",
       "1973                                0.947511   \n",
       "1974                                0.917350   \n",
       "1975                                0.937437   \n",
       "1976                                0.947059   \n",
       "1977                                0.915657   \n",
       "1978                                0.922431   \n",
       "1979                                0.954762   \n",
       "1980                                0.918343   \n",
       "1981                                0.924336   \n",
       "1982                                0.924930   \n",
       "1983                                0.922843   \n",
       "1984                                0.954318   \n",
       "1985                                0.929582   \n",
       "1986                                0.906623   \n",
       "1987                                0.940058   \n",
       "1988                                0.923288   \n",
       "1989                                0.912981   \n",
       "1990                                0.946024   \n",
       "1991                                0.917072   \n",
       "1992                                0.940885   \n",
       "1993                                0.950176   \n",
       "1994                                0.913215   \n",
       "1995                                0.930740   \n",
       "1996                                0.925484   \n",
       "1997                                1.000000   \n",
       "1998                                0.922027   \n",
       "1999                                0.940704   \n",
       "\n",
       "      extracted_slicenew3_/map500exp_348.csv  \\\n",
       "0                                   0.957400   \n",
       "1                                   0.946663   \n",
       "2                                   0.946990   \n",
       "3                                   0.946184   \n",
       "4                                   0.955889   \n",
       "5                                   0.955785   \n",
       "6                                   0.940231   \n",
       "7                                   0.949305   \n",
       "8                                   0.922954   \n",
       "9                                   0.939470   \n",
       "10                                  0.941386   \n",
       "11                                  0.958281   \n",
       "12                                  0.950426   \n",
       "13                                  0.952174   \n",
       "14                                  0.944501   \n",
       "15                                  0.954872   \n",
       "16                                  0.955521   \n",
       "17                                  0.938891   \n",
       "18                                  0.959245   \n",
       "19                                  0.952154   \n",
       "20                                  0.966942   \n",
       "21                                  0.948813   \n",
       "22                                  0.944841   \n",
       "23                                  0.960668   \n",
       "24                                  0.939069   \n",
       "25                                  0.938251   \n",
       "26                                  0.940179   \n",
       "27                                  0.956134   \n",
       "28                                  0.931464   \n",
       "29                                  0.952919   \n",
       "...                                      ...   \n",
       "1970                                0.958934   \n",
       "1971                                0.959267   \n",
       "1972                                0.973555   \n",
       "1973                                0.957532   \n",
       "1974                                0.945077   \n",
       "1975                                0.933452   \n",
       "1976                                0.936017   \n",
       "1977                                0.938114   \n",
       "1978                                0.962433   \n",
       "1979                                0.952310   \n",
       "1980                                0.938217   \n",
       "1981                                0.954315   \n",
       "1982                                0.943144   \n",
       "1983                                0.935340   \n",
       "1984                                0.940311   \n",
       "1985                                0.942094   \n",
       "1986                                0.932692   \n",
       "1987                                0.953923   \n",
       "1988                                0.934424   \n",
       "1989                                0.930133   \n",
       "1990                                0.930271   \n",
       "1991                                0.933992   \n",
       "1992                                0.941183   \n",
       "1993                                0.938393   \n",
       "1994                                0.939080   \n",
       "1995                                0.949804   \n",
       "1996                                0.944543   \n",
       "1997                                0.922027   \n",
       "1998                                1.000000   \n",
       "1999                                0.937228   \n",
       "\n",
       "      extracted_slicenew3_/map500exp_349.csv  \n",
       "0                                   0.930341  \n",
       "1                                   0.957269  \n",
       "2                                   0.952958  \n",
       "3                                   0.961463  \n",
       "4                                   0.960120  \n",
       "5                                   0.952940  \n",
       "6                                   0.970815  \n",
       "7                                   0.947203  \n",
       "8                                   0.922175  \n",
       "9                                   0.971541  \n",
       "10                                  0.970826  \n",
       "11                                  0.950275  \n",
       "12                                  0.956002  \n",
       "13                                  0.937402  \n",
       "14                                  0.957441  \n",
       "15                                  0.956628  \n",
       "16                                  0.962939  \n",
       "17                                  0.933522  \n",
       "18                                  0.962566  \n",
       "19                                  0.949097  \n",
       "20                                  0.951321  \n",
       "21                                  0.961593  \n",
       "22                                  0.961463  \n",
       "23                                  0.955908  \n",
       "24                                  0.953370  \n",
       "25                                  0.958712  \n",
       "26                                  0.948449  \n",
       "27                                  0.960967  \n",
       "28                                  0.961165  \n",
       "29                                  0.958439  \n",
       "...                                      ...  \n",
       "1970                                0.954552  \n",
       "1971                                0.952861  \n",
       "1972                                0.949696  \n",
       "1973                                0.927485  \n",
       "1974                                0.942964  \n",
       "1975                                0.981354  \n",
       "1976                                0.929719  \n",
       "1977                                0.962589  \n",
       "1978                                0.964106  \n",
       "1979                                0.972795  \n",
       "1980                                0.967274  \n",
       "1981                                0.964038  \n",
       "1982                                0.967897  \n",
       "1983                                0.963620  \n",
       "1984                                0.932426  \n",
       "1985                                0.950888  \n",
       "1986                                0.952521  \n",
       "1987                                0.931390  \n",
       "1988                                0.958382  \n",
       "1989                                0.958559  \n",
       "1990                                0.918809  \n",
       "1991                                0.965091  \n",
       "1992                                0.929329  \n",
       "1993                                0.924219  \n",
       "1994                                0.958205  \n",
       "1995                                0.954234  \n",
       "1996                                0.939045  \n",
       "1997                                0.940704  \n",
       "1998                                0.937228  \n",
       "1999                                1.000000  \n",
       "\n",
       "[2000 rows x 2000 columns]"
      ]
     },
     "execution_count": 3,
     "metadata": {},
     "output_type": "execute_result"
    }
   ],
   "source": [
    "kappa_df"
   ]
  },
  {
   "cell_type": "markdown",
   "metadata": {},
   "source": [
    "## In cluster similarity check"
   ]
  },
  {
   "cell_type": "markdown",
   "metadata": {},
   "source": [
    "### 2 clusters"
   ]
  },
  {
   "cell_type": "code",
   "execution_count": 3,
   "metadata": {},
   "outputs": [
    {
     "data": {
      "text/plain": [
       "(array([0, 1], dtype=int64), array([ 523, 1477], dtype=int64))"
      ]
     },
     "execution_count": 3,
     "metadata": {},
     "output_type": "execute_result"
    }
   ],
   "source": [
    "from sklearn.cluster import AgglomerativeClustering\n",
    "clustering = AgglomerativeClustering(n_clusters=2, affinity='precomputed', linkage='complete').fit(kappa_df1)\n",
    "np.unique(clustering.labels_, return_counts=True)"
   ]
  },
  {
   "cell_type": "code",
   "execution_count": 4,
   "metadata": {},
   "outputs": [
    {
     "data": {
      "image/png": "[encoded data removed]",
      "text/plain": [
       "<Figure size 432x288 with 1 Axes>"
      ]
     },
     "metadata": {},
     "output_type": "display_data"
    },
    {
     "data": {
      "text/plain": [
       "0.9528845195378414"
      ]
     },
     "execution_count": 4,
     "metadata": {},
     "output_type": "execute_result"
    }
   ],
   "source": [
    "ooi_0 = kappa_df[clustering.labels_==0]\n",
    "ooi_01 = ooi_0.T\n",
    "cluster1 = ooi_01[clustering.labels_==0]\n",
    "cluster1 = cluster1.T\n",
    "arr1 = cluster1.to_numpy()\n",
    "arr1half = arr1[np.triu_indices(arr1.shape[0], k = 0)]\n",
    "x = arr1half\n",
    "num_bins = 20\n",
    "n, bins, patches = plt.hist(x, num_bins, facecolor='blue', alpha=0.5)\n",
    "plt.axvline(x.mean(), color='k', linestyle='dashed', linewidth=1, label=str(np.mean(x)))\n",
    "plt.legend(loc='upper right')\n",
    "plt.show()\n",
    "mean_cluster1 = np.mean(x)\n",
    "mean_cluster1"
   ]
  },
  {
   "cell_type": "code",
   "execution_count": 5,
   "metadata": {},
   "outputs": [
    {
     "data": {
      "image/png": "[encoded data removed]",
      "text/plain": [
       "<Figure size 432x288 with 1 Axes>"
      ]
     },
     "metadata": {},
     "output_type": "display_data"
    },
    {
     "data": {
      "text/plain": [
       "0.95736417608969"
      ]
     },
     "execution_count": 5,
     "metadata": {},
     "output_type": "execute_result"
    }
   ],
   "source": [
    "ooi_1 = kappa_df[clustering.labels_==1]\n",
    "ooi_02 = ooi_1.T\n",
    "cluster2 = ooi_02[clustering.labels_==1]\n",
    "cluster2 = cluster2.T\n",
    "arr2 = cluster2.to_numpy()\n",
    "arr2half = arr2[np.triu_indices(arr2.shape[0], k = 0)]\n",
    "x = arr2half\n",
    "num_bins = 20\n",
    "n, bins, patches = plt.hist(x, num_bins, facecolor='blue', alpha=0.5)\n",
    "plt.axvline(x.mean(), color='k', linestyle='dashed', linewidth=1, label=str(np.mean(x)))\n",
    "plt.legend(loc='upper right')\n",
    "plt.show()\n",
    "mean_cluster2 = np.mean(x)\n",
    "mean_cluster2"
   ]
  },
  {
   "cell_type": "code",
   "execution_count": 6,
   "metadata": {},
   "outputs": [
    {
     "data": {
      "text/plain": [
       "0.9551243478137657"
      ]
     },
     "execution_count": 6,
     "metadata": {},
     "output_type": "execute_result"
    }
   ],
   "source": [
    "#Average of average\n",
    "Average_2clusters = (mean_cluster1 + mean_cluster2) / 2\n",
    "Average_2clusters"
   ]
  },
  {
   "cell_type": "markdown",
   "metadata": {},
   "source": [
    "### 3 clusters"
   ]
  },
  {
   "cell_type": "code",
   "execution_count": 7,
   "metadata": {},
   "outputs": [
    {
     "data": {
      "text/plain": [
       "(array([0, 1, 2], dtype=int64), array([1477,  444,   79], dtype=int64))"
      ]
     },
     "execution_count": 7,
     "metadata": {},
     "output_type": "execute_result"
    }
   ],
   "source": [
    "from sklearn.cluster import AgglomerativeClustering\n",
    "clustering = AgglomerativeClustering(n_clusters=3, affinity='precomputed', linkage='complete').fit(kappa_df1)\n",
    "np.unique(clustering.labels_, return_counts=True)"
   ]
  },
  {
   "cell_type": "code",
   "execution_count": 8,
   "metadata": {},
   "outputs": [
    {
     "data": {
      "image/png": "[encoded data removed]",
      "text/plain": [
       "<Figure size 432x288 with 1 Axes>"
      ]
     },
     "metadata": {},
     "output_type": "display_data"
    },
    {
     "data": {
      "text/plain": [
       "0.95736417608969"
      ]
     },
     "execution_count": 8,
     "metadata": {},
     "output_type": "execute_result"
    }
   ],
   "source": [
    "ooi_0 = kappa_df[clustering.labels_==0]\n",
    "ooi_01 = ooi_0.T\n",
    "cluster1 = ooi_01[clustering.labels_==0]\n",
    "cluster1 = cluster1.T\n",
    "arr1 = cluster1.to_numpy()\n",
    "arr1half = arr1[np.triu_indices(arr1.shape[0], k = 0)]\n",
    "x = arr1half\n",
    "num_bins = 20\n",
    "n, bins, patches = plt.hist(x, num_bins, facecolor='blue', alpha=0.5)\n",
    "plt.axvline(x.mean(), color='k', linestyle='dashed', linewidth=1, label=str(np.mean(x)))\n",
    "plt.legend(loc='upper right')\n",
    "plt.show()\n",
    "mean_cluster1 = np.mean(x)\n",
    "mean_cluster1"
   ]
  },
  {
   "cell_type": "code",
   "execution_count": 9,
   "metadata": {},
   "outputs": [
    {
     "data": {
      "image/png": "[encoded data removed]",
      "text/plain": [
       "<Figure size 432x288 with 1 Axes>"
      ]
     },
     "metadata": {},
     "output_type": "display_data"
    },
    {
     "data": {
      "text/plain": [
       "0.9555117721456372"
      ]
     },
     "execution_count": 9,
     "metadata": {},
     "output_type": "execute_result"
    }
   ],
   "source": [
    "ooi_1 = kappa_df[clustering.labels_==1]\n",
    "ooi_02 = ooi_1.T\n",
    "cluster2 = ooi_02[clustering.labels_==1]\n",
    "cluster2 = cluster2.T\n",
    "arr2 = cluster2.to_numpy()\n",
    "arr2half = arr2[np.triu_indices(arr2.shape[0], k = 0)]\n",
    "x = arr2half\n",
    "num_bins = 20\n",
    "n, bins, patches = plt.hist(x, num_bins, facecolor='blue', alpha=0.5)\n",
    "plt.axvline(x.mean(), color='k', linestyle='dashed', linewidth=1, label=str(np.mean(x)))\n",
    "plt.legend(loc='upper right')\n",
    "plt.show()\n",
    "mean_cluster2 = np.mean(x)\n",
    "mean_cluster2"
   ]
  },
  {
   "cell_type": "code",
   "execution_count": 10,
   "metadata": {},
   "outputs": [
    {
     "data": {
      "image/png": "[encoded data removed]",
      "text/plain": [
       "<Figure size 432x288 with 1 Axes>"
      ]
     },
     "metadata": {},
     "output_type": "display_data"
    },
    {
     "data": {
      "text/plain": [
       "0.9687327112859532"
      ]
     },
     "execution_count": 10,
     "metadata": {},
     "output_type": "execute_result"
    }
   ],
   "source": [
    "ooi_2 = kappa_df[clustering.labels_==2]\n",
    "ooi_03 = ooi_2.T\n",
    "cluster3 = ooi_03[clustering.labels_==2]\n",
    "cluster3 = cluster3.T\n",
    "arr3 = cluster3.to_numpy()\n",
    "arr3half = arr3[np.triu_indices(arr3.shape[0], k = 0)]\n",
    "x = arr3half\n",
    "num_bins = 20\n",
    "n, bins, patches = plt.hist(x, num_bins, facecolor='blue', alpha=0.5)\n",
    "plt.axvline(x.mean(), color='k', linestyle='dashed', linewidth=1, label=str(np.mean(x)))\n",
    "plt.legend(loc='upper right')\n",
    "plt.show()\n",
    "mean_cluster3 = np.mean(x)\n",
    "mean_cluster3"
   ]
  },
  {
   "cell_type": "code",
   "execution_count": 11,
   "metadata": {},
   "outputs": [
    {
     "data": {
      "text/plain": [
       "0.9605362198404267"
      ]
     },
     "execution_count": 11,
     "metadata": {},
     "output_type": "execute_result"
    }
   ],
   "source": [
    "#Average of average\n",
    "Average_3clusters = (mean_cluster1 + mean_cluster2 + mean_cluster3) /3\n",
    "Average_3clusters"
   ]
  },
  {
   "cell_type": "markdown",
   "metadata": {},
   "source": [
    "### 4 clusters"
   ]
  },
  {
   "cell_type": "code",
   "execution_count": 12,
   "metadata": {},
   "outputs": [
    {
     "data": {
      "text/plain": [
       "(array([0, 1, 2, 3], dtype=int64),\n",
       " array([1116,  444,   79,  361], dtype=int64))"
      ]
     },
     "execution_count": 12,
     "metadata": {},
     "output_type": "execute_result"
    }
   ],
   "source": [
    "from sklearn.cluster import AgglomerativeClustering\n",
    "clustering = AgglomerativeClustering(n_clusters=4, affinity='precomputed', linkage='complete').fit(kappa_df1)\n",
    "np.unique(clustering.labels_, return_counts=True)"
   ]
  },
  {
   "cell_type": "code",
   "execution_count": 13,
   "metadata": {},
   "outputs": [
    {
     "data": {
      "image/png": "[encoded data removed]",
      "text/plain": [
       "<Figure size 432x288 with 1 Axes>"
      ]
     },
     "metadata": {},
     "output_type": "display_data"
    },
    {
     "data": {
      "text/plain": [
       "0.9594899149338446"
      ]
     },
     "execution_count": 13,
     "metadata": {},
     "output_type": "execute_result"
    }
   ],
   "source": [
    "ooi_0 = kappa_df[clustering.labels_==0]\n",
    "ooi_01 = ooi_0.T\n",
    "cluster1 = ooi_01[clustering.labels_==0]\n",
    "cluster1 = cluster1.T\n",
    "arr1 = cluster1.to_numpy()\n",
    "arr1half = arr1[np.triu_indices(arr1.shape[0], k = 0)]\n",
    "x = arr1half\n",
    "num_bins = 20\n",
    "n, bins, patches = plt.hist(x, num_bins, facecolor='blue', alpha=0.5)\n",
    "plt.axvline(x.mean(), color='k', linestyle='dashed', linewidth=1, label=str(np.mean(x)))\n",
    "plt.legend(loc='upper right')\n",
    "plt.show()\n",
    "mean_cluster1 = np.mean(x)\n",
    "mean_cluster1"
   ]
  },
  {
   "cell_type": "code",
   "execution_count": 14,
   "metadata": {
    "scrolled": true
   },
   "outputs": [
    {
     "data": {
      "image/png": "[encoded data removed]",
      "text/plain": [
       "<Figure size 432x288 with 1 Axes>"
      ]
     },
     "metadata": {},
     "output_type": "display_data"
    },
    {
     "data": {
      "text/plain": [
       "0.9555117721456372"
      ]
     },
     "execution_count": 14,
     "metadata": {},
     "output_type": "execute_result"
    }
   ],
   "source": [
    "ooi_1 = kappa_df[clustering.labels_==1]\n",
    "ooi_02 = ooi_1.T\n",
    "cluster2 = ooi_02[clustering.labels_==1]\n",
    "cluster2 = cluster2.T\n",
    "arr2 = cluster2.to_numpy()\n",
    "arr2half = arr2[np.triu_indices(arr2.shape[0], k = 0)]\n",
    "x = arr2half\n",
    "num_bins = 20\n",
    "n, bins, patches = plt.hist(x, num_bins, facecolor='blue', alpha=0.5)\n",
    "plt.axvline(x.mean(), color='k', linestyle='dashed', linewidth=1, label=str(np.mean(x)))\n",
    "plt.legend(loc='upper right')\n",
    "plt.show()\n",
    "mean_cluster2 = np.mean(x)\n",
    "mean_cluster2"
   ]
  },
  {
   "cell_type": "code",
   "execution_count": 15,
   "metadata": {},
   "outputs": [
    {
     "data": {
      "image/png": "[encoded data removed]",
      "text/plain": [
       "<Figure size 432x288 with 1 Axes>"
      ]
     },
     "metadata": {},
     "output_type": "display_data"
    },
    {
     "data": {
      "text/plain": [
       "0.9687327112859532"
      ]
     },
     "execution_count": 15,
     "metadata": {},
     "output_type": "execute_result"
    }
   ],
   "source": [
    "ooi_2 = kappa_df[clustering.labels_==2]\n",
    "ooi_03 = ooi_2.T\n",
    "cluster3 = ooi_03[clustering.labels_==2]\n",
    "cluster3 = cluster3.T\n",
    "arr3 = cluster3.to_numpy()\n",
    "arr3half = arr3[np.triu_indices(arr3.shape[0], k = 0)]\n",
    "x = arr3half\n",
    "num_bins = 20\n",
    "n, bins, patches = plt.hist(x, num_bins, facecolor='blue', alpha=0.5)\n",
    "plt.axvline(x.mean(), color='k', linestyle='dashed', linewidth=1, label=str(np.mean(x)))\n",
    "plt.legend(loc='upper right')\n",
    "plt.show()\n",
    "mean_cluster3 = np.mean(x)\n",
    "mean_cluster3"
   ]
  },
  {
   "cell_type": "code",
   "execution_count": 16,
   "metadata": {},
   "outputs": [
    {
     "data": {
      "image/png": "[encoded data removed]",
      "text/plain": [
       "<Figure size 432x288 with 1 Axes>"
      ]
     },
     "metadata": {},
     "output_type": "display_data"
    },
    {
     "data": {
      "text/plain": [
       "0.9668110607134559"
      ]
     },
     "execution_count": 16,
     "metadata": {},
     "output_type": "execute_result"
    }
   ],
   "source": [
    "ooi_3 = kappa_df[clustering.labels_==3]\n",
    "ooi_04 = ooi_3.T\n",
    "cluster4 = ooi_04[clustering.labels_==3]\n",
    "cluster4 = cluster4.T\n",
    "arr4 = cluster4.to_numpy()\n",
    "arr4half = arr4[np.triu_indices(arr4.shape[0], k = 0)]\n",
    "x = arr4half\n",
    "num_bins = 20\n",
    "n, bins, patches = plt.hist(x, num_bins, facecolor='blue', alpha=0.5)\n",
    "plt.axvline(x.mean(), color='k', linestyle='dashed', linewidth=1, label=str(np.mean(x)))\n",
    "plt.legend(loc='upper right')\n",
    "plt.show()\n",
    "mean_cluster4 = np.mean(x)\n",
    "mean_cluster4"
   ]
  },
  {
   "cell_type": "code",
   "execution_count": 17,
   "metadata": {},
   "outputs": [
    {
     "data": {
      "text/plain": [
       "0.9626363647697228"
      ]
     },
     "execution_count": 17,
     "metadata": {},
     "output_type": "execute_result"
    }
   ],
   "source": [
    "#Average of average\n",
    "Average_4clusters = (mean_cluster1 + mean_cluster2 + mean_cluster3 + mean_cluster4) / 4\n",
    "Average_4clusters"
   ]
  },
  {
   "cell_type": "markdown",
   "metadata": {},
   "source": [
    "### 5 clusters"
   ]
  },
  {
   "cell_type": "code",
   "execution_count": 18,
   "metadata": {},
   "outputs": [
    {
     "data": {
      "text/plain": [
       "(array([0, 1, 2, 3, 4], dtype=int64),\n",
       " array([444, 855,  79, 361, 261], dtype=int64))"
      ]
     },
     "execution_count": 18,
     "metadata": {},
     "output_type": "execute_result"
    }
   ],
   "source": [
    "from sklearn.cluster import AgglomerativeClustering\n",
    "clustering = AgglomerativeClustering(n_clusters=5, affinity='precomputed', linkage='complete').fit(kappa_df1)\n",
    "np.unique(clustering.labels_, return_counts=True)"
   ]
  },
  {
   "cell_type": "code",
   "execution_count": 19,
   "metadata": {},
   "outputs": [
    {
     "data": {
      "image/png": "[encoded data removed]",
      "text/plain": [
       "<Figure size 432x288 with 1 Axes>"
      ]
     },
     "metadata": {},
     "output_type": "display_data"
    },
    {
     "data": {
      "text/plain": [
       "0.9555117721456372"
      ]
     },
     "execution_count": 19,
     "metadata": {},
     "output_type": "execute_result"
    }
   ],
   "source": [
    "ooi_0 = kappa_df[clustering.labels_==0]\n",
    "ooi_01 = ooi_0.T\n",
    "cluster1 = ooi_01[clustering.labels_==0]\n",
    "cluster1 = cluster1.T\n",
    "arr1 = cluster1.to_numpy()\n",
    "arr1half = arr1[np.triu_indices(arr1.shape[0], k = 0)]\n",
    "x = arr1half\n",
    "num_bins = 20\n",
    "n, bins, patches = plt.hist(x, num_bins, facecolor='blue', alpha=0.5)\n",
    "plt.axvline(x.mean(), color='k', linestyle='dashed', linewidth=1, label=str(np.mean(x)))\n",
    "plt.legend(loc='upper right')\n",
    "plt.show()\n",
    "mean_cluster1 = np.mean(x)\n",
    "mean_cluster1"
   ]
  },
  {
   "cell_type": "code",
   "execution_count": 20,
   "metadata": {},
   "outputs": [
    {
     "data": {
      "image/png": "[encoded data removed]",
      "text/plain": [
       "<Figure size 432x288 with 1 Axes>"
      ]
     },
     "metadata": {},
     "output_type": "display_data"
    },
    {
     "data": {
      "text/plain": [
       "0.9623636180436592"
      ]
     },
     "execution_count": 20,
     "metadata": {},
     "output_type": "execute_result"
    }
   ],
   "source": [
    "ooi_1 = kappa_df[clustering.labels_==1]\n",
    "ooi_02 = ooi_1.T\n",
    "cluster2 = ooi_02[clustering.labels_==1]\n",
    "cluster2 = cluster2.T\n",
    "arr2 = cluster2.to_numpy()\n",
    "arr2half = arr2[np.triu_indices(arr2.shape[0], k = 0)]\n",
    "x = arr2half\n",
    "num_bins = 20\n",
    "n, bins, patches = plt.hist(x, num_bins, facecolor='blue', alpha=0.5)\n",
    "plt.axvline(x.mean(), color='k', linestyle='dashed', linewidth=1, label=str(np.mean(x)))\n",
    "plt.legend(loc='upper right')\n",
    "plt.show()\n",
    "mean_cluster2 = np.mean(x)\n",
    "mean_cluster2"
   ]
  },
  {
   "cell_type": "code",
   "execution_count": 21,
   "metadata": {},
   "outputs": [
    {
     "data": {
      "image/png": "[encoded data removed]",
      "text/plain": [
       "<Figure size 432x288 with 1 Axes>"
      ]
     },
     "metadata": {},
     "output_type": "display_data"
    },
    {
     "data": {
      "text/plain": [
       "0.9687327112859532"
      ]
     },
     "execution_count": 21,
     "metadata": {},
     "output_type": "execute_result"
    }
   ],
   "source": [
    "ooi_2 = kappa_df[clustering.labels_==2]\n",
    "ooi_03 = ooi_2.T\n",
    "cluster3 = ooi_03[clustering.labels_==2]\n",
    "cluster3 = cluster3.T\n",
    "arr3 = cluster3.to_numpy()\n",
    "arr3half = arr3[np.triu_indices(arr3.shape[0], k = 0)]\n",
    "x = arr3half\n",
    "num_bins = 20\n",
    "n, bins, patches = plt.hist(x, num_bins, facecolor='blue', alpha=0.5)\n",
    "plt.axvline(x.mean(), color='k', linestyle='dashed', linewidth=1, label=str(np.mean(x)))\n",
    "plt.legend(loc='upper right')\n",
    "plt.show()\n",
    "mean_cluster3 = np.mean(x)\n",
    "mean_cluster3"
   ]
  },
  {
   "cell_type": "code",
   "execution_count": 22,
   "metadata": {},
   "outputs": [
    {
     "data": {
      "image/png": "[encoded data removed]",
      "text/plain": [
       "<Figure size 432x288 with 1 Axes>"
      ]
     },
     "metadata": {},
     "output_type": "display_data"
    },
    {
     "data": {
      "text/plain": [
       "0.9668110607134559"
      ]
     },
     "execution_count": 22,
     "metadata": {},
     "output_type": "execute_result"
    }
   ],
   "source": [
    "ooi_3 = kappa_df[clustering.labels_==3]\n",
    "ooi_04 = ooi_3.T\n",
    "cluster4 = ooi_04[clustering.labels_==3]\n",
    "cluster4 = cluster4.T\n",
    "arr4 = cluster4.to_numpy()\n",
    "arr4half = arr4[np.triu_indices(arr4.shape[0], k = 0)]\n",
    "x = arr4half\n",
    "num_bins = 20\n",
    "n, bins, patches = plt.hist(x, num_bins, facecolor='blue', alpha=0.5)\n",
    "plt.axvline(x.mean(), color='k', linestyle='dashed', linewidth=1, label=str(np.mean(x)))\n",
    "plt.legend(loc='upper right')\n",
    "plt.show()\n",
    "mean_cluster4 = np.mean(x)\n",
    "mean_cluster4"
   ]
  },
  {
   "cell_type": "code",
   "execution_count": 23,
   "metadata": {},
   "outputs": [
    {
     "data": {
      "image/png": "[encoded data removed]",
      "text/plain": [
       "<Figure size 432x288 with 1 Axes>"
      ]
     },
     "metadata": {},
     "output_type": "display_data"
    },
    {
     "data": {
      "text/plain": [
       "0.9681612229588729"
      ]
     },
     "execution_count": 23,
     "metadata": {},
     "output_type": "execute_result"
    }
   ],
   "source": [
    "ooi_4 = kappa_df[clustering.labels_==4]\n",
    "ooi_05 = ooi_4.T\n",
    "cluster5 = ooi_05[clustering.labels_==4]\n",
    "cluster5 = cluster5.T\n",
    "arr5 = cluster5.to_numpy()\n",
    "arr5half = arr5[np.triu_indices(arr5.shape[0], k = 0)]\n",
    "x = arr5half\n",
    "num_bins = 20\n",
    "n, bins, patches = plt.hist(x, num_bins, facecolor='blue', alpha=0.5)\n",
    "plt.axvline(x.mean(), color='k', linestyle='dashed', linewidth=1, label=str(np.mean(x)))\n",
    "plt.legend(loc='upper right')\n",
    "plt.show()\n",
    "mean_cluster5 = np.mean(x)\n",
    "mean_cluster5"
   ]
  },
  {
   "cell_type": "code",
   "execution_count": 24,
   "metadata": {},
   "outputs": [
    {
     "data": {
      "text/plain": [
       "0.9643160770295156"
      ]
     },
     "execution_count": 24,
     "metadata": {},
     "output_type": "execute_result"
    }
   ],
   "source": [
    "#Average of average\n",
    "Average_5clusters = (mean_cluster1 + mean_cluster2 + mean_cluster3 + mean_cluster4 + mean_cluster5) / 5\n",
    "Average_5clusters"
   ]
  },
  {
   "cell_type": "markdown",
   "metadata": {},
   "source": [
    "### 6 clusters"
   ]
  },
  {
   "cell_type": "code",
   "execution_count": 25,
   "metadata": {},
   "outputs": [
    {
     "data": {
      "text/plain": [
       "(array([0, 1, 2, 3, 4, 5], dtype=int64),\n",
       " array([855, 161, 283, 361, 261,  79], dtype=int64))"
      ]
     },
     "execution_count": 25,
     "metadata": {},
     "output_type": "execute_result"
    }
   ],
   "source": [
    "from sklearn.cluster import AgglomerativeClustering\n",
    "clustering = AgglomerativeClustering(n_clusters=6, affinity='precomputed', linkage='complete').fit(kappa_df1)\n",
    "np.unique(clustering.labels_, return_counts=True)"
   ]
  },
  {
   "cell_type": "code",
   "execution_count": 26,
   "metadata": {},
   "outputs": [
    {
     "data": {
      "image/png": "[encoded data removed]",
      "text/plain": [
       "<Figure size 432x288 with 1 Axes>"
      ]
     },
     "metadata": {},
     "output_type": "display_data"
    },
    {
     "data": {
      "text/plain": [
       "0.9623636180436592"
      ]
     },
     "execution_count": 26,
     "metadata": {},
     "output_type": "execute_result"
    }
   ],
   "source": [
    "ooi_0 = kappa_df[clustering.labels_==0]\n",
    "ooi_01 = ooi_0.T\n",
    "cluster1 = ooi_01[clustering.labels_==0]\n",
    "cluster1 = cluster1.T\n",
    "arr1 = cluster1.to_numpy()\n",
    "arr1half = arr1[np.triu_indices(arr1.shape[0], k = 0)]\n",
    "x = arr1half\n",
    "num_bins = 20\n",
    "n, bins, patches = plt.hist(x, num_bins, facecolor='blue', alpha=0.5)\n",
    "plt.axvline(x.mean(), color='k', linestyle='dashed', linewidth=1, label=str(np.mean(x)))\n",
    "plt.legend(loc='upper right')\n",
    "plt.show()\n",
    "mean_cluster1 = np.mean(x)\n",
    "mean_cluster1"
   ]
  },
  {
   "cell_type": "code",
   "execution_count": 27,
   "metadata": {},
   "outputs": [
    {
     "data": {
      "image/png": "[encoded data removed]",
      "text/plain": [
       "<Figure size 432x288 with 1 Axes>"
      ]
     },
     "metadata": {},
     "output_type": "display_data"
    },
    {
     "data": {
      "text/plain": [
       "0.9623371773388902"
      ]
     },
     "execution_count": 27,
     "metadata": {},
     "output_type": "execute_result"
    }
   ],
   "source": [
    "ooi_1 = kappa_df[clustering.labels_==1]\n",
    "ooi_02 = ooi_1.T\n",
    "cluster2 = ooi_02[clustering.labels_==1]\n",
    "cluster2 = cluster2.T\n",
    "arr2 = cluster2.to_numpy()\n",
    "arr2half = arr2[np.triu_indices(arr2.shape[0], k = 0)]\n",
    "x = arr2half\n",
    "num_bins = 20\n",
    "n, bins, patches = plt.hist(x, num_bins, facecolor='blue', alpha=0.5)\n",
    "plt.axvline(x.mean(), color='k', linestyle='dashed', linewidth=1, label=str(np.mean(x)))\n",
    "plt.legend(loc='upper right')\n",
    "plt.show()\n",
    "mean_cluster2 = np.mean(x)\n",
    "mean_cluster2"
   ]
  },
  {
   "cell_type": "code",
   "execution_count": 28,
   "metadata": {},
   "outputs": [
    {
     "data": {
      "image/png": "[encoded data removed]",
      "text/plain": [
       "<Figure size 432x288 with 1 Axes>"
      ]
     },
     "metadata": {},
     "output_type": "display_data"
    },
    {
     "data": {
      "text/plain": [
       "0.9618475954812382"
      ]
     },
     "execution_count": 28,
     "metadata": {},
     "output_type": "execute_result"
    }
   ],
   "source": [
    "ooi_2 = kappa_df[clustering.labels_==2]\n",
    "ooi_03 = ooi_2.T\n",
    "cluster3 = ooi_03[clustering.labels_==2]\n",
    "cluster3 = cluster3.T\n",
    "arr3 = cluster3.to_numpy()\n",
    "arr3half = arr3[np.triu_indices(arr3.shape[0], k = 0)]\n",
    "x = arr3half\n",
    "num_bins = 20\n",
    "n, bins, patches = plt.hist(x, num_bins, facecolor='blue', alpha=0.5)\n",
    "plt.axvline(x.mean(), color='k', linestyle='dashed', linewidth=1, label=str(np.mean(x)))\n",
    "plt.legend(loc='upper right')\n",
    "plt.show()\n",
    "mean_cluster3 = np.mean(x)\n",
    "mean_cluster3"
   ]
  },
  {
   "cell_type": "code",
   "execution_count": 29,
   "metadata": {},
   "outputs": [
    {
     "data": {
      "image/png": "[encoded data removed]",
      "text/plain": [
       "<Figure size 432x288 with 1 Axes>"
      ]
     },
     "metadata": {},
     "output_type": "display_data"
    },
    {
     "data": {
      "text/plain": [
       "0.9668110607134559"
      ]
     },
     "execution_count": 29,
     "metadata": {},
     "output_type": "execute_result"
    }
   ],
   "source": [
    "ooi_3 = kappa_df[clustering.labels_==3]\n",
    "ooi_04 = ooi_3.T\n",
    "cluster4 = ooi_04[clustering.labels_==3]\n",
    "cluster4 = cluster4.T\n",
    "arr4 = cluster4.to_numpy()\n",
    "arr4half = arr4[np.triu_indices(arr4.shape[0], k = 0)]\n",
    "x = arr4half\n",
    "num_bins = 20\n",
    "n, bins, patches = plt.hist(x, num_bins, facecolor='blue', alpha=0.5)\n",
    "plt.axvline(x.mean(), color='k', linestyle='dashed', linewidth=1, label=str(np.mean(x)))\n",
    "plt.legend(loc='upper right')\n",
    "plt.show()\n",
    "mean_cluster4 = np.mean(x)\n",
    "mean_cluster4"
   ]
  },
  {
   "cell_type": "code",
   "execution_count": 30,
   "metadata": {},
   "outputs": [
    {
     "data": {
      "image/png": "[encoded data removed]",
      "text/plain": [
       "<Figure size 432x288 with 1 Axes>"
      ]
     },
     "metadata": {},
     "output_type": "display_data"
    },
    {
     "data": {
      "text/plain": [
       "0.9681612229588729"
      ]
     },
     "execution_count": 30,
     "metadata": {},
     "output_type": "execute_result"
    }
   ],
   "source": [
    "ooi_4 = kappa_df[clustering.labels_==4]\n",
    "ooi_05 = ooi_4.T\n",
    "cluster5 = ooi_05[clustering.labels_==4]\n",
    "cluster5 = cluster5.T\n",
    "arr5 = cluster5.to_numpy()\n",
    "arr5half = arr5[np.triu_indices(arr5.shape[0], k = 0)]\n",
    "x = arr5half\n",
    "num_bins = 20\n",
    "n, bins, patches = plt.hist(x, num_bins, facecolor='blue', alpha=0.5)\n",
    "plt.axvline(x.mean(), color='k', linestyle='dashed', linewidth=1, label=str(np.mean(x)))\n",
    "plt.legend(loc='upper right')\n",
    "plt.show()\n",
    "mean_cluster5 = np.mean(x)\n",
    "mean_cluster5"
   ]
  },
  {
   "cell_type": "code",
   "execution_count": 31,
   "metadata": {},
   "outputs": [
    {
     "data": {
      "image/png": "[encoded data removed]",
      "text/plain": [
       "<Figure size 432x288 with 1 Axes>"
      ]
     },
     "metadata": {},
     "output_type": "display_data"
    },
    {
     "data": {
      "text/plain": [
       "0.9687327112859532"
      ]
     },
     "execution_count": 31,
     "metadata": {},
     "output_type": "execute_result"
    }
   ],
   "source": [
    "ooi_5 = kappa_df[clustering.labels_==5]\n",
    "ooi_06 = ooi_5.T\n",
    "cluster6 = ooi_06[clustering.labels_==5]\n",
    "cluster6 = cluster6.T\n",
    "arr6 = cluster6.to_numpy()\n",
    "arr6half = arr6[np.triu_indices(arr6.shape[0], k = 0)]\n",
    "x = arr6half\n",
    "num_bins = 20\n",
    "n, bins, patches = plt.hist(x, num_bins, facecolor='blue', alpha=0.5)\n",
    "plt.axvline(x.mean(), color='k', linestyle='dashed', linewidth=1, label=str(np.mean(x)))\n",
    "plt.legend(loc='upper right')\n",
    "plt.show()\n",
    "mean_cluster6 = np.mean(x)\n",
    "mean_cluster6"
   ]
  },
  {
   "cell_type": "code",
   "execution_count": 32,
   "metadata": {},
   "outputs": [
    {
     "data": {
      "text/plain": [
       "0.9650422309703449"
      ]
     },
     "execution_count": 32,
     "metadata": {},
     "output_type": "execute_result"
    }
   ],
   "source": [
    "#Average of average\n",
    "Average_6clusters = (mean_cluster1 + mean_cluster2 + mean_cluster3 + mean_cluster4 + mean_cluster5 + mean_cluster6) / 6\n",
    "Average_6clusters"
   ]
  },
  {
   "cell_type": "markdown",
   "metadata": {},
   "source": [
    "### 7 clusters"
   ]
  },
  {
   "cell_type": "code",
   "execution_count": 33,
   "metadata": {},
   "outputs": [
    {
     "data": {
      "text/plain": [
       "(array([0, 1, 2, 3, 4, 5, 6], dtype=int64),\n",
       " array([161, 263, 283, 361, 261,  79, 592], dtype=int64))"
      ]
     },
     "execution_count": 33,
     "metadata": {},
     "output_type": "execute_result"
    }
   ],
   "source": [
    "from sklearn.cluster import AgglomerativeClustering\n",
    "clustering = AgglomerativeClustering(n_clusters=7, affinity='precomputed', linkage='complete').fit(kappa_df1)\n",
    "np.unique(clustering.labels_, return_counts=True)"
   ]
  },
  {
   "cell_type": "code",
   "execution_count": 34,
   "metadata": {},
   "outputs": [
    {
     "data": {
      "image/png": "[encoded data removed]",
      "text/plain": [
       "<Figure size 432x288 with 1 Axes>"
      ]
     },
     "metadata": {},
     "output_type": "display_data"
    },
    {
     "data": {
      "text/plain": [
       "0.9623371773388902"
      ]
     },
     "execution_count": 34,
     "metadata": {},
     "output_type": "execute_result"
    }
   ],
   "source": [
    "ooi_0 = kappa_df[clustering.labels_==0]\n",
    "ooi_01 = ooi_0.T\n",
    "cluster1 = ooi_01[clustering.labels_==0]\n",
    "cluster1 = cluster1.T\n",
    "arr1 = cluster1.to_numpy()\n",
    "arr1half = arr1[np.triu_indices(arr1.shape[0], k = 0)]\n",
    "x = arr1half\n",
    "num_bins = 20\n",
    "n, bins, patches = plt.hist(x, num_bins, facecolor='blue', alpha=0.5)\n",
    "plt.axvline(x.mean(), color='k', linestyle='dashed', linewidth=1, label=str(np.mean(x)))\n",
    "plt.legend(loc='upper right')\n",
    "plt.show()\n",
    "mean_cluster1 = np.mean(x)\n",
    "mean_cluster1"
   ]
  },
  {
   "cell_type": "code",
   "execution_count": 35,
   "metadata": {},
   "outputs": [
    {
     "data": {
      "image/png": "[encoded data removed]",
      "text/plain": [
       "<Figure size 432x288 with 1 Axes>"
      ]
     },
     "metadata": {},
     "output_type": "display_data"
    },
    {
     "data": {
      "text/plain": [
       "0.9659144583040172"
      ]
     },
     "execution_count": 35,
     "metadata": {},
     "output_type": "execute_result"
    }
   ],
   "source": [
    "ooi_1 = kappa_df[clustering.labels_==1]\n",
    "ooi_02 = ooi_1.T\n",
    "cluster2 = ooi_02[clustering.labels_==1]\n",
    "cluster2 = cluster2.T\n",
    "arr2 = cluster2.to_numpy()\n",
    "arr2half = arr2[np.triu_indices(arr2.shape[0], k = 0)]\n",
    "x = arr2half\n",
    "num_bins = 20\n",
    "n, bins, patches = plt.hist(x, num_bins, facecolor='blue', alpha=0.5)\n",
    "plt.axvline(x.mean(), color='k', linestyle='dashed', linewidth=1, label=str(np.mean(x)))\n",
    "plt.legend(loc='upper right')\n",
    "plt.show()\n",
    "mean_cluster2 = np.mean(x)\n",
    "mean_cluster2"
   ]
  },
  {
   "cell_type": "code",
   "execution_count": 36,
   "metadata": {},
   "outputs": [
    {
     "data": {
      "image/png": "[encoded data removed]",
      "text/plain": [
       "<Figure size 432x288 with 1 Axes>"
      ]
     },
     "metadata": {},
     "output_type": "display_data"
    },
    {
     "data": {
      "text/plain": [
       "0.9618475954812382"
      ]
     },
     "execution_count": 36,
     "metadata": {},
     "output_type": "execute_result"
    }
   ],
   "source": [
    "ooi_2 = kappa_df[clustering.labels_==2]\n",
    "ooi_03 = ooi_2.T\n",
    "cluster3 = ooi_03[clustering.labels_==2]\n",
    "cluster3 = cluster3.T\n",
    "arr3 = cluster3.to_numpy()\n",
    "arr3half = arr3[np.triu_indices(arr3.shape[0], k = 0)]\n",
    "x = arr3half\n",
    "num_bins = 20\n",
    "n, bins, patches = plt.hist(x, num_bins, facecolor='blue', alpha=0.5)\n",
    "plt.axvline(x.mean(), color='k', linestyle='dashed', linewidth=1, label=str(np.mean(x)))\n",
    "plt.legend(loc='upper right')\n",
    "plt.show()\n",
    "mean_cluster3 = np.mean(x)\n",
    "mean_cluster3"
   ]
  },
  {
   "cell_type": "code",
   "execution_count": 37,
   "metadata": {},
   "outputs": [
    {
     "data": {
      "image/png": "[encoded data removed]",
      "text/plain": [
       "<Figure size 432x288 with 1 Axes>"
      ]
     },
     "metadata": {},
     "output_type": "display_data"
    },
    {
     "data": {
      "text/plain": [
       "0.9668110607134559"
      ]
     },
     "execution_count": 37,
     "metadata": {},
     "output_type": "execute_result"
    }
   ],
   "source": [
    "ooi_3 = kappa_df[clustering.labels_==3]\n",
    "ooi_04 = ooi_3.T\n",
    "cluster4 = ooi_04[clustering.labels_==3]\n",
    "cluster4 = cluster4.T\n",
    "arr4 = cluster4.to_numpy()\n",
    "arr4half = arr4[np.triu_indices(arr4.shape[0], k = 0)]\n",
    "x = arr4half\n",
    "num_bins = 20\n",
    "n, bins, patches = plt.hist(x, num_bins, facecolor='blue', alpha=0.5)\n",
    "plt.axvline(x.mean(), color='k', linestyle='dashed', linewidth=1, label=str(np.mean(x)))\n",
    "plt.legend(loc='upper right')\n",
    "plt.show()\n",
    "mean_cluster4 = np.mean(x)\n",
    "mean_cluster4"
   ]
  },
  {
   "cell_type": "code",
   "execution_count": 38,
   "metadata": {},
   "outputs": [
    {
     "data": {
      "image/png": "[encoded data removed]",
      "text/plain": [
       "<Figure size 432x288 with 1 Axes>"
      ]
     },
     "metadata": {},
     "output_type": "display_data"
    },
    {
     "data": {
      "text/plain": [
       "0.9681612229588729"
      ]
     },
     "execution_count": 38,
     "metadata": {},
     "output_type": "execute_result"
    }
   ],
   "source": [
    "ooi_4 = kappa_df[clustering.labels_==4]\n",
    "ooi_05 = ooi_4.T\n",
    "cluster5 = ooi_05[clustering.labels_==4]\n",
    "cluster5 = cluster5.T\n",
    "arr5 = cluster5.to_numpy()\n",
    "arr5half = arr5[np.triu_indices(arr5.shape[0], k = 0)]\n",
    "x = arr5half\n",
    "num_bins = 20\n",
    "n, bins, patches = plt.hist(x, num_bins, facecolor='blue', alpha=0.5)\n",
    "plt.axvline(x.mean(), color='k', linestyle='dashed', linewidth=1, label=str(np.mean(x)))\n",
    "plt.legend(loc='upper right')\n",
    "plt.show()\n",
    "mean_cluster5 = np.mean(x)\n",
    "mean_cluster5"
   ]
  },
  {
   "cell_type": "code",
   "execution_count": 39,
   "metadata": {},
   "outputs": [
    {
     "data": {
      "image/png": "[encoded data removed]",
      "text/plain": [
       "<Figure size 432x288 with 1 Axes>"
      ]
     },
     "metadata": {},
     "output_type": "display_data"
    },
    {
     "data": {
      "text/plain": [
       "0.9687327112859532"
      ]
     },
     "execution_count": 39,
     "metadata": {},
     "output_type": "execute_result"
    }
   ],
   "source": [
    "ooi_5 = kappa_df[clustering.labels_==5]\n",
    "ooi_06 = ooi_5.T\n",
    "cluster6 = ooi_06[clustering.labels_==5]\n",
    "cluster6 = cluster6.T\n",
    "arr6 = cluster6.to_numpy()\n",
    "arr6half = arr6[np.triu_indices(arr6.shape[0], k = 0)]\n",
    "x = arr6half\n",
    "num_bins = 20\n",
    "n, bins, patches = plt.hist(x, num_bins, facecolor='blue', alpha=0.5)\n",
    "plt.axvline(x.mean(), color='k', linestyle='dashed', linewidth=1, label=str(np.mean(x)))\n",
    "plt.legend(loc='upper right')\n",
    "plt.show()\n",
    "mean_cluster6 = np.mean(x)\n",
    "mean_cluster6"
   ]
  },
  {
   "cell_type": "code",
   "execution_count": 40,
   "metadata": {},
   "outputs": [
    {
     "data": {
      "image/png": "[encoded data removed]",
      "text/plain": [
       "<Figure size 432x288 with 1 Axes>"
      ]
     },
     "metadata": {},
     "output_type": "display_data"
    },
    {
     "data": {
      "text/plain": [
       "0.9669057328707253"
      ]
     },
     "execution_count": 40,
     "metadata": {},
     "output_type": "execute_result"
    }
   ],
   "source": [
    "ooi_6 = kappa_df[clustering.labels_==6]\n",
    "ooi_07 = ooi_6.T\n",
    "cluster7 = ooi_07[clustering.labels_==6]\n",
    "cluster7 = cluster7.T\n",
    "arr7 = cluster7.to_numpy()\n",
    "arr7half = arr7[np.triu_indices(arr7.shape[0], k = 0)]\n",
    "x = arr7half\n",
    "num_bins = 20\n",
    "n, bins, patches = plt.hist(x, num_bins, facecolor='blue', alpha=0.5)\n",
    "plt.axvline(x.mean(), color='k', linestyle='dashed', linewidth=1, label=str(np.mean(x)))\n",
    "plt.legend(loc='upper right')\n",
    "plt.show()\n",
    "mean_cluster7 = np.mean(x)\n",
    "mean_cluster7"
   ]
  },
  {
   "cell_type": "code",
   "execution_count": 41,
   "metadata": {},
   "outputs": [
    {
     "data": {
      "text/plain": [
       "0.9658157084218789"
      ]
     },
     "execution_count": 41,
     "metadata": {},
     "output_type": "execute_result"
    }
   ],
   "source": [
    "#Average of average\n",
    "Average_7clusters = (mean_cluster1 + mean_cluster2 + mean_cluster3 + mean_cluster4 + mean_cluster5 + mean_cluster6 + mean_cluster7 ) / 7\n",
    "Average_7clusters"
   ]
  },
  {
   "cell_type": "markdown",
   "metadata": {},
   "source": [
    "### 8 clusters"
   ]
  },
  {
   "cell_type": "code",
   "execution_count": 42,
   "metadata": {},
   "outputs": [
    {
     "data": {
      "text/plain": [
       "(array([0, 1, 2, 3, 4, 5, 6, 7], dtype=int64),\n",
       " array([283, 263, 592, 361, 261,  79, 133,  28], dtype=int64))"
      ]
     },
     "execution_count": 42,
     "metadata": {},
     "output_type": "execute_result"
    }
   ],
   "source": [
    "from sklearn.cluster import AgglomerativeClustering\n",
    "clustering = AgglomerativeClustering(n_clusters=8, affinity='precomputed', linkage='complete').fit(kappa_df1)\n",
    "np.unique(clustering.labels_, return_counts=True)"
   ]
  },
  {
   "cell_type": "code",
   "execution_count": 43,
   "metadata": {},
   "outputs": [
    {
     "data": {
      "image/png": "[encoded data removed]",
      "text/plain": [
       "<Figure size 432x288 with 1 Axes>"
      ]
     },
     "metadata": {},
     "output_type": "display_data"
    },
    {
     "data": {
      "text/plain": [
       "0.9618475954812382"
      ]
     },
     "execution_count": 43,
     "metadata": {},
     "output_type": "execute_result"
    }
   ],
   "source": [
    "ooi_0 = kappa_df[clustering.labels_==0]\n",
    "ooi_01 = ooi_0.T\n",
    "cluster1 = ooi_01[clustering.labels_==0]\n",
    "cluster1 = cluster1.T\n",
    "arr1 = cluster1.to_numpy()\n",
    "arr1half = arr1[np.triu_indices(arr1.shape[0], k = 0)]\n",
    "x = arr1half\n",
    "num_bins = 20\n",
    "n, bins, patches = plt.hist(x, num_bins, facecolor='blue', alpha=0.5)\n",
    "plt.axvline(x.mean(), color='k', linestyle='dashed', linewidth=1, label=str(np.mean(x)))\n",
    "plt.legend(loc='upper right')\n",
    "plt.show()\n",
    "mean_cluster1 = np.mean(x)\n",
    "mean_cluster1"
   ]
  },
  {
   "cell_type": "code",
   "execution_count": 44,
   "metadata": {},
   "outputs": [
    {
     "data": {
      "image/png": "[encoded data removed]",
      "text/plain": [
       "<Figure size 432x288 with 1 Axes>"
      ]
     },
     "metadata": {},
     "output_type": "display_data"
    },
    {
     "data": {
      "text/plain": [
       "0.9659144583040172"
      ]
     },
     "execution_count": 44,
     "metadata": {},
     "output_type": "execute_result"
    }
   ],
   "source": [
    "ooi_1 = kappa_df[clustering.labels_==1]\n",
    "ooi_02 = ooi_1.T\n",
    "cluster2 = ooi_02[clustering.labels_==1]\n",
    "cluster2 = cluster2.T\n",
    "arr2 = cluster2.to_numpy()\n",
    "arr2half = arr2[np.triu_indices(arr2.shape[0], k = 0)]\n",
    "x = arr2half\n",
    "num_bins = 20\n",
    "n, bins, patches = plt.hist(x, num_bins, facecolor='blue', alpha=0.5)\n",
    "plt.axvline(x.mean(), color='k', linestyle='dashed', linewidth=1, label=str(np.mean(x)))\n",
    "plt.legend(loc='upper right')\n",
    "plt.show()\n",
    "mean_cluster2 = np.mean(x)\n",
    "mean_cluster2"
   ]
  },
  {
   "cell_type": "code",
   "execution_count": 45,
   "metadata": {},
   "outputs": [
    {
     "data": {
      "image/png": "[encoded data removed]",
      "text/plain": [
       "<Figure size 432x288 with 1 Axes>"
      ]
     },
     "metadata": {},
     "output_type": "display_data"
    },
    {
     "data": {
      "text/plain": [
       "0.9669057328707253"
      ]
     },
     "execution_count": 45,
     "metadata": {},
     "output_type": "execute_result"
    }
   ],
   "source": [
    "ooi_2 = kappa_df[clustering.labels_==2]\n",
    "ooi_03 = ooi_2.T\n",
    "cluster3 = ooi_03[clustering.labels_==2]\n",
    "cluster3 = cluster3.T\n",
    "arr3 = cluster3.to_numpy()\n",
    "arr3half = arr3[np.triu_indices(arr3.shape[0], k = 0)]\n",
    "x = arr3half\n",
    "num_bins = 20\n",
    "n, bins, patches = plt.hist(x, num_bins, facecolor='blue', alpha=0.5)\n",
    "plt.axvline(x.mean(), color='k', linestyle='dashed', linewidth=1, label=str(np.mean(x)))\n",
    "plt.legend(loc='upper right')\n",
    "plt.show()\n",
    "mean_cluster3 = np.mean(x)\n",
    "mean_cluster3"
   ]
  },
  {
   "cell_type": "code",
   "execution_count": 46,
   "metadata": {},
   "outputs": [
    {
     "data": {
      "image/png": "[encoded data removed]",
      "text/plain": [
       "<Figure size 432x288 with 1 Axes>"
      ]
     },
     "metadata": {},
     "output_type": "display_data"
    },
    {
     "data": {
      "text/plain": [
       "0.9668110607134559"
      ]
     },
     "execution_count": 46,
     "metadata": {},
     "output_type": "execute_result"
    }
   ],
   "source": [
    "ooi_3 = kappa_df[clustering.labels_==3]\n",
    "ooi_04 = ooi_3.T\n",
    "cluster4 = ooi_04[clustering.labels_==3]\n",
    "cluster4 = cluster4.T\n",
    "arr4 = cluster4.to_numpy()\n",
    "arr4half = arr4[np.triu_indices(arr4.shape[0], k = 0)]\n",
    "x = arr4half\n",
    "num_bins = 20\n",
    "n, bins, patches = plt.hist(x, num_bins, facecolor='blue', alpha=0.5)\n",
    "plt.axvline(x.mean(), color='k', linestyle='dashed', linewidth=1, label=str(np.mean(x)))\n",
    "plt.legend(loc='upper right')\n",
    "plt.show()\n",
    "mean_cluster4 = np.mean(x)\n",
    "mean_cluster4"
   ]
  },
  {
   "cell_type": "code",
   "execution_count": 47,
   "metadata": {},
   "outputs": [
    {
     "data": {
      "image/png": "[encoded data removed]",
      "text/plain": [
       "<Figure size 432x288 with 1 Axes>"
      ]
     },
     "metadata": {},
     "output_type": "display_data"
    },
    {
     "data": {
      "text/plain": [
       "0.9681612229588729"
      ]
     },
     "execution_count": 47,
     "metadata": {},
     "output_type": "execute_result"
    }
   ],
   "source": [
    "ooi_4 = kappa_df[clustering.labels_==4]\n",
    "ooi_05 = ooi_4.T\n",
    "cluster5 = ooi_05[clustering.labels_==4]\n",
    "cluster5 = cluster5.T\n",
    "arr5 = cluster5.to_numpy()\n",
    "arr5half = arr5[np.triu_indices(arr5.shape[0], k = 0)]\n",
    "x = arr5half\n",
    "num_bins = 20\n",
    "n, bins, patches = plt.hist(x, num_bins, facecolor='blue', alpha=0.5)\n",
    "plt.axvline(x.mean(), color='k', linestyle='dashed', linewidth=1, label=str(np.mean(x)))\n",
    "plt.legend(loc='upper right')\n",
    "plt.show()\n",
    "mean_cluster5 = np.mean(x)\n",
    "mean_cluster5"
   ]
  },
  {
   "cell_type": "code",
   "execution_count": 48,
   "metadata": {},
   "outputs": [
    {
     "data": {
      "image/png": "[encoded data removed]",
      "text/plain": [
       "<Figure size 432x288 with 1 Axes>"
      ]
     },
     "metadata": {},
     "output_type": "display_data"
    },
    {
     "data": {
      "text/plain": [
       "0.9687327112859532"
      ]
     },
     "execution_count": 48,
     "metadata": {},
     "output_type": "execute_result"
    }
   ],
   "source": [
    "ooi_5 = kappa_df[clustering.labels_==5]\n",
    "ooi_06 = ooi_5.T\n",
    "cluster6 = ooi_06[clustering.labels_==5]\n",
    "cluster6 = cluster6.T\n",
    "arr6 = cluster6.to_numpy()\n",
    "arr6half = arr6[np.triu_indices(arr6.shape[0], k = 0)]\n",
    "x = arr6half\n",
    "num_bins = 20\n",
    "n, bins, patches = plt.hist(x, num_bins, facecolor='blue', alpha=0.5)\n",
    "plt.axvline(x.mean(), color='k', linestyle='dashed', linewidth=1, label=str(np.mean(x)))\n",
    "plt.legend(loc='upper right')\n",
    "plt.show()\n",
    "mean_cluster6 = np.mean(x)\n",
    "mean_cluster6"
   ]
  },
  {
   "cell_type": "code",
   "execution_count": 49,
   "metadata": {},
   "outputs": [
    {
     "data": {
      "image/png": "[encoded data removed]",
      "text/plain": [
       "<Figure size 432x288 with 1 Axes>"
      ]
     },
     "metadata": {},
     "output_type": "display_data"
    },
    {
     "data": {
      "text/plain": [
       "0.9674730249487692"
      ]
     },
     "execution_count": 49,
     "metadata": {},
     "output_type": "execute_result"
    }
   ],
   "source": [
    "ooi_6 = kappa_df[clustering.labels_==6]\n",
    "ooi_07 = ooi_6.T\n",
    "cluster7 = ooi_07[clustering.labels_==6]\n",
    "cluster7 = cluster7.T\n",
    "arr7 = cluster7.to_numpy()\n",
    "arr7half = arr7[np.triu_indices(arr7.shape[0], k = 0)]\n",
    "x = arr7half\n",
    "num_bins = 20\n",
    "n, bins, patches = plt.hist(x, num_bins, facecolor='blue', alpha=0.5)\n",
    "plt.axvline(x.mean(), color='k', linestyle='dashed', linewidth=1, label=str(np.mean(x)))\n",
    "plt.legend(loc='upper right')\n",
    "plt.show()\n",
    "mean_cluster7 = np.mean(x)\n",
    "mean_cluster7"
   ]
  },
  {
   "cell_type": "code",
   "execution_count": 50,
   "metadata": {},
   "outputs": [
    {
     "data": {
      "image/png": "[encoded data removed]",
      "text/plain": [
       "<Figure size 432x288 with 1 Axes>"
      ]
     },
     "metadata": {},
     "output_type": "display_data"
    },
    {
     "data": {
      "text/plain": [
       "0.9771833732874085"
      ]
     },
     "execution_count": 50,
     "metadata": {},
     "output_type": "execute_result"
    }
   ],
   "source": [
    "ooi_7 = kappa_df[clustering.labels_==7]\n",
    "ooi_08 = ooi_7.T\n",
    "cluster8 = ooi_08[clustering.labels_==7]\n",
    "cluster8 = cluster8.T\n",
    "arr8 = cluster8.to_numpy()\n",
    "arr8half = arr8[np.triu_indices(arr8.shape[0], k = 0)]\n",
    "x = arr8half\n",
    "num_bins = 20\n",
    "n, bins, patches = plt.hist(x, num_bins, facecolor='blue', alpha=0.5)\n",
    "plt.axvline(x.mean(), color='k', linestyle='dashed', linewidth=1, label=str(np.mean(x)))\n",
    "plt.legend(loc='upper right')\n",
    "plt.show()\n",
    "mean_cluster8 = np.mean(x)\n",
    "mean_cluster8"
   ]
  },
  {
   "cell_type": "code",
   "execution_count": 51,
   "metadata": {},
   "outputs": [
    {
     "data": {
      "text/plain": [
       "0.9678786474813049"
      ]
     },
     "execution_count": 51,
     "metadata": {},
     "output_type": "execute_result"
    }
   ],
   "source": [
    "#Average of average\n",
    "Average_8clusters = (mean_cluster1 + mean_cluster2 + mean_cluster3 + mean_cluster4 + mean_cluster5 + mean_cluster6 + mean_cluster7 + mean_cluster8) / 8\n",
    "Average_8clusters"
   ]
  },
  {
   "cell_type": "markdown",
   "metadata": {},
   "source": [
    "### Plot average within cluster similarity"
   ]
  },
  {
   "cell_type": "code",
   "execution_count": 52,
   "metadata": {},
   "outputs": [
    {
     "data": {
      "image/png": "[encoded data removed]",
      "text/plain": [
       "<Figure size 432x288 with 1 Axes>"
      ]
     },
     "metadata": {},
     "output_type": "display_data"
    }
   ],
   "source": [
    "x = [2,3, 4,5,6,7,8]\n",
    "y = [Average_2clusters, Average_3clusters, Average_4clusters, Average_5clusters, Average_6clusters, Average_7clusters, Average_8clusters]\n",
    "plt.scatter(x, y)\n",
    "plt.title('Average in-cluster similarity')\n",
    "plt.xlabel('Number of clusters')\n",
    "plt.ylabel('Average in-cluster distance')\n",
    "#plt.ylim(0.025, 0.05)\n",
    "plt.savefig('C:/Users/Admin_2/Documents/Thesis/NewExperiments/Figures/average_in_cluster_dissimilarity.png', dpi=300)\n",
    "plt.show()\n"
   ]
  },
  {
   "cell_type": "markdown",
   "metadata": {},
   "source": [
    "## Between cluster similarity check"
   ]
  },
  {
   "cell_type": "code",
   "execution_count": 5,
   "metadata": {},
   "outputs": [],
   "source": [
    "def fancy_dendrogram(*args, **kwargs):\n",
    "    max_d = kwargs.pop('max_d', None)\n",
    "    if max_d and 'color_threshold' not in kwargs:\n",
    "        kwargs['color_threshold'] = max_d\n",
    "    annotate_above = kwargs.pop('annotate_above', 0)\n",
    "\n",
    "    ddata = dendrogram(*args, **kwargs)\n",
    "\n",
    "    if not kwargs.get('no_plot', False):\n",
    "        plt.title('Hierarchical Clustering Dendrogram (truncated)')\n",
    "        plt.xlabel('sample index or (cluster size)')\n",
    "        plt.ylabel('distance')\n",
    "        for i, d, c in zip(ddata['icoord'], ddata['dcoord'], ddata['color_list']):\n",
    "            x = 0.5 * sum(i[1:3])\n",
    "            y = d[1]\n",
    "            if y > annotate_above:\n",
    "                plt.plot(x, y, 'o', c=c)\n",
    "                plt.annotate(\"%.3g\" % y, (x, y), xytext=(0, -5),\n",
    "                             textcoords='offset points',\n",
    "                             va='top', ha='center')\n",
    "        if max_d:\n",
    "            plt.axhline(y=max_d, c='k')\n",
    "    return ddata"
   ]
  },
  {
   "cell_type": "code",
   "execution_count": 57,
   "metadata": {
    "scrolled": true
   },
   "outputs": [],
   "source": [
    "kappa_df1 = 1 - kappa_df"
   ]
  },
  {
   "cell_type": "code",
   "execution_count": 58,
   "metadata": {
    "scrolled": true
   },
   "outputs": [
    {
     "data": {
      "image/png": "[encoded data removed]",
      "text/plain": [
       "<Figure size 720x720 with 1 Axes>"
      ]
     },
     "metadata": {},
     "output_type": "display_data"
    }
   ],
   "source": [
    "dists = squareform(kappa_df1)\n",
    "linkage_matrix = linkage(dists, \"complete\")\n",
    "Z = linkage_matrix\n",
    "fig = plt.figure(figsize=(10, 10))\n",
    "fancy_dendrogram(Z, truncate_mode='lastp')\n",
    "plt.show()"
   ]
  },
  {
   "cell_type": "code",
   "execution_count": 6,
   "metadata": {},
   "outputs": [
    {
     "data": {
      "image/png": "[encoded data removed]",
      "text/plain": [
       "<Figure size 720x720 with 1 Axes>"
      ]
     },
     "metadata": {},
     "output_type": "display_data"
    }
   ],
   "source": [
    "dists = squareform(kappa_df1)\n",
    "linkage_matrix = linkage(dists, \"complete\")\n",
    "Z = linkage_matrix\n",
    "fig = plt.figure(figsize=(10, 10))\n",
    "fancy_dendrogram(Z, truncate_mode='lastp')\n",
    "plt.show()"
   ]
  },
  {
   "cell_type": "code",
   "execution_count": 59,
   "metadata": {},
   "outputs": [
    {
     "data": {
      "image/png": "[encoded data removed]",
      "text/plain": [
       "<Figure size 432x288 with 1 Axes>"
      ]
     },
     "metadata": {},
     "output_type": "display_data"
    }
   ],
   "source": [
    "x = [2,3,4,5,6,7,8]\n",
    "y = [0.099,0.0789,0.0776,0.0750,0.0748,0.0728,0.0717]\n",
    "plt.scatter(x, y)\n",
    "plt.title('Between-cluster dissimalirty')\n",
    "plt.xlabel('Number of clusters')\n",
    "plt.ylabel('Distance value')\n",
    "plt.ylim(0.04, 0.11)\n",
    "plt.savefig('C:/Users/Admin_2/Documents/Thesis/NewExperiments/Figures/average_between_cluster_dissimilarity.png', dpi=300)\n",
    "plt.show()"
   ]
  },
  {
   "cell_type": "code",
   "execution_count": 240,
   "metadata": {},
   "outputs": [
    {
     "name": "stdout",
     "output_type": "stream",
     "text": [
      "0.4551674471538807\n",
      "0.31738447172402445\n",
      "0.1927444272173511\n",
      "0.21625965340329767\n",
      "0.22986919358026928\n",
      "0.22656814282322602\n",
      "0.21719800131317754\n",
      "0.20244540473721165\n"
     ]
    }
   ],
   "source": [
    "for i in range(8):\n",
    "    clustering = AgglomerativeClustering(n_clusters=i+2, affinity='precomputed', linkage='complete').fit(kappa_df)\n",
    "    labels = clustering.labels_\n",
    "    print(metrics.silhouette_score(kappa_df, labels, metric='euclidean'))"
   ]
  },
  {
   "cell_type": "code",
   "execution_count": 90,
   "metadata": {},
   "outputs": [
    {
     "data": {
      "application/vnd.plotly.v1+json": {
       "config": {
        "plotlyServerURL": "https://plot.ly"
       },
       "data": [
        {
         "mode": "markers",
         "name": "Distance value",
         "textposition": "top center",
         "type": "scatter",
         "x": [
          2,
          3,
          4,
          5,
          6,
          7,
          8
         ],
         "xaxis": "x",
         "y": [
          0.099,
          0.0789,
          0.0776,
          0.075,
          0.0748,
          0.0728,
          0.0717
         ],
         "yaxis": "y"
        },
        {
         "mode": "markers",
         "name": "Similarity value",
         "textposition": "top center",
         "type": "scatter",
         "x": [
          2,
          3,
          4,
          5,
          6,
          7,
          8
         ],
         "xaxis": "x",
         "y": [
          0.9551243478137657,
          0.9605362198404267,
          0.9626363647697228,
          0.9643160770295156,
          0.9650422309703449,
          0.9658157084218789,
          0.9678786474813049
         ],
         "yaxis": "y2"
        }
       ],
       "layout": {
        "template": {
         "data": {
          "bar": [
           {
            "error_x": {
             "color": "#2a3f5f"
            },
            "error_y": {
             "color": "#2a3f5f"
            },
            "marker": {
             "line": {
              "color": "#E5ECF6",
              "width": 0.5
             }
            },
            "type": "bar"
           }
          ],
          "barpolar": [
           {
            "marker": {
             "line": {
              "color": "#E5ECF6",
              "width": 0.5
             }
            },
            "type": "barpolar"
           }
          ],
          "carpet": [
           {
            "aaxis": {
             "endlinecolor": "#2a3f5f",
             "gridcolor": "white",
             "linecolor": "white",
             "minorgridcolor": "white",
             "startlinecolor": "#2a3f5f"
            },
            "baxis": {
             "endlinecolor": "#2a3f5f",
             "gridcolor": "white",
             "linecolor": "white",
             "minorgridcolor": "white",
             "startlinecolor": "#2a3f5f"
            },
            "type": "carpet"
           }
          ],
          "choropleth": [
           {
            "colorbar": {
             "outlinewidth": 0,
             "ticks": ""
            },
            "type": "choropleth"
           }
          ],
          "contour": [
           {
            "colorbar": {
             "outlinewidth": 0,
             "ticks": ""
            },
            "colorscale": [
             [
              0,
              "#0d0887"
             ],
             [
              0.1111111111111111,
              "#46039f"
             ],
             [
              0.2222222222222222,
              "#7201a8"
             ],
             [
              0.3333333333333333,
              "#9c179e"
             ],
             [
              0.4444444444444444,
              "#bd3786"
             ],
             [
              0.5555555555555556,
              "#d8576b"
             ],
             [
              0.6666666666666666,
              "#ed7953"
             ],
             [
              0.7777777777777778,
              "#fb9f3a"
             ],
             [
              0.8888888888888888,
              "#fdca26"
             ],
             [
              1,
              "#f0f921"
             ]
            ],
            "type": "contour"
           }
          ],
          "contourcarpet": [
           {
            "colorbar": {
             "outlinewidth": 0,
             "ticks": ""
            },
            "type": "contourcarpet"
           }
          ],
          "heatmap": [
           {
            "colorbar": {
             "outlinewidth": 0,
             "ticks": ""
            },
            "colorscale": [
             [
              0,
              "#0d0887"
             ],
             [
              0.1111111111111111,
              "#46039f"
             ],
             [
              0.2222222222222222,
              "#7201a8"
             ],
             [
              0.3333333333333333,
              "#9c179e"
             ],
             [
              0.4444444444444444,
              "#bd3786"
             ],
             [
              0.5555555555555556,
              "#d8576b"
             ],
             [
              0.6666666666666666,
              "#ed7953"
             ],
             [
              0.7777777777777778,
              "#fb9f3a"
             ],
             [
              0.8888888888888888,
              "#fdca26"
             ],
             [
              1,
              "#f0f921"
             ]
            ],
            "type": "heatmap"
           }
          ],
          "heatmapgl": [
           {
            "colorbar": {
             "outlinewidth": 0,
             "ticks": ""
            },
            "colorscale": [
             [
              0,
              "#0d0887"
             ],
             [
              0.1111111111111111,
              "#46039f"
             ],
             [
              0.2222222222222222,
              "#7201a8"
             ],
             [
              0.3333333333333333,
              "#9c179e"
             ],
             [
              0.4444444444444444,
              "#bd3786"
             ],
             [
              0.5555555555555556,
              "#d8576b"
             ],
             [
              0.6666666666666666,
              "#ed7953"
             ],
             [
              0.7777777777777778,
              "#fb9f3a"
             ],
             [
              0.8888888888888888,
              "#fdca26"
             ],
             [
              1,
              "#f0f921"
             ]
            ],
            "type": "heatmapgl"
           }
          ],
          "histogram": [
           {
            "marker": {
             "colorbar": {
              "outlinewidth": 0,
              "ticks": ""
             }
            },
            "type": "histogram"
           }
          ],
          "histogram2d": [
           {
            "colorbar": {
             "outlinewidth": 0,
             "ticks": ""
            },
            "colorscale": [
             [
              0,
              "#0d0887"
             ],
             [
              0.1111111111111111,
              "#46039f"
             ],
             [
              0.2222222222222222,
              "#7201a8"
             ],
             [
              0.3333333333333333,
              "#9c179e"
             ],
             [
              0.4444444444444444,
              "#bd3786"
             ],
             [
              0.5555555555555556,
              "#d8576b"
             ],
             [
              0.6666666666666666,
              "#ed7953"
             ],
             [
              0.7777777777777778,
              "#fb9f3a"
             ],
             [
              0.8888888888888888,
              "#fdca26"
             ],
             [
              1,
              "#f0f921"
             ]
            ],
            "type": "histogram2d"
           }
          ],
          "histogram2dcontour": [
           {
            "colorbar": {
             "outlinewidth": 0,
             "ticks": ""
            },
            "colorscale": [
             [
              0,
              "#0d0887"
             ],
             [
              0.1111111111111111,
              "#46039f"
             ],
             [
              0.2222222222222222,
              "#7201a8"
             ],
             [
              0.3333333333333333,
              "#9c179e"
             ],
             [
              0.4444444444444444,
              "#bd3786"
             ],
             [
              0.5555555555555556,
              "#d8576b"
             ],
             [
              0.6666666666666666,
              "#ed7953"
             ],
             [
              0.7777777777777778,
              "#fb9f3a"
             ],
             [
              0.8888888888888888,
              "#fdca26"
             ],
             [
              1,
              "#f0f921"
             ]
            ],
            "type": "histogram2dcontour"
           }
          ],
          "mesh3d": [
           {
            "colorbar": {
             "outlinewidth": 0,
             "ticks": ""
            },
            "type": "mesh3d"
           }
          ],
          "parcoords": [
           {
            "line": {
             "colorbar": {
              "outlinewidth": 0,
              "ticks": ""
             }
            },
            "type": "parcoords"
           }
          ],
          "pie": [
           {
            "automargin": true,
            "type": "pie"
           }
          ],
          "scatter": [
           {
            "marker": {
             "colorbar": {
              "outlinewidth": 0,
              "ticks": ""
             }
            },
            "type": "scatter"
           }
          ],
          "scatter3d": [
           {
            "line": {
             "colorbar": {
              "outlinewidth": 0,
              "ticks": ""
             }
            },
            "marker": {
             "colorbar": {
              "outlinewidth": 0,
              "ticks": ""
             }
            },
            "type": "scatter3d"
           }
          ],
          "scattercarpet": [
           {
            "marker": {
             "colorbar": {
              "outlinewidth": 0,
              "ticks": ""
             }
            },
            "type": "scattercarpet"
           }
          ],
          "scattergeo": [
           {
            "marker": {
             "colorbar": {
              "outlinewidth": 0,
              "ticks": ""
             }
            },
            "type": "scattergeo"
           }
          ],
          "scattergl": [
           {
            "marker": {
             "colorbar": {
              "outlinewidth": 0,
              "ticks": ""
             }
            },
            "type": "scattergl"
           }
          ],
          "scattermapbox": [
           {
            "marker": {
             "colorbar": {
              "outlinewidth": 0,
              "ticks": ""
             }
            },
            "type": "scattermapbox"
           }
          ],
          "scatterpolar": [
           {
            "marker": {
             "colorbar": {
              "outlinewidth": 0,
              "ticks": ""
             }
            },
            "type": "scatterpolar"
           }
          ],
          "scatterpolargl": [
           {
            "marker": {
             "colorbar": {
              "outlinewidth": 0,
              "ticks": ""
             }
            },
            "type": "scatterpolargl"
           }
          ],
          "scatterternary": [
           {
            "marker": {
             "colorbar": {
              "outlinewidth": 0,
              "ticks": ""
             }
            },
            "type": "scatterternary"
           }
          ],
          "surface": [
           {
            "colorbar": {
             "outlinewidth": 0,
             "ticks": ""
            },
            "colorscale": [
             [
              0,
              "#0d0887"
             ],
             [
              0.1111111111111111,
              "#46039f"
             ],
             [
              0.2222222222222222,
              "#7201a8"
             ],
             [
              0.3333333333333333,
              "#9c179e"
             ],
             [
              0.4444444444444444,
              "#bd3786"
             ],
             [
              0.5555555555555556,
              "#d8576b"
             ],
             [
              0.6666666666666666,
              "#ed7953"
             ],
             [
              0.7777777777777778,
              "#fb9f3a"
             ],
             [
              0.8888888888888888,
              "#fdca26"
             ],
             [
              1,
              "#f0f921"
             ]
            ],
            "type": "surface"
           }
          ],
          "table": [
           {
            "cells": {
             "fill": {
              "color": "#EBF0F8"
             },
             "line": {
              "color": "white"
             }
            },
            "header": {
             "fill": {
              "color": "#C8D4E3"
             },
             "line": {
              "color": "white"
             }
            },
            "type": "table"
           }
          ]
         },
         "layout": {
          "annotationdefaults": {
           "arrowcolor": "#2a3f5f",
           "arrowhead": 0,
           "arrowwidth": 1
          },
          "coloraxis": {
           "colorbar": {
            "outlinewidth": 0,
            "ticks": ""
           }
          },
          "colorscale": {
           "diverging": [
            [
             0,
             "#8e0152"
            ],
            [
             0.1,
             "#c51b7d"
            ],
            [
             0.2,
             "#de77ae"
            ],
            [
             0.3,
             "#f1b6da"
            ],
            [
             0.4,
             "#fde0ef"
            ],
            [
             0.5,
             "#f7f7f7"
            ],
            [
             0.6,
             "#e6f5d0"
            ],
            [
             0.7,
             "#b8e186"
            ],
            [
             0.8,
             "#7fbc41"
            ],
            [
             0.9,
             "#4d9221"
            ],
            [
             1,
             "#276419"
            ]
           ],
           "sequential": [
            [
             0,
             "#0d0887"
            ],
            [
             0.1111111111111111,
             "#46039f"
            ],
            [
             0.2222222222222222,
             "#7201a8"
            ],
            [
             0.3333333333333333,
             "#9c179e"
            ],
            [
             0.4444444444444444,
             "#bd3786"
            ],
            [
             0.5555555555555556,
             "#d8576b"
            ],
            [
             0.6666666666666666,
             "#ed7953"
            ],
            [
             0.7777777777777778,
             "#fb9f3a"
            ],
            [
             0.8888888888888888,
             "#fdca26"
            ],
            [
             1,
             "#f0f921"
            ]
           ],
           "sequentialminus": [
            [
             0,
             "#0d0887"
            ],
            [
             0.1111111111111111,
             "#46039f"
            ],
            [
             0.2222222222222222,
             "#7201a8"
            ],
            [
             0.3333333333333333,
             "#9c179e"
            ],
            [
             0.4444444444444444,
             "#bd3786"
            ],
            [
             0.5555555555555556,
             "#d8576b"
            ],
            [
             0.6666666666666666,
             "#ed7953"
            ],
            [
             0.7777777777777778,
             "#fb9f3a"
            ],
            [
             0.8888888888888888,
             "#fdca26"
            ],
            [
             1,
             "#f0f921"
            ]
           ]
          },
          "colorway": [
           "#636efa",
           "#EF553B",
           "#00cc96",
           "#ab63fa",
           "#FFA15A",
           "#19d3f3",
           "#FF6692",
           "#B6E880",
           "#FF97FF",
           "#FECB52"
          ],
          "font": {
           "color": "#2a3f5f"
          },
          "geo": {
           "bgcolor": "white",
           "lakecolor": "white",
           "landcolor": "#E5ECF6",
           "showlakes": true,
           "showland": true,
           "subunitcolor": "white"
          },
          "hoverlabel": {
           "align": "left"
          },
          "hovermode": "closest",
          "mapbox": {
           "style": "light"
          },
          "paper_bgcolor": "white",
          "plot_bgcolor": "#E5ECF6",
          "polar": {
           "angularaxis": {
            "gridcolor": "white",
            "linecolor": "white",
            "ticks": ""
           },
           "bgcolor": "#E5ECF6",
           "radialaxis": {
            "gridcolor": "white",
            "linecolor": "white",
            "ticks": ""
           }
          },
          "scene": {
           "xaxis": {
            "backgroundcolor": "#E5ECF6",
            "gridcolor": "white",
            "gridwidth": 2,
            "linecolor": "white",
            "showbackground": true,
            "ticks": "",
            "zerolinecolor": "white"
           },
           "yaxis": {
            "backgroundcolor": "#E5ECF6",
            "gridcolor": "white",
            "gridwidth": 2,
            "linecolor": "white",
            "showbackground": true,
            "ticks": "",
            "zerolinecolor": "white"
           },
           "zaxis": {
            "backgroundcolor": "#E5ECF6",
            "gridcolor": "white",
            "gridwidth": 2,
            "linecolor": "white",
            "showbackground": true,
            "ticks": "",
            "zerolinecolor": "white"
           }
          },
          "shapedefaults": {
           "line": {
            "color": "#2a3f5f"
           }
          },
          "ternary": {
           "aaxis": {
            "gridcolor": "white",
            "linecolor": "white",
            "ticks": ""
           },
           "baxis": {
            "gridcolor": "white",
            "linecolor": "white",
            "ticks": ""
           },
           "bgcolor": "#E5ECF6",
           "caxis": {
            "gridcolor": "white",
            "linecolor": "white",
            "ticks": ""
           }
          },
          "title": {
           "x": 0.05
          },
          "xaxis": {
           "automargin": true,
           "gridcolor": "white",
           "linecolor": "white",
           "ticks": "",
           "title": {
            "standoff": 15
           },
           "zerolinecolor": "white",
           "zerolinewidth": 2
          },
          "yaxis": {
           "automargin": true,
           "gridcolor": "white",
           "linecolor": "white",
           "ticks": "",
           "title": {
            "standoff": 15
           },
           "zerolinecolor": "white",
           "zerolinewidth": 2
          }
         }
        },
        "title": {
         "text": "In-cluster similarity and between-cluster dissimilarity"
        },
        "xaxis": {
         "anchor": "y",
         "domain": [
          0,
          0.94
         ],
         "title": {
          "text": "Number of clusters"
         }
        },
        "yaxis": {
         "anchor": "x",
         "domain": [
          0,
          1
         ],
         "title": {
          "text": "<b>Distance value</b>"
         }
        },
        "yaxis2": {
         "anchor": "x",
         "overlaying": "y",
         "side": "right",
         "title": {
          "text": "<b>Average kappa value</b>"
         }
        }
       }
      },
      "text/html": [
       "<div>\n",
       "        \n",
       "        \n",
       "            <div id=\"d91b1981-c058-4219-a16f-ecacaa0ba01a\" class=\"plotly-graph-div\" style=\"height:525px; width:100%;\"></div>\n",
       "            <script type=\"text/javascript\">\n",
       "                require([\"plotly\"], function(Plotly) {\n",
       "                    window.PLOTLYENV=window.PLOTLYENV || {};\n",
       "                    \n",
       "                if (document.getElementById(\"d91b1981-c058-4219-a16f-ecacaa0ba01a\")) {\n",
       "                    Plotly.newPlot(\n",
       "                        'd91b1981-c058-4219-a16f-ecacaa0ba01a',\n",
       "                        [{\"mode\": \"markers\", \"name\": \"Distance value\", \"textposition\": \"top center\", \"type\": \"scatter\", \"x\": [2, 3, 4, 5, 6, 7, 8], \"xaxis\": \"x\", \"y\": [0.099, 0.0789, 0.0776, 0.075, 0.0748, 0.0728, 0.0717], \"yaxis\": \"y\"}, {\"mode\": \"markers\", \"name\": \"Similarity value\", \"textposition\": \"top center\", \"type\": \"scatter\", \"x\": [2, 3, 4, 5, 6, 7, 8], \"xaxis\": \"x\", \"y\": [0.9551243478137657, 0.9605362198404267, 0.9626363647697228, 0.9643160770295156, 0.9650422309703449, 0.9658157084218789, 0.9678786474813049], \"yaxis\": \"y2\"}],\n",
       "                        {\"template\": {\"data\": {\"bar\": [{\"error_x\": {\"color\": \"#2a3f5f\"}, \"error_y\": {\"color\": \"#2a3f5f\"}, \"marker\": {\"line\": {\"color\": \"#E5ECF6\", \"width\": 0.5}}, \"type\": \"bar\"}], \"barpolar\": [{\"marker\": {\"line\": {\"color\": \"#E5ECF6\", \"width\": 0.5}}, \"type\": \"barpolar\"}], \"carpet\": [{\"aaxis\": {\"endlinecolor\": \"#2a3f5f\", \"gridcolor\": \"white\", \"linecolor\": \"white\", \"minorgridcolor\": \"white\", \"startlinecolor\": \"#2a3f5f\"}, \"baxis\": {\"endlinecolor\": \"#2a3f5f\", \"gridcolor\": \"white\", \"linecolor\": \"white\", \"minorgridcolor\": \"white\", \"startlinecolor\": \"#2a3f5f\"}, \"type\": \"carpet\"}], \"choropleth\": [{\"colorbar\": {\"outlinewidth\": 0, \"ticks\": \"\"}, \"type\": \"choropleth\"}], \"contour\": [{\"colorbar\": {\"outlinewidth\": 0, \"ticks\": \"\"}, \"colorscale\": [[0.0, \"#0d0887\"], [0.1111111111111111, \"#46039f\"], [0.2222222222222222, \"#7201a8\"], [0.3333333333333333, \"#9c179e\"], [0.4444444444444444, \"#bd3786\"], [0.5555555555555556, \"#d8576b\"], [0.6666666666666666, \"#ed7953\"], [0.7777777777777778, \"#fb9f3a\"], [0.8888888888888888, \"#fdca26\"], [1.0, \"#f0f921\"]], \"type\": \"contour\"}], \"contourcarpet\": [{\"colorbar\": {\"outlinewidth\": 0, \"ticks\": \"\"}, \"type\": \"contourcarpet\"}], \"heatmap\": [{\"colorbar\": {\"outlinewidth\": 0, \"ticks\": \"\"}, \"colorscale\": [[0.0, \"#0d0887\"], [0.1111111111111111, \"#46039f\"], [0.2222222222222222, \"#7201a8\"], [0.3333333333333333, \"#9c179e\"], [0.4444444444444444, \"#bd3786\"], [0.5555555555555556, \"#d8576b\"], [0.6666666666666666, \"#ed7953\"], [0.7777777777777778, \"#fb9f3a\"], [0.8888888888888888, \"#fdca26\"], [1.0, \"#f0f921\"]], \"type\": \"heatmap\"}], \"heatmapgl\": [{\"colorbar\": {\"outlinewidth\": 0, \"ticks\": \"\"}, \"colorscale\": [[0.0, \"#0d0887\"], [0.1111111111111111, \"#46039f\"], [0.2222222222222222, \"#7201a8\"], [0.3333333333333333, \"#9c179e\"], [0.4444444444444444, \"#bd3786\"], [0.5555555555555556, \"#d8576b\"], [0.6666666666666666, \"#ed7953\"], [0.7777777777777778, \"#fb9f3a\"], [0.8888888888888888, \"#fdca26\"], [1.0, \"#f0f921\"]], \"type\": \"heatmapgl\"}], \"histogram\": [{\"marker\": {\"colorbar\": {\"outlinewidth\": 0, \"ticks\": \"\"}}, \"type\": \"histogram\"}], \"histogram2d\": [{\"colorbar\": {\"outlinewidth\": 0, \"ticks\": \"\"}, \"colorscale\": [[0.0, \"#0d0887\"], [0.1111111111111111, \"#46039f\"], [0.2222222222222222, \"#7201a8\"], [0.3333333333333333, \"#9c179e\"], [0.4444444444444444, \"#bd3786\"], [0.5555555555555556, \"#d8576b\"], [0.6666666666666666, \"#ed7953\"], [0.7777777777777778, \"#fb9f3a\"], [0.8888888888888888, \"#fdca26\"], [1.0, \"#f0f921\"]], \"type\": \"histogram2d\"}], \"histogram2dcontour\": [{\"colorbar\": {\"outlinewidth\": 0, \"ticks\": \"\"}, \"colorscale\": [[0.0, \"#0d0887\"], [0.1111111111111111, \"#46039f\"], [0.2222222222222222, \"#7201a8\"], [0.3333333333333333, \"#9c179e\"], [0.4444444444444444, \"#bd3786\"], [0.5555555555555556, \"#d8576b\"], [0.6666666666666666, \"#ed7953\"], [0.7777777777777778, \"#fb9f3a\"], [0.8888888888888888, \"#fdca26\"], [1.0, \"#f0f921\"]], \"type\": \"histogram2dcontour\"}], \"mesh3d\": [{\"colorbar\": {\"outlinewidth\": 0, \"ticks\": \"\"}, \"type\": \"mesh3d\"}], \"parcoords\": [{\"line\": {\"colorbar\": {\"outlinewidth\": 0, \"ticks\": \"\"}}, \"type\": \"parcoords\"}], \"pie\": [{\"automargin\": true, \"type\": \"pie\"}], \"scatter\": [{\"marker\": {\"colorbar\": {\"outlinewidth\": 0, \"ticks\": \"\"}}, \"type\": \"scatter\"}], \"scatter3d\": [{\"line\": {\"colorbar\": {\"outlinewidth\": 0, \"ticks\": \"\"}}, \"marker\": {\"colorbar\": {\"outlinewidth\": 0, \"ticks\": \"\"}}, \"type\": \"scatter3d\"}], \"scattercarpet\": [{\"marker\": {\"colorbar\": {\"outlinewidth\": 0, \"ticks\": \"\"}}, \"type\": \"scattercarpet\"}], \"scattergeo\": [{\"marker\": {\"colorbar\": {\"outlinewidth\": 0, \"ticks\": \"\"}}, \"type\": \"scattergeo\"}], \"scattergl\": [{\"marker\": {\"colorbar\": {\"outlinewidth\": 0, \"ticks\": \"\"}}, \"type\": \"scattergl\"}], \"scattermapbox\": [{\"marker\": {\"colorbar\": {\"outlinewidth\": 0, \"ticks\": \"\"}}, \"type\": \"scattermapbox\"}], \"scatterpolar\": [{\"marker\": {\"colorbar\": {\"outlinewidth\": 0, \"ticks\": \"\"}}, \"type\": \"scatterpolar\"}], \"scatterpolargl\": [{\"marker\": {\"colorbar\": {\"outlinewidth\": 0, \"ticks\": \"\"}}, \"type\": \"scatterpolargl\"}], \"scatterternary\": [{\"marker\": {\"colorbar\": {\"outlinewidth\": 0, \"ticks\": \"\"}}, \"type\": \"scatterternary\"}], \"surface\": [{\"colorbar\": {\"outlinewidth\": 0, \"ticks\": \"\"}, \"colorscale\": [[0.0, \"#0d0887\"], [0.1111111111111111, \"#46039f\"], [0.2222222222222222, \"#7201a8\"], [0.3333333333333333, \"#9c179e\"], [0.4444444444444444, \"#bd3786\"], [0.5555555555555556, \"#d8576b\"], [0.6666666666666666, \"#ed7953\"], [0.7777777777777778, \"#fb9f3a\"], [0.8888888888888888, \"#fdca26\"], [1.0, \"#f0f921\"]], \"type\": \"surface\"}], \"table\": [{\"cells\": {\"fill\": {\"color\": \"#EBF0F8\"}, \"line\": {\"color\": \"white\"}}, \"header\": {\"fill\": {\"color\": \"#C8D4E3\"}, \"line\": {\"color\": \"white\"}}, \"type\": \"table\"}]}, \"layout\": {\"annotationdefaults\": {\"arrowcolor\": \"#2a3f5f\", \"arrowhead\": 0, \"arrowwidth\": 1}, \"coloraxis\": {\"colorbar\": {\"outlinewidth\": 0, \"ticks\": \"\"}}, \"colorscale\": {\"diverging\": [[0, \"#8e0152\"], [0.1, \"#c51b7d\"], [0.2, \"#de77ae\"], [0.3, \"#f1b6da\"], [0.4, \"#fde0ef\"], [0.5, \"#f7f7f7\"], [0.6, \"#e6f5d0\"], [0.7, \"#b8e186\"], [0.8, \"#7fbc41\"], [0.9, \"#4d9221\"], [1, \"#276419\"]], \"sequential\": [[0.0, \"#0d0887\"], [0.1111111111111111, \"#46039f\"], [0.2222222222222222, \"#7201a8\"], [0.3333333333333333, \"#9c179e\"], [0.4444444444444444, \"#bd3786\"], [0.5555555555555556, \"#d8576b\"], [0.6666666666666666, \"#ed7953\"], [0.7777777777777778, \"#fb9f3a\"], [0.8888888888888888, \"#fdca26\"], [1.0, \"#f0f921\"]], \"sequentialminus\": [[0.0, \"#0d0887\"], [0.1111111111111111, \"#46039f\"], [0.2222222222222222, \"#7201a8\"], [0.3333333333333333, \"#9c179e\"], [0.4444444444444444, \"#bd3786\"], [0.5555555555555556, \"#d8576b\"], [0.6666666666666666, \"#ed7953\"], [0.7777777777777778, \"#fb9f3a\"], [0.8888888888888888, \"#fdca26\"], [1.0, \"#f0f921\"]]}, \"colorway\": [\"#636efa\", \"#EF553B\", \"#00cc96\", \"#ab63fa\", \"#FFA15A\", \"#19d3f3\", \"#FF6692\", \"#B6E880\", \"#FF97FF\", \"#FECB52\"], \"font\": {\"color\": \"#2a3f5f\"}, \"geo\": {\"bgcolor\": \"white\", \"lakecolor\": \"white\", \"landcolor\": \"#E5ECF6\", \"showlakes\": true, \"showland\": true, \"subunitcolor\": \"white\"}, \"hoverlabel\": {\"align\": \"left\"}, \"hovermode\": \"closest\", \"mapbox\": {\"style\": \"light\"}, \"paper_bgcolor\": \"white\", \"plot_bgcolor\": \"#E5ECF6\", \"polar\": {\"angularaxis\": {\"gridcolor\": \"white\", \"linecolor\": \"white\", \"ticks\": \"\"}, \"bgcolor\": \"#E5ECF6\", \"radialaxis\": {\"gridcolor\": \"white\", \"linecolor\": \"white\", \"ticks\": \"\"}}, \"scene\": {\"xaxis\": {\"backgroundcolor\": \"#E5ECF6\", \"gridcolor\": \"white\", \"gridwidth\": 2, \"linecolor\": \"white\", \"showbackground\": true, \"ticks\": \"\", \"zerolinecolor\": \"white\"}, \"yaxis\": {\"backgroundcolor\": \"#E5ECF6\", \"gridcolor\": \"white\", \"gridwidth\": 2, \"linecolor\": \"white\", \"showbackground\": true, \"ticks\": \"\", \"zerolinecolor\": \"white\"}, \"zaxis\": {\"backgroundcolor\": \"#E5ECF6\", \"gridcolor\": \"white\", \"gridwidth\": 2, \"linecolor\": \"white\", \"showbackground\": true, \"ticks\": \"\", \"zerolinecolor\": \"white\"}}, \"shapedefaults\": {\"line\": {\"color\": \"#2a3f5f\"}}, \"ternary\": {\"aaxis\": {\"gridcolor\": \"white\", \"linecolor\": \"white\", \"ticks\": \"\"}, \"baxis\": {\"gridcolor\": \"white\", \"linecolor\": \"white\", \"ticks\": \"\"}, \"bgcolor\": \"#E5ECF6\", \"caxis\": {\"gridcolor\": \"white\", \"linecolor\": \"white\", \"ticks\": \"\"}}, \"title\": {\"x\": 0.05}, \"xaxis\": {\"automargin\": true, \"gridcolor\": \"white\", \"linecolor\": \"white\", \"ticks\": \"\", \"title\": {\"standoff\": 15}, \"zerolinecolor\": \"white\", \"zerolinewidth\": 2}, \"yaxis\": {\"automargin\": true, \"gridcolor\": \"white\", \"linecolor\": \"white\", \"ticks\": \"\", \"title\": {\"standoff\": 15}, \"zerolinecolor\": \"white\", \"zerolinewidth\": 2}}}, \"title\": {\"text\": \"In-cluster similarity and between-cluster dissimilarity\"}, \"xaxis\": {\"anchor\": \"y\", \"domain\": [0.0, 0.94], \"title\": {\"text\": \"Number of clusters\"}}, \"yaxis\": {\"anchor\": \"x\", \"domain\": [0.0, 1.0], \"title\": {\"text\": \"<b>Distance value</b>\"}}, \"yaxis2\": {\"anchor\": \"x\", \"overlaying\": \"y\", \"side\": \"right\", \"title\": {\"text\": \"<b>Average kappa value</b>\"}}},\n",
       "                        {\"responsive\": true}\n",
       "                    ).then(function(){\n",
       "                            \n",
       "var gd = document.getElementById('d91b1981-c058-4219-a16f-ecacaa0ba01a');\n",
       "var x = new MutationObserver(function (mutations, observer) {{\n",
       "        var display = window.getComputedStyle(gd).display;\n",
       "        if (!display || display === 'none') {{\n",
       "            console.log([gd, 'removed!']);\n",
       "            Plotly.purge(gd);\n",
       "            observer.disconnect();\n",
       "        }}\n",
       "}});\n",
       "\n",
       "// Listen for the removal of the full notebook cells\n",
       "var notebookContainer = gd.closest('#notebook-container');\n",
       "if (notebookContainer) {{\n",
       "    x.observe(notebookContainer, {childList: true});\n",
       "}}\n",
       "\n",
       "// Listen for the clearing of the current output cell\n",
       "var outputEl = gd.closest('.output');\n",
       "if (outputEl) {{\n",
       "    x.observe(outputEl, {childList: true});\n",
       "}}\n",
       "\n",
       "                        })\n",
       "                };\n",
       "                });\n",
       "            </script>\n",
       "        </div>"
      ]
     },
     "metadata": {},
     "output_type": "display_data"
    }
   ],
   "source": [
    "import plotly.graph_objects as go\n",
    "from plotly.subplots import make_subplots\n",
    "\n",
    "# Create figure with secondary y-axis\n",
    "fig = make_subplots(specs=[[{\"secondary_y\": True}]])\n",
    "\n",
    "# Add traces\n",
    "fig.add_trace(\n",
    "    go.Scatter(x=[2,3,4,5,6,7,8], y=[0.099,0.0789,0.0776,0.0750,0.0748,0.0728,0.0717], name=\"Distance value\", mode = 'markers'),\n",
    "    secondary_y=False,\n",
    ")\n",
    "\n",
    "fig.add_trace(\n",
    "    go.Scatter(x=[2,3,4,5,6,7,8], y=[Average_2clusters, Average_3clusters, Average_4clusters, Average_5clusters, Average_6clusters, Average_7clusters, Average_8clusters], name=\"Similarity value\", mode = 'markers'),\n",
    "    secondary_y=True,\n",
    ")\n",
    "\n",
    "# Add figure title\n",
    "fig.update_layout(\n",
    "    title_text=\"In-cluster similarity and between-cluster dissimilarity\"\n",
    ")\n",
    "\n",
    "fig.update_traces(textposition='top center')\n",
    "\n",
    "# Set x-axis title\n",
    "fig.update_xaxes(title_text=\"Number of clusters\")\n",
    "\n",
    "# Set y-axes titles\n",
    "fig.update_yaxes(title_text=\"<b>Distance value</b>\", secondary_y=False)\n",
    "fig.update_yaxes(title_text=\"<b>Average kappa value</b>\", secondary_y=True)\n",
    "\n",
    "fig.show()\n",
    "fig.write_image(\"C:/Users/Admin_2/Documents/Thesis/NewExperiments/scatterrrrrr.png\")\n"
   ]
  },
  {
   "cell_type": "code",
   "execution_count": null,
   "metadata": {},
   "outputs": [],
   "source": []
  }
 ],
 "metadata": {
  "kernelspec": {
   "display_name": "Python 3",
   "language": "python",
   "name": "python3"
  },
  "language_info": {
   "codemirror_mode": {
    "name": "ipython",
    "version": 3
   },
   "file_extension": ".py",
   "mimetype": "text/x-python",
   "name": "python",
   "nbconvert_exporter": "python",
   "pygments_lexer": "ipython3",
   "version": "3.6.5"
  }
 },
 "nbformat": 4,
 "nbformat_minor": 2
}
